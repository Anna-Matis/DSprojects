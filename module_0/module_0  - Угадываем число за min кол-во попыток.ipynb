{
 "cells": [
  {
   "cell_type": "code",
   "execution_count": 1,
   "metadata": {},
   "outputs": [
    {
     "name": "stdout",
     "output_type": "stream",
     "text": [
      "Ваш алгоритм угадывает число в среднем за 3 попыток\n"
     ]
    },
    {
     "data": {
      "text/plain": [
       "3"
      ]
     },
     "execution_count": 1,
     "metadata": {},
     "output_type": "execute_result"
    }
   ],
   "source": [
    "import numpy as np\n",
    "\n",
    "def game_core_v2(number):\n",
    "    '''Сначала устанавливаем любое random число, а потом уменьшаем или увеличиваем его в зависимости от того, \n",
    "    больше оно или меньше нужного.\n",
    "       Функция принимает загаданное число и возвращает число попыток'''\n",
    "    count = 1                                   # счетчик попыток\n",
    "    predict = np.random.randint(1,101)          # загадали число\n",
    "    while number != predict:                    # проверка соблюдения цикла\n",
    "        count+=1                                # плюсуем попытку\n",
    "        if number > predict:                    # проверяем соблюдение условия: number > predict\n",
    "            count +=1                           # плюсуем попытку\n",
    "            if number <= 25:                    # проверяем отрезок 1 <= number <= 25\n",
    "                predict += 1\n",
    "            elif number > 25:                   # если number выходит за пределы отрезка, прерываем цикл\n",
    "                break\n",
    "        elif number > predict:                                                  \n",
    "            count +=1\n",
    "            if 26 < number <= 50:               # проверяем отрезок 26 < number <= 50\n",
    "                predict += 1\n",
    "            elif number <= 26 or number > 50:\n",
    "                break\n",
    "        elif number > predict:\n",
    "            count +=1\n",
    "            if 51 < number <= 75: \n",
    "                predict += 1\n",
    "            elif number <= 51 or number > 75:   # проверяем отрезок 51 < number <= 75\n",
    "                break  \n",
    "        elif number > predict:\n",
    "            count +=1\n",
    "            if 76 < number <= 100: \n",
    "                predict += 1\n",
    "            elif number <= 76 or number > 100:  # проверяем отрезок 76 < number <= 100\n",
    "                break    \n",
    "        elif number < predict:                  # проверяем соблюдение условия: number < predict\n",
    "            count +=1\n",
    "            if predict <= 25:                   # проверяем отрезок 1 <= predict <= 25\n",
    "                predict -= 1\n",
    "            elif predict > 25:                \n",
    "                break\n",
    "        elif number < predict:\n",
    "            count +=1\n",
    "            if 26 < predict <= 50:              # проверяем отрезок 26 < predict <= 50\n",
    "                predict -= 1\n",
    "            elif predict <= 26 or predict > 50:\n",
    "                break\n",
    "        elif number < predict:\n",
    "            count +=1\n",
    "            if 51 < predict <= 75:              # проверяем отрезок 51 < predict <= 75\n",
    "                predict -= 1\n",
    "            elif predict <= 51 or predict > 75:\n",
    "                break\n",
    "        elif number < predict:\n",
    "            count +=1\n",
    "            if 76 < predict <= 100:             # проверяем отрезок 76 < predict <= 100\n",
    "                predict -= 1\n",
    "            elif predict <= 76 or predict > 100:\n",
    "                break\n",
    "    return(count) # выход из цикла, если угадали\n",
    "\n",
    "def score_game(game_core):\n",
    "    '''Запускаем игру 1000 раз, чтобы узнать, как быстро игра угадывает число'''\n",
    "    count_ls = []\n",
    "    np.random.seed(1)  # фиксируем RANDOM SEED, чтобы ваш эксперимент был воспроизводим!\n",
    "    random_array = np.random.randint(1,101, size=(1000))\n",
    "    for number in random_array:\n",
    "        count_ls.append(game_core(number))\n",
    "    score = int(np.mean(count_ls))\n",
    "    print(f\"Ваш алгоритм угадывает число в среднем за {score} попыток\")\n",
    "    return(score)\n",
    "\n",
    "# запускаем\n",
    "score_game(game_core_v2)"
   ]
  },
  {
   "cell_type": "code",
   "execution_count": null,
   "metadata": {},
   "outputs": [],
   "source": []
  }
 ],
 "metadata": {
  "kernelspec": {
   "display_name": "Python 3",
   "language": "python",
   "name": "python3"
  },
  "language_info": {
   "codemirror_mode": {
    "name": "ipython",
    "version": 3
   },
   "file_extension": ".py",
   "mimetype": "text/x-python",
   "name": "python",
   "nbconvert_exporter": "python",
   "pygments_lexer": "ipython3",
   "version": "3.8.5"
  }
 },
 "nbformat": 4,
 "nbformat_minor": 4
}
