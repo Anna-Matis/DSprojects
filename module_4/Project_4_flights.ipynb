{
 "cells": [
  {
   "cell_type": "markdown",
   "metadata": {
    "id": "cu9-KsB_uiR7"
   },
   "source": [
    "Суть проекта — подготовить датасет на основе данных, полученных путем SQL запросов к базе данных (БД) об авиарейсах по России из открытого источника, и на основании их провести разведывательный анализ, а также составить отчёт по его результатам.\n",
    "\n",
    "Для анализа берется информация об авиарейсах из города Анапа в зимнее время за 2017 год.\n",
    "\n",
    "Существует следующая проблема: не все рейсы из города Анапа окупаются в \"низкий сезон\". При этом есть потенциально прибыльные направления, но у компании не хватает самолетов для их запуска.\n",
    "\n",
    "Отсюда ставится задача:\n",
    "Отследить малоприбыльные рейсы, от которых впоследствии можно отказаться, либо предложить иные пути увеличения прибыльности.\n",
    "\n",
    "Мы будем использовать самую простую модель оценки прибыльности: \\\n",
    "\"Доход от продажи билетов - Расходы на топливо\" в разрезе рейса. \n",
    "\n",
    "Расходы на авиаГСМ рассчитываются по уравнению вида: \n",
    "\n",
    "Э = (С*Q/1000)*T,\n",
    "\n",
    "Где С - стоимость 1 тонны топлива, руб./т; \\\n",
    "Q - среднечасовой расход топлива, кг/ч; \\\n",
    "T - длительность полета, ч.\n",
    "\n",
    "Ссылки на внешние источники данных:\n",
    "1) ЦЕНЫ НА АВИАГСМ: \\\n",
    "https://favt.gov.ru/dejatelnost-ajeroporty-i-ajerodromy-ceny-na-aviagsm/ \\\n",
    "2) Часовой расход топлива (кг/ч) для модели BOEING 737-300: \\\n",
    "https://www.airlines-inform.ru/commercial-aircraft/boeing-737-300.html \\\n",
    "3) Часовой расход топлива (кг/ч) для модели Sukhoi Superjet-100: \\\n",
    "https://www.rbc.ru/economics/26/10/2010/5703dfc19a79473c0df1619a"
   ]
  },
  {
   "cell_type": "markdown",
   "metadata": {
    "id": "ZqD1PZU2uiSB"
   },
   "source": [
    "Для начала ознакомимся с БД (ссылка на источник: https://postgrespro.ru/docs/postgrespro/10/demodb-bookings):"
   ]
  },
  {
   "cell_type": "code",
   "execution_count": 1,
   "metadata": {
    "colab": {
     "base_uri": "https://localhost:8080/",
     "height": 626
    },
    "executionInfo": {
     "elapsed": 10,
     "status": "ok",
     "timestamp": 1638329674887,
     "user": {
      "displayName": "An Mat",
      "photoUrl": "https://lh3.googleusercontent.com/a/default-user=s64",
      "userId": "17855782157325435961"
     },
     "user_tz": -600
    },
    "id": "a7JqqRssuiSC",
    "outputId": "296daf53-2723-41f8-cb99-ea1b5874ee3b"
   },
   "outputs": [
    {
     "data": {
      "text/html": [
       "<img src=\"https://postgrespro.ru/media/docs/postgrespro/10/ru/demodb-bookings-schema.svg\"/>"
      ],
      "text/plain": [
       "<IPython.core.display.Image object>"
      ]
     },
     "execution_count": 1,
     "metadata": {},
     "output_type": "execute_result"
    }
   ],
   "source": [
    "# ДИАГРАММА СХЕМЫ ДАННЫХ\n",
    "\n",
    "from IPython.display import Image\n",
    "from IPython.core.display import HTML \n",
    "Image(url= \"https://postgrespro.ru/media/docs/postgrespro/10/ru/demodb-bookings-schema.svg\")"
   ]
  },
  {
   "cell_type": "markdown",
   "metadata": {
    "id": "16n2zVYruiSE"
   },
   "source": [
    "ОПИСАНИЕ СХЕМЫ\n",
    "\n",
    "Основной сущностью является таблица бронирований (bookings).\n",
    "\n",
    "В одно бронирование можно включить несколько пассажиров, каждому из которых выписывается отдельный билет (tickets). Билет имеет уникальный номер и содержит информацию о пассажире. Как таковой пассажир не является отдельной сущностью. Как имя, так и номер документа пассажира могут меняться с течением времени, так что невозможно однозначно найти все билеты одного человека; для простоты можно считать, что все пассажиры уникальны.\n",
    "\n",
    "Билет включает один или несколько перелетов (ticket_flights). Несколько перелетов могут входить в билет в случаях, когда нет прямого рейса, соединяющего пункты отправления и назначения (полёт с пересадками), либо когда билет взят «туда и обратно». В схеме данных нет жёсткого ограничения, но предполагается, что все билеты в одном бронировании имеют одинаковый набор перелетов.\n",
    "\n",
    "Каждый рейс (flights) следует из одного аэропорта (airports) в другой. Рейсы с одним номером имеют одинаковые пункты вылета и назначения, но будут отличаться датой отправления.\n",
    "\n",
    "При регистрации на рейс пассажиру выдаётся посадочный талон (boarding_passes), в котором указано место в самолете. Пассажир может зарегистрироваться только на тот рейс, который есть у него в билете. Комбинация рейса и места в самолете должна быть уникальной, чтобы не допустить выдачу двух посадочных талонов на одно место.\n",
    "\n",
    "Количество мест (seats) в самолете и их распределение по классам обслуживания зависит от модели самолета (aircrafts), выполняющего рейс. Предполагается, что каждая модель самолета имеет только одну компоновку салона. Схема данных не контролирует, что места в посадочных талонах соответствуют имеющимся в самолете (такая проверка может быть сделана с использованием табличных триггеров или в приложении)."
   ]
  },
  {
   "cell_type": "markdown",
   "metadata": {
    "id": "66HpBeNUuiSF"
   },
   "source": [
    "Приступим к изучению датасета, сформированного на основании SQL запросов к БД"
   ]
  },
  {
   "cell_type": "code",
   "execution_count": 2,
   "metadata": {
    "id": "t0ZbalxCuiSG"
   },
   "outputs": [],
   "source": [
    "import pandas as pd\n",
    "import numpy as np\n",
    "import matplotlib.pyplot as plt\n",
    "import seaborn as sns\n",
    "%matplotlib inline\n",
    "\n",
    "pd.set_option('display.max_rows', 50) # показывать больше строк\n",
    "pd.set_option('display.max_columns', 50) # показывать больше колонок\n",
    "\n",
    "flight = pd.read_csv('project_4_flights.csv')"
   ]
  },
  {
   "cell_type": "markdown",
   "metadata": {
    "id": "_-EeRqRRuiSH"
   },
   "source": [
    "Рассмотрим, какие данные хранятся в файле. Ознакомимся с типом данных у столбцов:"
   ]
  },
  {
   "cell_type": "code",
   "execution_count": 3,
   "metadata": {
    "colab": {
     "base_uri": "https://localhost:8080/",
     "height": 574
    },
    "executionInfo": {
     "elapsed": 109,
     "status": "ok",
     "timestamp": 1638329675655,
     "user": {
      "displayName": "An Mat",
      "photoUrl": "https://lh3.googleusercontent.com/a/default-user=s64",
      "userId": "17855782157325435961"
     },
     "user_tz": -600
    },
    "id": "zP2pIN6EuiSI",
    "outputId": "6dada992-4b9c-435d-9bba-70e11dfa1ebd",
    "scrolled": true
   },
   "outputs": [
    {
     "data": {
      "text/html": [
       "<div>\n",
       "<style scoped>\n",
       "    .dataframe tbody tr th:only-of-type {\n",
       "        vertical-align: middle;\n",
       "    }\n",
       "\n",
       "    .dataframe tbody tr th {\n",
       "        vertical-align: top;\n",
       "    }\n",
       "\n",
       "    .dataframe thead th {\n",
       "        text-align: right;\n",
       "    }\n",
       "</style>\n",
       "<table border=\"1\" class=\"dataframe\">\n",
       "  <thead>\n",
       "    <tr style=\"text-align: right;\">\n",
       "      <th></th>\n",
       "      <th>flight_id</th>\n",
       "      <th>flight_no</th>\n",
       "      <th>city_depart</th>\n",
       "      <th>city_arrive</th>\n",
       "      <th>scheduled_departure</th>\n",
       "      <th>scheduled_arrival</th>\n",
       "      <th>fl_month</th>\n",
       "      <th>flight_minute</th>\n",
       "      <th>model</th>\n",
       "      <th>class_available</th>\n",
       "      <th>seat_available</th>\n",
       "      <th>ticket_no</th>\n",
       "      <th>class_occupied</th>\n",
       "      <th>seat_occupied</th>\n",
       "      <th>ticket_price</th>\n",
       "    </tr>\n",
       "  </thead>\n",
       "  <tbody>\n",
       "    <tr>\n",
       "      <th>1055</th>\n",
       "      <td>136159</td>\n",
       "      <td>PG0252</td>\n",
       "      <td>Anapa</td>\n",
       "      <td>Moscow</td>\n",
       "      <td>2017-01-04T10:05:00Z</td>\n",
       "      <td>2017-01-04T11:45:00Z</td>\n",
       "      <td>1.0</td>\n",
       "      <td>100.0</td>\n",
       "      <td>Boeing 737-300</td>\n",
       "      <td>Economy</td>\n",
       "      <td>7A</td>\n",
       "      <td>5.432333e+09</td>\n",
       "      <td>Economy</td>\n",
       "      <td>7A</td>\n",
       "      <td>12200.0</td>\n",
       "    </tr>\n",
       "    <tr>\n",
       "      <th>6457</th>\n",
       "      <td>136439</td>\n",
       "      <td>PG0252</td>\n",
       "      <td>Anapa</td>\n",
       "      <td>Moscow</td>\n",
       "      <td>2017-02-25T10:05:00Z</td>\n",
       "      <td>2017-02-25T11:45:00Z</td>\n",
       "      <td>2.0</td>\n",
       "      <td>100.0</td>\n",
       "      <td>Boeing 737-300</td>\n",
       "      <td>Economy</td>\n",
       "      <td>11C</td>\n",
       "      <td>5.434148e+09</td>\n",
       "      <td>Economy</td>\n",
       "      <td>11C</td>\n",
       "      <td>13400.0</td>\n",
       "    </tr>\n",
       "    <tr>\n",
       "      <th>10169</th>\n",
       "      <td>136660</td>\n",
       "      <td>PG0480</td>\n",
       "      <td>Anapa</td>\n",
       "      <td>Belgorod</td>\n",
       "      <td>2017-02-20T09:25:00Z</td>\n",
       "      <td>2017-02-20T10:15:00Z</td>\n",
       "      <td>2.0</td>\n",
       "      <td>50.0</td>\n",
       "      <td>Sukhoi Superjet-100</td>\n",
       "      <td>Economy</td>\n",
       "      <td>19D</td>\n",
       "      <td>5.432376e+09</td>\n",
       "      <td>Economy</td>\n",
       "      <td>19D</td>\n",
       "      <td>6300.0</td>\n",
       "    </tr>\n",
       "    <tr>\n",
       "      <th>951</th>\n",
       "      <td>136146</td>\n",
       "      <td>PG0252</td>\n",
       "      <td>Anapa</td>\n",
       "      <td>Moscow</td>\n",
       "      <td>2017-02-09T10:05:00Z</td>\n",
       "      <td>2017-02-09T11:45:00Z</td>\n",
       "      <td>2.0</td>\n",
       "      <td>100.0</td>\n",
       "      <td>Boeing 737-300</td>\n",
       "      <td>Economy</td>\n",
       "      <td>15B</td>\n",
       "      <td>5.432351e+09</td>\n",
       "      <td>Economy</td>\n",
       "      <td>15B</td>\n",
       "      <td>12200.0</td>\n",
       "    </tr>\n",
       "    <tr>\n",
       "      <th>10559</th>\n",
       "      <td>136672</td>\n",
       "      <td>PG0480</td>\n",
       "      <td>Anapa</td>\n",
       "      <td>Belgorod</td>\n",
       "      <td>2017-02-03T09:25:00Z</td>\n",
       "      <td>2017-02-03T10:15:00Z</td>\n",
       "      <td>2.0</td>\n",
       "      <td>50.0</td>\n",
       "      <td>Sukhoi Superjet-100</td>\n",
       "      <td>Economy</td>\n",
       "      <td>18A</td>\n",
       "      <td>5.432376e+09</td>\n",
       "      <td>Economy</td>\n",
       "      <td>18A</td>\n",
       "      <td>6300.0</td>\n",
       "    </tr>\n",
       "    <tr>\n",
       "      <th>694</th>\n",
       "      <td>136132</td>\n",
       "      <td>PG0252</td>\n",
       "      <td>Anapa</td>\n",
       "      <td>Moscow</td>\n",
       "      <td>2017-02-15T10:05:00Z</td>\n",
       "      <td>2017-02-15T11:45:00Z</td>\n",
       "      <td>2.0</td>\n",
       "      <td>100.0</td>\n",
       "      <td>Boeing 737-300</td>\n",
       "      <td>Economy</td>\n",
       "      <td>11B</td>\n",
       "      <td>5.432352e+09</td>\n",
       "      <td>Economy</td>\n",
       "      <td>11B</td>\n",
       "      <td>13400.0</td>\n",
       "    </tr>\n",
       "    <tr>\n",
       "      <th>8270</th>\n",
       "      <td>136540</td>\n",
       "      <td>PG0194</td>\n",
       "      <td>Anapa</td>\n",
       "      <td>Novokuznetsk</td>\n",
       "      <td>2017-01-17T06:10:00Z</td>\n",
       "      <td>2017-01-17T11:15:00Z</td>\n",
       "      <td>1.0</td>\n",
       "      <td>305.0</td>\n",
       "      <td>Boeing 737-300</td>\n",
       "      <td>Economy</td>\n",
       "      <td>5B</td>\n",
       "      <td>NaN</td>\n",
       "      <td>NaN</td>\n",
       "      <td>NaN</td>\n",
       "      <td>NaN</td>\n",
       "    </tr>\n",
       "    <tr>\n",
       "      <th>13252</th>\n",
       "      <td>136869</td>\n",
       "      <td>PG0480</td>\n",
       "      <td>Anapa</td>\n",
       "      <td>Belgorod</td>\n",
       "      <td>2017-01-31T09:25:00Z</td>\n",
       "      <td>2017-01-31T10:15:00Z</td>\n",
       "      <td>1.0</td>\n",
       "      <td>50.0</td>\n",
       "      <td>Sukhoi Superjet-100</td>\n",
       "      <td>Economy</td>\n",
       "      <td>13A</td>\n",
       "      <td>5.432320e+09</td>\n",
       "      <td>Economy</td>\n",
       "      <td>13A</td>\n",
       "      <td>6300.0</td>\n",
       "    </tr>\n",
       "    <tr>\n",
       "      <th>3088</th>\n",
       "      <td>136266</td>\n",
       "      <td>PG0252</td>\n",
       "      <td>Anapa</td>\n",
       "      <td>Moscow</td>\n",
       "      <td>2017-02-27T10:05:00Z</td>\n",
       "      <td>2017-02-27T11:45:00Z</td>\n",
       "      <td>2.0</td>\n",
       "      <td>100.0</td>\n",
       "      <td>Boeing 737-300</td>\n",
       "      <td>Economy</td>\n",
       "      <td>20F</td>\n",
       "      <td>5.435173e+09</td>\n",
       "      <td>Economy</td>\n",
       "      <td>20F</td>\n",
       "      <td>12200.0</td>\n",
       "    </tr>\n",
       "    <tr>\n",
       "      <th>1070</th>\n",
       "      <td>136159</td>\n",
       "      <td>PG0252</td>\n",
       "      <td>Anapa</td>\n",
       "      <td>Moscow</td>\n",
       "      <td>2017-01-04T10:05:00Z</td>\n",
       "      <td>2017-01-04T11:45:00Z</td>\n",
       "      <td>1.0</td>\n",
       "      <td>100.0</td>\n",
       "      <td>Boeing 737-300</td>\n",
       "      <td>Economy</td>\n",
       "      <td>4A</td>\n",
       "      <td>5.432349e+09</td>\n",
       "      <td>Economy</td>\n",
       "      <td>4A</td>\n",
       "      <td>12200.0</td>\n",
       "    </tr>\n",
       "  </tbody>\n",
       "</table>\n",
       "</div>"
      ],
      "text/plain": [
       "       flight_id flight_no city_depart   city_arrive   scheduled_departure  \\\n",
       "1055      136159    PG0252       Anapa        Moscow  2017-01-04T10:05:00Z   \n",
       "6457      136439    PG0252       Anapa        Moscow  2017-02-25T10:05:00Z   \n",
       "10169     136660    PG0480       Anapa      Belgorod  2017-02-20T09:25:00Z   \n",
       "951       136146    PG0252       Anapa        Moscow  2017-02-09T10:05:00Z   \n",
       "10559     136672    PG0480       Anapa      Belgorod  2017-02-03T09:25:00Z   \n",
       "694       136132    PG0252       Anapa        Moscow  2017-02-15T10:05:00Z   \n",
       "8270      136540    PG0194       Anapa  Novokuznetsk  2017-01-17T06:10:00Z   \n",
       "13252     136869    PG0480       Anapa      Belgorod  2017-01-31T09:25:00Z   \n",
       "3088      136266    PG0252       Anapa        Moscow  2017-02-27T10:05:00Z   \n",
       "1070      136159    PG0252       Anapa        Moscow  2017-01-04T10:05:00Z   \n",
       "\n",
       "          scheduled_arrival  fl_month  flight_minute                model  \\\n",
       "1055   2017-01-04T11:45:00Z       1.0          100.0       Boeing 737-300   \n",
       "6457   2017-02-25T11:45:00Z       2.0          100.0       Boeing 737-300   \n",
       "10169  2017-02-20T10:15:00Z       2.0           50.0  Sukhoi Superjet-100   \n",
       "951    2017-02-09T11:45:00Z       2.0          100.0       Boeing 737-300   \n",
       "10559  2017-02-03T10:15:00Z       2.0           50.0  Sukhoi Superjet-100   \n",
       "694    2017-02-15T11:45:00Z       2.0          100.0       Boeing 737-300   \n",
       "8270   2017-01-17T11:15:00Z       1.0          305.0       Boeing 737-300   \n",
       "13252  2017-01-31T10:15:00Z       1.0           50.0  Sukhoi Superjet-100   \n",
       "3088   2017-02-27T11:45:00Z       2.0          100.0       Boeing 737-300   \n",
       "1070   2017-01-04T11:45:00Z       1.0          100.0       Boeing 737-300   \n",
       "\n",
       "      class_available seat_available     ticket_no class_occupied  \\\n",
       "1055          Economy             7A  5.432333e+09        Economy   \n",
       "6457          Economy            11C  5.434148e+09        Economy   \n",
       "10169         Economy            19D  5.432376e+09        Economy   \n",
       "951           Economy            15B  5.432351e+09        Economy   \n",
       "10559         Economy            18A  5.432376e+09        Economy   \n",
       "694           Economy            11B  5.432352e+09        Economy   \n",
       "8270          Economy             5B           NaN            NaN   \n",
       "13252         Economy            13A  5.432320e+09        Economy   \n",
       "3088          Economy            20F  5.435173e+09        Economy   \n",
       "1070          Economy             4A  5.432349e+09        Economy   \n",
       "\n",
       "      seat_occupied  ticket_price  \n",
       "1055             7A       12200.0  \n",
       "6457            11C       13400.0  \n",
       "10169           19D        6300.0  \n",
       "951             15B       12200.0  \n",
       "10559           18A        6300.0  \n",
       "694             11B       13400.0  \n",
       "8270            NaN           NaN  \n",
       "13252           13A        6300.0  \n",
       "3088            20F       12200.0  \n",
       "1070             4A       12200.0  "
      ]
     },
     "execution_count": 3,
     "metadata": {},
     "output_type": "execute_result"
    }
   ],
   "source": [
    "flight.sample(10)"
   ]
  },
  {
   "cell_type": "code",
   "execution_count": 4,
   "metadata": {
    "colab": {
     "base_uri": "https://localhost:8080/"
    },
    "executionInfo": {
     "elapsed": 106,
     "status": "ok",
     "timestamp": 1638329675655,
     "user": {
      "displayName": "An Mat",
      "photoUrl": "https://lh3.googleusercontent.com/a/default-user=s64",
      "userId": "17855782157325435961"
     },
     "user_tz": -600
    },
    "id": "ml5HvaORuiSJ",
    "outputId": "a1a8e57c-ef88-4ecd-c762-4214b165456b"
   },
   "outputs": [
    {
     "name": "stdout",
     "output_type": "stream",
     "text": [
      "<class 'pandas.core.frame.DataFrame'>\n",
      "RangeIndex: 14563 entries, 0 to 14562\n",
      "Data columns (total 15 columns):\n",
      " #   Column               Non-Null Count  Dtype  \n",
      "---  ------               --------------  -----  \n",
      " 0   flight_id            14563 non-null  int64  \n",
      " 1   flight_no            14563 non-null  object \n",
      " 2   city_depart          14563 non-null  object \n",
      " 3   city_arrive          14563 non-null  object \n",
      " 4   scheduled_departure  14563 non-null  object \n",
      " 5   scheduled_arrival    14563 non-null  object \n",
      " 6   fl_month             14563 non-null  float64\n",
      " 7   flight_minute        14563 non-null  float64\n",
      " 8   model                14563 non-null  object \n",
      " 9   class_available      14563 non-null  object \n",
      " 10  seat_available       14563 non-null  object \n",
      " 11  ticket_no            11995 non-null  float64\n",
      " 12  class_occupied       11995 non-null  object \n",
      " 13  seat_occupied        11995 non-null  object \n",
      " 14  ticket_price         11995 non-null  float64\n",
      "dtypes: float64(4), int64(1), object(10)\n",
      "memory usage: 1.7+ MB\n"
     ]
    }
   ],
   "source": [
    "flight.info()"
   ]
  },
  {
   "cell_type": "markdown",
   "metadata": {
    "id": "M7hmHxVKuiSK"
   },
   "source": [
    "Датасет содержит 5 числовых и 10 строковых столбцов. Имеются столбцы с отсутствующими значениями. Они будут использованы для дальнейшего анализа."
   ]
  },
  {
   "cell_type": "markdown",
   "metadata": {
    "id": "7Rq_GZ-BuiSL"
   },
   "source": [
    "Подробнее по признакам:\n",
    "\n",
    "flight_id: Идентификатор (ID) рейса \\\n",
    "flight_no: Номер рейса \\\n",
    "city_depart: Город отправления \\\n",
    "city_arrive: Город прибытия \\\n",
    "scheduled_departure: Время вылета по расписанию \\\n",
    "scheduled_arrival: Время прилета по расписанию \\\n",
    "fl_month: Номер месяца перелета \\\n",
    "flight_minute: Время полета в минутах \\\n",
    "model: Модель самолета \\\n",
    "class_available: Класс обслуживания (по схеме борта) \\\n",
    "seat_available: Номер места (все места борта) \\\n",
    "ticket_no: Номер билета \\\n",
    "class_occupied: Класс обслуживания по проданному билету \\\n",
    "seat_occupied: Номер проданного места \\\n",
    "ticket_price: Стоимость билета"
   ]
  },
  {
   "cell_type": "code",
   "execution_count": 5,
   "metadata": {
    "id": "jVzutMB_uiSL"
   },
   "outputs": [],
   "source": [
    "def unique_col(column):   # функция для подсчета уникальных значений\n",
    "    print('столбец {}:'.format(column))\n",
    "    return flight[column].unique(), \\\n",
    "    'количество уникальных значений - {}'.format(flight[column].nunique())\n",
    "\n",
    "\n",
    "def fill_ticket_price(row):  # функция для заполнения колонки \"ticket_price\"\n",
    "    if row.model == 'Boeing 737-300':\n",
    "        if row.class_available == 'Business':\n",
    "            return 36600\n",
    "        elif row.class_available == 'Economy' \\\n",
    "        and row.seat_available in ['11E', '11A', '11C', '11B', '11F', '11D']:\n",
    "            return 13400\n",
    "        else:\n",
    "            return 12200\n",
    "    else:\n",
    "        if row.class_available == 'Business':\n",
    "            return 18900\n",
    "        elif row.class_available == 'Economy' \\\n",
    "        and row.seat_available in ['6A', '6C', '6F', '6E', '6D']:\n",
    "            return 6900\n",
    "        else:\n",
    "            return 6300"
   ]
  },
  {
   "cell_type": "code",
   "execution_count": 6,
   "metadata": {
    "id": "AWjR9A-yuiSM"
   },
   "outputs": [],
   "source": [
    "# отформатируем значение колонки, приведем к целому числу\n",
    "flight['ticket_no'] = flight['ticket_no'].apply(lambda x: \"{:.0f}\".format(x))"
   ]
  },
  {
   "cell_type": "code",
   "execution_count": 7,
   "metadata": {
    "colab": {
     "base_uri": "https://localhost:8080/"
    },
    "executionInfo": {
     "elapsed": 83,
     "status": "ok",
     "timestamp": 1638329676466,
     "user": {
      "displayName": "An Mat",
      "photoUrl": "https://lh3.googleusercontent.com/a/default-user=s64",
      "userId": "17855782157325435961"
     },
     "user_tz": -600
    },
    "id": "SWe5wcWHuiSN",
    "outputId": "24e6cd67-ff25-47a5-f313-4cc53c6b3e59"
   },
   "outputs": [
    {
     "data": {
      "text/plain": [
       "5432319272       1\n",
       "5432375050       1\n",
       "5432375087       1\n",
       "5432376612       1\n",
       "5435171558       1\n",
       "              ... \n",
       "5432375396       1\n",
       "5435171187       1\n",
       "5432376028       1\n",
       "5432374790       1\n",
       "nan           2568\n",
       "Name: ticket_no, Length: 11996, dtype: int64"
      ]
     },
     "execution_count": 7,
     "metadata": {},
     "output_type": "execute_result"
    }
   ],
   "source": [
    "flight['ticket_no'].value_counts().sort_values()"
   ]
  },
  {
   "cell_type": "markdown",
   "metadata": {
    "id": "qwN9fu2YuiSN"
   },
   "source": [
    "Как видим, имеются пустые значения в столбце 'ticket_no'. Они нам понадобятся в дальнейшем для оценки максимально возможной прибыли, при полной заполненности рейса. \n",
    "\n",
    "Ознакомимся с уникальными значениями, содержащимися в каждом столбце. Применим функцию unique_col(column):"
   ]
  },
  {
   "cell_type": "code",
   "execution_count": 8,
   "metadata": {
    "colab": {
     "base_uri": "https://localhost:8080/",
     "height": 1000
    },
    "executionInfo": {
     "elapsed": 75,
     "status": "ok",
     "timestamp": 1638329676467,
     "user": {
      "displayName": "An Mat",
      "photoUrl": "https://lh3.googleusercontent.com/a/default-user=s64",
      "userId": "17855782157325435961"
     },
     "user_tz": -600
    },
    "id": "lHd49QD_uiSN",
    "outputId": "074be84e-59d2-45cb-ee7a-a6f6a8c16fe5",
    "scrolled": true
   },
   "outputs": [
    {
     "name": "stdout",
     "output_type": "stream",
     "text": [
      "столбец flight_id:\n"
     ]
    },
    {
     "data": {
      "text/plain": [
       "(array([136119, 136120, 136122, 136130, 136131, 136132, 136135, 136146,\n",
       "        136159, 136164, 136165, 136172, 136178, 136181, 136185, 136202,\n",
       "        136204, 136209, 136215, 136226, 136249, 136250, 136264, 136266,\n",
       "        136268, 136269, 136270, 136275, 136282, 136284, 136293, 136310,\n",
       "        136316, 136320, 136322, 136345, 136348, 136351, 136360, 136366,\n",
       "        136383, 136387, 136389, 136403, 136411, 136420, 136423, 136428,\n",
       "        136436, 136439, 136441, 136452, 136458, 136463, 136464, 136471,\n",
       "        136479, 136485, 136486, 136511, 136513, 136514, 136523, 136540,\n",
       "        136544, 136546, 136560, 136567, 136571, 136586, 136600, 136605,\n",
       "        136609, 136612, 136620, 136630, 136632, 136642, 136645, 136649,\n",
       "        136654, 136660, 136661, 136666, 136669, 136672, 136678, 136706,\n",
       "        136709, 136720, 136729, 136733, 136754, 136755, 136757, 136758,\n",
       "        136767, 136769, 136778, 136780, 136781, 136802, 136807, 136815,\n",
       "        136819, 136823, 136827, 136838, 136841, 136844, 136855, 136857,\n",
       "        136861, 136869, 136871, 136875, 136887, 136888, 136900, 136907,\n",
       "        136922, 136927, 136936, 136937, 136951, 136953, 136956],\n",
       "       dtype=int64),\n",
       " 'количество уникальных значений - 127')"
      ]
     },
     "metadata": {},
     "output_type": "display_data"
    },
    {
     "name": "stdout",
     "output_type": "stream",
     "text": [
      "столбец flight_no:\n"
     ]
    },
    {
     "data": {
      "text/plain": [
       "(array(['PG0252', 'PG0194', 'PG0480'], dtype=object),\n",
       " 'количество уникальных значений - 3')"
      ]
     },
     "metadata": {},
     "output_type": "display_data"
    },
    {
     "name": "stdout",
     "output_type": "stream",
     "text": [
      "столбец city_depart:\n"
     ]
    },
    {
     "data": {
      "text/plain": [
       "(array(['Anapa'], dtype=object), 'количество уникальных значений - 1')"
      ]
     },
     "metadata": {},
     "output_type": "display_data"
    },
    {
     "name": "stdout",
     "output_type": "stream",
     "text": [
      "столбец city_arrive:\n"
     ]
    },
    {
     "data": {
      "text/plain": [
       "(array(['Moscow', 'Novokuznetsk', 'Belgorod'], dtype=object),\n",
       " 'количество уникальных значений - 3')"
      ]
     },
     "metadata": {},
     "output_type": "display_data"
    },
    {
     "name": "stdout",
     "output_type": "stream",
     "text": [
      "столбец scheduled_departure:\n"
     ]
    },
    {
     "data": {
      "text/plain": [
       "(array(['2017-01-03T10:05:00Z', '2017-02-24T10:05:00Z',\n",
       "        '2017-01-08T10:05:00Z', '2017-02-13T10:05:00Z',\n",
       "        '2017-01-28T10:05:00Z', '2017-02-15T10:05:00Z',\n",
       "        '2017-02-01T10:05:00Z', '2017-02-09T10:05:00Z',\n",
       "        '2017-01-04T10:05:00Z', '2017-01-07T10:05:00Z',\n",
       "        '2017-02-22T10:05:00Z', '2017-01-15T10:05:00Z',\n",
       "        '2017-01-29T10:05:00Z', '2017-01-31T10:05:00Z',\n",
       "        '2017-01-14T10:05:00Z', '2017-01-05T10:05:00Z',\n",
       "        '2017-02-23T10:05:00Z', '2017-01-06T10:05:00Z',\n",
       "        '2017-02-28T10:05:00Z', '2017-01-30T10:05:00Z',\n",
       "        '2017-02-14T10:05:00Z', '2017-02-08T10:05:00Z',\n",
       "        '2017-02-18T10:05:00Z', '2017-02-27T10:05:00Z',\n",
       "        '2017-02-16T10:05:00Z', '2017-02-11T10:05:00Z',\n",
       "        '2017-02-12T10:05:00Z', '2017-01-13T10:05:00Z',\n",
       "        '2017-01-16T10:05:00Z', '2017-02-07T10:05:00Z',\n",
       "        '2017-01-23T10:05:00Z', '2017-01-22T10:05:00Z',\n",
       "        '2017-01-12T10:05:00Z', '2017-02-19T10:05:00Z',\n",
       "        '2017-02-06T10:05:00Z', '2017-01-24T10:05:00Z',\n",
       "        '2017-02-10T10:05:00Z', '2017-02-26T10:05:00Z',\n",
       "        '2017-02-05T10:05:00Z', '2017-01-11T10:05:00Z',\n",
       "        '2017-01-25T10:05:00Z', '2017-01-19T10:05:00Z',\n",
       "        '2017-01-18T10:05:00Z', '2017-02-20T10:05:00Z',\n",
       "        '2017-02-04T10:05:00Z', '2017-01-01T10:05:00Z',\n",
       "        '2017-01-10T10:05:00Z', '2017-01-21T10:05:00Z',\n",
       "        '2017-01-26T10:05:00Z', '2017-02-25T10:05:00Z',\n",
       "        '2017-02-03T10:05:00Z', '2017-02-17T10:05:00Z',\n",
       "        '2017-01-02T10:05:00Z', '2017-01-20T10:05:00Z',\n",
       "        '2017-01-09T10:05:00Z', '2017-01-17T10:05:00Z',\n",
       "        '2017-02-21T10:05:00Z', '2017-01-27T10:05:00Z',\n",
       "        '2017-02-02T10:05:00Z', '2017-02-21T06:10:00Z',\n",
       "        '2017-02-28T06:10:00Z', '2017-02-07T06:10:00Z',\n",
       "        '2017-01-10T06:10:00Z', '2017-01-17T06:10:00Z',\n",
       "        '2017-01-31T06:10:00Z', '2017-01-03T06:10:00Z',\n",
       "        '2017-01-24T06:10:00Z', '2017-02-14T06:10:00Z',\n",
       "        '2017-01-25T09:25:00Z', '2017-01-10T09:25:00Z',\n",
       "        '2017-02-08T09:25:00Z', '2017-02-15T09:25:00Z',\n",
       "        '2017-01-08T09:25:00Z', '2017-02-21T09:25:00Z',\n",
       "        '2017-02-17T09:25:00Z', '2017-02-25T09:25:00Z',\n",
       "        '2017-01-07T09:25:00Z', '2017-01-30T09:25:00Z',\n",
       "        '2017-01-05T09:25:00Z', '2017-01-18T09:25:00Z',\n",
       "        '2017-01-19T09:25:00Z', '2017-02-20T09:25:00Z',\n",
       "        '2017-01-01T09:25:00Z', '2017-02-09T09:25:00Z',\n",
       "        '2017-01-17T09:25:00Z', '2017-02-03T09:25:00Z',\n",
       "        '2017-01-28T09:25:00Z', '2017-01-06T09:25:00Z',\n",
       "        '2017-01-15T09:25:00Z', '2017-01-26T09:25:00Z',\n",
       "        '2017-01-29T09:25:00Z', '2017-01-09T09:25:00Z',\n",
       "        '2017-02-06T09:25:00Z', '2017-01-21T09:25:00Z',\n",
       "        '2017-01-27T09:25:00Z', '2017-01-12T09:25:00Z',\n",
       "        '2017-01-23T09:25:00Z', '2017-02-10T09:25:00Z',\n",
       "        '2017-02-22T09:25:00Z', '2017-02-24T09:25:00Z',\n",
       "        '2017-01-14T09:25:00Z', '2017-02-26T09:25:00Z',\n",
       "        '2017-02-23T09:25:00Z', '2017-02-19T09:25:00Z',\n",
       "        '2017-01-04T09:25:00Z', '2017-02-05T09:25:00Z',\n",
       "        '2017-02-18T09:25:00Z', '2017-01-24T09:25:00Z',\n",
       "        '2017-02-07T09:25:00Z', '2017-02-28T09:25:00Z',\n",
       "        '2017-01-11T09:25:00Z', '2017-02-13T09:25:00Z',\n",
       "        '2017-02-12T09:25:00Z', '2017-01-31T09:25:00Z',\n",
       "        '2017-01-13T09:25:00Z', '2017-02-16T09:25:00Z',\n",
       "        '2017-01-20T09:25:00Z', '2017-02-14T09:25:00Z',\n",
       "        '2017-02-01T09:25:00Z', '2017-01-16T09:25:00Z',\n",
       "        '2017-02-11T09:25:00Z', '2017-01-22T09:25:00Z',\n",
       "        '2017-01-02T09:25:00Z', '2017-01-03T09:25:00Z',\n",
       "        '2017-02-02T09:25:00Z', '2017-02-27T09:25:00Z',\n",
       "        '2017-02-04T09:25:00Z'], dtype=object),\n",
       " 'количество уникальных значений - 127')"
      ]
     },
     "metadata": {},
     "output_type": "display_data"
    },
    {
     "name": "stdout",
     "output_type": "stream",
     "text": [
      "столбец scheduled_arrival:\n"
     ]
    },
    {
     "data": {
      "text/plain": [
       "(array(['2017-01-03T11:45:00Z', '2017-02-24T11:45:00Z',\n",
       "        '2017-01-08T11:45:00Z', '2017-02-13T11:45:00Z',\n",
       "        '2017-01-28T11:45:00Z', '2017-02-15T11:45:00Z',\n",
       "        '2017-02-01T11:45:00Z', '2017-02-09T11:45:00Z',\n",
       "        '2017-01-04T11:45:00Z', '2017-01-07T11:45:00Z',\n",
       "        '2017-02-22T11:45:00Z', '2017-01-15T11:45:00Z',\n",
       "        '2017-01-29T11:45:00Z', '2017-01-31T11:45:00Z',\n",
       "        '2017-01-14T11:45:00Z', '2017-01-05T11:45:00Z',\n",
       "        '2017-02-23T11:45:00Z', '2017-01-06T11:45:00Z',\n",
       "        '2017-02-28T11:45:00Z', '2017-01-30T11:45:00Z',\n",
       "        '2017-02-14T11:45:00Z', '2017-02-08T11:45:00Z',\n",
       "        '2017-02-18T11:45:00Z', '2017-02-27T11:45:00Z',\n",
       "        '2017-02-16T11:45:00Z', '2017-02-11T11:45:00Z',\n",
       "        '2017-02-12T11:45:00Z', '2017-01-13T11:45:00Z',\n",
       "        '2017-01-16T11:45:00Z', '2017-02-07T11:45:00Z',\n",
       "        '2017-01-23T11:45:00Z', '2017-01-22T11:45:00Z',\n",
       "        '2017-01-12T11:45:00Z', '2017-02-19T11:45:00Z',\n",
       "        '2017-02-06T11:45:00Z', '2017-01-24T11:45:00Z',\n",
       "        '2017-02-10T11:45:00Z', '2017-02-26T11:45:00Z',\n",
       "        '2017-02-05T11:45:00Z', '2017-01-11T11:45:00Z',\n",
       "        '2017-01-25T11:45:00Z', '2017-01-19T11:45:00Z',\n",
       "        '2017-01-18T11:45:00Z', '2017-02-20T11:45:00Z',\n",
       "        '2017-02-04T11:45:00Z', '2017-01-01T11:45:00Z',\n",
       "        '2017-01-10T11:45:00Z', '2017-01-21T11:45:00Z',\n",
       "        '2017-01-26T11:45:00Z', '2017-02-25T11:45:00Z',\n",
       "        '2017-02-03T11:45:00Z', '2017-02-17T11:45:00Z',\n",
       "        '2017-01-02T11:45:00Z', '2017-01-20T11:45:00Z',\n",
       "        '2017-01-09T11:45:00Z', '2017-01-17T11:45:00Z',\n",
       "        '2017-02-21T11:45:00Z', '2017-01-27T11:45:00Z',\n",
       "        '2017-02-02T11:45:00Z', '2017-02-21T11:15:00Z',\n",
       "        '2017-02-28T11:15:00Z', '2017-02-07T11:15:00Z',\n",
       "        '2017-01-10T11:15:00Z', '2017-01-17T11:15:00Z',\n",
       "        '2017-01-31T11:15:00Z', '2017-01-03T11:15:00Z',\n",
       "        '2017-01-24T11:15:00Z', '2017-02-14T11:15:00Z',\n",
       "        '2017-01-25T10:15:00Z', '2017-01-10T10:15:00Z',\n",
       "        '2017-02-08T10:15:00Z', '2017-02-15T10:15:00Z',\n",
       "        '2017-01-08T10:15:00Z', '2017-02-21T10:15:00Z',\n",
       "        '2017-02-17T10:15:00Z', '2017-02-25T10:15:00Z',\n",
       "        '2017-01-07T10:15:00Z', '2017-01-30T10:15:00Z',\n",
       "        '2017-01-05T10:15:00Z', '2017-01-18T10:15:00Z',\n",
       "        '2017-01-19T10:15:00Z', '2017-02-20T10:15:00Z',\n",
       "        '2017-01-01T10:15:00Z', '2017-02-09T10:15:00Z',\n",
       "        '2017-01-17T10:15:00Z', '2017-02-03T10:15:00Z',\n",
       "        '2017-01-28T10:15:00Z', '2017-01-06T10:15:00Z',\n",
       "        '2017-01-15T10:15:00Z', '2017-01-26T10:15:00Z',\n",
       "        '2017-01-29T10:15:00Z', '2017-01-09T10:15:00Z',\n",
       "        '2017-02-06T10:15:00Z', '2017-01-21T10:15:00Z',\n",
       "        '2017-01-27T10:15:00Z', '2017-01-12T10:15:00Z',\n",
       "        '2017-01-23T10:15:00Z', '2017-02-10T10:15:00Z',\n",
       "        '2017-02-22T10:15:00Z', '2017-02-24T10:15:00Z',\n",
       "        '2017-01-14T10:15:00Z', '2017-02-26T10:15:00Z',\n",
       "        '2017-02-23T10:15:00Z', '2017-02-19T10:15:00Z',\n",
       "        '2017-01-04T10:15:00Z', '2017-02-05T10:15:00Z',\n",
       "        '2017-02-18T10:15:00Z', '2017-01-24T10:15:00Z',\n",
       "        '2017-02-07T10:15:00Z', '2017-02-28T10:15:00Z',\n",
       "        '2017-01-11T10:15:00Z', '2017-02-13T10:15:00Z',\n",
       "        '2017-02-12T10:15:00Z', '2017-01-31T10:15:00Z',\n",
       "        '2017-01-13T10:15:00Z', '2017-02-16T10:15:00Z',\n",
       "        '2017-01-20T10:15:00Z', '2017-02-14T10:15:00Z',\n",
       "        '2017-02-01T10:15:00Z', '2017-01-16T10:15:00Z',\n",
       "        '2017-02-11T10:15:00Z', '2017-01-22T10:15:00Z',\n",
       "        '2017-01-02T10:15:00Z', '2017-01-03T10:15:00Z',\n",
       "        '2017-02-02T10:15:00Z', '2017-02-27T10:15:00Z',\n",
       "        '2017-02-04T10:15:00Z'], dtype=object),\n",
       " 'количество уникальных значений - 127')"
      ]
     },
     "metadata": {},
     "output_type": "display_data"
    },
    {
     "name": "stdout",
     "output_type": "stream",
     "text": [
      "столбец fl_month:\n"
     ]
    },
    {
     "data": {
      "text/plain": [
       "(array([1., 2.]), 'количество уникальных значений - 2')"
      ]
     },
     "metadata": {},
     "output_type": "display_data"
    },
    {
     "name": "stdout",
     "output_type": "stream",
     "text": [
      "столбец flight_minute:\n"
     ]
    },
    {
     "data": {
      "text/plain": [
       "(array([100., 305.,  50.]), 'количество уникальных значений - 3')"
      ]
     },
     "metadata": {},
     "output_type": "display_data"
    },
    {
     "name": "stdout",
     "output_type": "stream",
     "text": [
      "столбец model:\n"
     ]
    },
    {
     "data": {
      "text/plain": [
       "(array(['Boeing 737-300', 'Sukhoi Superjet-100'], dtype=object),\n",
       " 'количество уникальных значений - 2')"
      ]
     },
     "metadata": {},
     "output_type": "display_data"
    },
    {
     "name": "stdout",
     "output_type": "stream",
     "text": [
      "столбец class_available:\n"
     ]
    },
    {
     "data": {
      "text/plain": [
       "(array(['Business', 'Economy'], dtype=object),\n",
       " 'количество уникальных значений - 2')"
      ]
     },
     "metadata": {},
     "output_type": "display_data"
    },
    {
     "name": "stdout",
     "output_type": "stream",
     "text": [
      "столбец seat_available:\n"
     ]
    },
    {
     "data": {
      "text/plain": [
       "(array(['3A', '1F', '3D', '1D', '1C', '2D', '1A', '3C', '2C', '2F', '2A',\n",
       "        '3F', '9B', '15D', '10D', '5A', '6E', '17A', '11E', '11A', '7B',\n",
       "        '16F', '7E', '17D', '14E', '21C', '6D', '17F', '23F', '8D', '12D',\n",
       "        '21F', '15B', '4E', '15E', '10C', '4B', '4F', '7F', '9C', '13F',\n",
       "        '12A', '18A', '6A', '11C', '21A', '7C', '7A', '20F', '4C', '9F',\n",
       "        '9D', '14F', '22F', '22A', '8E', '19B', '16E', '14B', '20E', '8C',\n",
       "        '16C', '21D', '12C', '9E', '6B', '13D', '18E', '12B', '18C', '5E',\n",
       "        '8A', '16B', '5B', '15F', '20B', '17C', '22B', '16D', '14D', '19C',\n",
       "        '13B', '4D', '22E', '17E', '17B', '6F', '6C', '22C', '14A', '13C',\n",
       "        '20D', '22D', '5F', '7D', '11B', '5D', '13E', '20C', '11F', '23B',\n",
       "        '23E', '13A', '18D', '10E', '23A', '19F', '5C', '18F', '19D',\n",
       "        '16A', '19E', '8B', '15C', '20A', '12F', '8F', '12E', '10B', '9A',\n",
       "        '21B', '23C', '18B', '21E', '4A', '15A', '23D', '11D', '14C',\n",
       "        '19A', '10F', '10A'], dtype=object),\n",
       " 'количество уникальных значений - 132')"
      ]
     },
     "metadata": {},
     "output_type": "display_data"
    },
    {
     "name": "stdout",
     "output_type": "stream",
     "text": [
      "столбец ticket_no:\n"
     ]
    },
    {
     "data": {
      "text/plain": [
       "(array(['5432333357', '5432349514', '5432349550', ..., '5432375774',\n",
       "        '5432375784', '5432375785'], dtype=object),\n",
       " 'количество уникальных значений - 11996')"
      ]
     },
     "metadata": {},
     "output_type": "display_data"
    },
    {
     "name": "stdout",
     "output_type": "stream",
     "text": [
      "столбец class_occupied:\n"
     ]
    },
    {
     "data": {
      "text/plain": [
       "(array(['Business', nan, 'Economy'], dtype=object),\n",
       " 'количество уникальных значений - 2')"
      ]
     },
     "metadata": {},
     "output_type": "display_data"
    },
    {
     "name": "stdout",
     "output_type": "stream",
     "text": [
      "столбец seat_occupied:\n"
     ]
    },
    {
     "data": {
      "text/plain": [
       "(array(['3A', '1F', '3D', '1D', '1C', '2D', '1A', '3C', '2C', '2F', '2A',\n",
       "        nan, '9B', '15D', '10D', '5A', '6E', '17A', '11E', '11A', '7B',\n",
       "        '16F', '7E', '17D', '14E', '21C', '6D', '17F', '23F', '8D', '12D',\n",
       "        '21F', '15B', '4E', '15E', '10C', '4B', '4F', '7F', '9C', '13F',\n",
       "        '12A', '18A', '6A', '11C', '21A', '7C', '7A', '20F', '4C', '9F',\n",
       "        '9D', '14F', '22F', '22A', '8E', '19B', '16E', '14B', '20E', '8C',\n",
       "        '16C', '21D', '12C', '9E', '6B', '13D', '18E', '12B', '18C', '5E',\n",
       "        '8A', '16B', '5B', '15F', '20B', '17C', '22B', '16D', '14D', '19C',\n",
       "        '13B', '4D', '22E', '17E', '17B', '6F', '6C', '22C', '14A', '13C',\n",
       "        '20D', '22D', '5F', '7D', '11B', '5D', '13E', '20C', '11F', '23B',\n",
       "        '23E', '13A', '18D', '10E', '23A', '19F', '5C', '18F', '19D',\n",
       "        '16A', '19E', '8B', '15C', '3F', '23D', '4A', '14C', '23C', '12F',\n",
       "        '9A', '21E', '20A', '10B', '12E', '8F', '15A', '11D', '18B', '21B',\n",
       "        '19A', '10F', '10A'], dtype=object),\n",
       " 'количество уникальных значений - 132')"
      ]
     },
     "metadata": {},
     "output_type": "display_data"
    },
    {
     "name": "stdout",
     "output_type": "stream",
     "text": [
      "столбец ticket_price:\n"
     ]
    },
    {
     "data": {
      "text/plain": [
       "(array([36600.,    nan, 12200., 13400., 18900.,  6300.,  6900.]),\n",
       " 'количество уникальных значений - 6')"
      ]
     },
     "metadata": {},
     "output_type": "display_data"
    }
   ],
   "source": [
    "for col in flight.columns:\n",
    "    display(unique_col(col))"
   ]
  },
  {
   "cell_type": "markdown",
   "metadata": {
    "id": "iIevHu3-uiSO"
   },
   "source": [
    "Можно сделать предварительные выводы:\n",
    "\n",
    "1) Всего в датасете содержится информация о 127-ми рейсах, совершенных зимой 2017 года из г. Анапа \\\n",
    "2) Существует 3 направления, по которым запущено всего 3 борта самолета по одному на каждое: \\\n",
    "Анапа-Москва, Анапа-Новокузнецк и Анапа-Белгород \\\n",
    "3) В датасете отсутствуют данные по декабрю 2017 г. \\\n",
    "4) Время в пути для 3-х направлений: 100 минут, 305 мин. и 50 мин. \\\n",
    "5) Представлено 2 модели самолетов по указанным направлениям: Boeing 737-300 и Sukhoi Superjet-100 \\\n",
    "6) На каждом самолете представлено всего 2 класса обслуживания: Бизнес и Эконом \\\n",
    "7) Также имеется информация по проданным на каждый рейс местам определенного класса обслуживания с соответсвующей стоимостью билета"
   ]
  },
  {
   "cell_type": "code",
   "execution_count": 9,
   "metadata": {
    "id": "g7p9YSNluiSO"
   },
   "outputs": [],
   "source": [
    "# Создадим 2 словаря\n",
    "fuel_tarif = pd.DataFrame({'fl_month': [1, 2],              # данные о тарифах на авиаГСМ\n",
    "                      'fuel_price': [48893.30, 46672.54]})\n",
    "\n",
    "aircraft_model = pd.DataFrame({'model': ['Boeing 737-300', 'Sukhoi Superjet-100'],   # среднечасовой расход топлива\n",
    "                      'fuel_per_hour': [2600, 1800]})"
   ]
  },
  {
   "cell_type": "code",
   "execution_count": 10,
   "metadata": {
    "colab": {
     "base_uri": "https://localhost:8080/",
     "height": 112
    },
    "executionInfo": {
     "elapsed": 53,
     "status": "ok",
     "timestamp": 1638329676469,
     "user": {
      "displayName": "An Mat",
      "photoUrl": "https://lh3.googleusercontent.com/a/default-user=s64",
      "userId": "17855782157325435961"
     },
     "user_tz": -600
    },
    "id": "6Zo7bLW4uiSP",
    "outputId": "32338a16-9853-4d58-c03e-08edd5b983ae"
   },
   "outputs": [
    {
     "data": {
      "text/html": [
       "<div>\n",
       "<style scoped>\n",
       "    .dataframe tbody tr th:only-of-type {\n",
       "        vertical-align: middle;\n",
       "    }\n",
       "\n",
       "    .dataframe tbody tr th {\n",
       "        vertical-align: top;\n",
       "    }\n",
       "\n",
       "    .dataframe thead th {\n",
       "        text-align: right;\n",
       "    }\n",
       "</style>\n",
       "<table border=\"1\" class=\"dataframe\">\n",
       "  <thead>\n",
       "    <tr style=\"text-align: right;\">\n",
       "      <th></th>\n",
       "      <th>fl_month</th>\n",
       "      <th>fuel_price</th>\n",
       "    </tr>\n",
       "  </thead>\n",
       "  <tbody>\n",
       "    <tr>\n",
       "      <th>0</th>\n",
       "      <td>1</td>\n",
       "      <td>48893.30</td>\n",
       "    </tr>\n",
       "    <tr>\n",
       "      <th>1</th>\n",
       "      <td>2</td>\n",
       "      <td>46672.54</td>\n",
       "    </tr>\n",
       "  </tbody>\n",
       "</table>\n",
       "</div>"
      ],
      "text/plain": [
       "   fl_month  fuel_price\n",
       "0         1    48893.30\n",
       "1         2    46672.54"
      ]
     },
     "execution_count": 10,
     "metadata": {},
     "output_type": "execute_result"
    }
   ],
   "source": [
    "fuel_tarif"
   ]
  },
  {
   "cell_type": "code",
   "execution_count": 11,
   "metadata": {
    "colab": {
     "base_uri": "https://localhost:8080/",
     "height": 112
    },
    "executionInfo": {
     "elapsed": 50,
     "status": "ok",
     "timestamp": 1638329676469,
     "user": {
      "displayName": "An Mat",
      "photoUrl": "https://lh3.googleusercontent.com/a/default-user=s64",
      "userId": "17855782157325435961"
     },
     "user_tz": -600
    },
    "id": "HxKZA2DsuiSP",
    "outputId": "278ccefa-d556-4c29-d551-46934e3e58cf"
   },
   "outputs": [
    {
     "data": {
      "text/html": [
       "<div>\n",
       "<style scoped>\n",
       "    .dataframe tbody tr th:only-of-type {\n",
       "        vertical-align: middle;\n",
       "    }\n",
       "\n",
       "    .dataframe tbody tr th {\n",
       "        vertical-align: top;\n",
       "    }\n",
       "\n",
       "    .dataframe thead th {\n",
       "        text-align: right;\n",
       "    }\n",
       "</style>\n",
       "<table border=\"1\" class=\"dataframe\">\n",
       "  <thead>\n",
       "    <tr style=\"text-align: right;\">\n",
       "      <th></th>\n",
       "      <th>model</th>\n",
       "      <th>fuel_per_hour</th>\n",
       "    </tr>\n",
       "  </thead>\n",
       "  <tbody>\n",
       "    <tr>\n",
       "      <th>0</th>\n",
       "      <td>Boeing 737-300</td>\n",
       "      <td>2600</td>\n",
       "    </tr>\n",
       "    <tr>\n",
       "      <th>1</th>\n",
       "      <td>Sukhoi Superjet-100</td>\n",
       "      <td>1800</td>\n",
       "    </tr>\n",
       "  </tbody>\n",
       "</table>\n",
       "</div>"
      ],
      "text/plain": [
       "                 model  fuel_per_hour\n",
       "0       Boeing 737-300           2600\n",
       "1  Sukhoi Superjet-100           1800"
      ]
     },
     "execution_count": 11,
     "metadata": {},
     "output_type": "execute_result"
    }
   ],
   "source": [
    "aircraft_model"
   ]
  },
  {
   "cell_type": "code",
   "execution_count": 12,
   "metadata": {
    "id": "NSFTcSEuuiSP"
   },
   "outputs": [],
   "source": [
    "# Объединим данные словари с датасетом\n",
    "flight = flight.merge(fuel_tarif, on = 'fl_month', how = 'inner')\n",
    "flight = flight.merge(aircraft_model, on = 'model', how = 'inner')"
   ]
  },
  {
   "cell_type": "code",
   "execution_count": 13,
   "metadata": {
    "colab": {
     "base_uri": "https://localhost:8080/",
     "height": 347
    },
    "executionInfo": {
     "elapsed": 47,
     "status": "ok",
     "timestamp": 1638329676470,
     "user": {
      "displayName": "An Mat",
      "photoUrl": "https://lh3.googleusercontent.com/a/default-user=s64",
      "userId": "17855782157325435961"
     },
     "user_tz": -600
    },
    "id": "7EP2h73fuiSQ",
    "outputId": "87d7af83-15f3-45a6-b710-a9b6a1c1c3b6",
    "scrolled": true
   },
   "outputs": [
    {
     "data": {
      "text/html": [
       "<div>\n",
       "<style scoped>\n",
       "    .dataframe tbody tr th:only-of-type {\n",
       "        vertical-align: middle;\n",
       "    }\n",
       "\n",
       "    .dataframe tbody tr th {\n",
       "        vertical-align: top;\n",
       "    }\n",
       "\n",
       "    .dataframe thead th {\n",
       "        text-align: right;\n",
       "    }\n",
       "</style>\n",
       "<table border=\"1\" class=\"dataframe\">\n",
       "  <thead>\n",
       "    <tr style=\"text-align: right;\">\n",
       "      <th></th>\n",
       "      <th>flight_id</th>\n",
       "      <th>flight_no</th>\n",
       "      <th>city_depart</th>\n",
       "      <th>city_arrive</th>\n",
       "      <th>scheduled_departure</th>\n",
       "      <th>scheduled_arrival</th>\n",
       "      <th>fl_month</th>\n",
       "      <th>flight_minute</th>\n",
       "      <th>model</th>\n",
       "      <th>class_available</th>\n",
       "      <th>seat_available</th>\n",
       "      <th>ticket_no</th>\n",
       "      <th>class_occupied</th>\n",
       "      <th>seat_occupied</th>\n",
       "      <th>ticket_price</th>\n",
       "      <th>fuel_price</th>\n",
       "      <th>fuel_per_hour</th>\n",
       "    </tr>\n",
       "  </thead>\n",
       "  <tbody>\n",
       "    <tr>\n",
       "      <th>9837</th>\n",
       "      <td>136678</td>\n",
       "      <td>PG0480</td>\n",
       "      <td>Anapa</td>\n",
       "      <td>Belgorod</td>\n",
       "      <td>2017-01-28T09:25:00Z</td>\n",
       "      <td>2017-01-28T10:15:00Z</td>\n",
       "      <td>1.0</td>\n",
       "      <td>50.0</td>\n",
       "      <td>Sukhoi Superjet-100</td>\n",
       "      <td>Economy</td>\n",
       "      <td>7E</td>\n",
       "      <td>5432319504</td>\n",
       "      <td>Economy</td>\n",
       "      <td>7E</td>\n",
       "      <td>6300.0</td>\n",
       "      <td>48893.30</td>\n",
       "      <td>1800</td>\n",
       "    </tr>\n",
       "    <tr>\n",
       "      <th>840</th>\n",
       "      <td>136178</td>\n",
       "      <td>PG0252</td>\n",
       "      <td>Anapa</td>\n",
       "      <td>Moscow</td>\n",
       "      <td>2017-01-29T10:05:00Z</td>\n",
       "      <td>2017-01-29T11:45:00Z</td>\n",
       "      <td>1.0</td>\n",
       "      <td>100.0</td>\n",
       "      <td>Boeing 737-300</td>\n",
       "      <td>Economy</td>\n",
       "      <td>21D</td>\n",
       "      <td>5432362762</td>\n",
       "      <td>Economy</td>\n",
       "      <td>21D</td>\n",
       "      <td>12200.0</td>\n",
       "      <td>48893.30</td>\n",
       "      <td>2600</td>\n",
       "    </tr>\n",
       "    <tr>\n",
       "      <th>9762</th>\n",
       "      <td>136669</td>\n",
       "      <td>PG0480</td>\n",
       "      <td>Anapa</td>\n",
       "      <td>Belgorod</td>\n",
       "      <td>2017-01-17T09:25:00Z</td>\n",
       "      <td>2017-01-17T10:15:00Z</td>\n",
       "      <td>1.0</td>\n",
       "      <td>50.0</td>\n",
       "      <td>Sukhoi Superjet-100</td>\n",
       "      <td>Economy</td>\n",
       "      <td>18D</td>\n",
       "      <td>5432319182</td>\n",
       "      <td>Economy</td>\n",
       "      <td>18D</td>\n",
       "      <td>6300.0</td>\n",
       "      <td>48893.30</td>\n",
       "      <td>1800</td>\n",
       "    </tr>\n",
       "    <tr>\n",
       "      <th>6746</th>\n",
       "      <td>136284</td>\n",
       "      <td>PG0252</td>\n",
       "      <td>Anapa</td>\n",
       "      <td>Moscow</td>\n",
       "      <td>2017-02-07T10:05:00Z</td>\n",
       "      <td>2017-02-07T11:45:00Z</td>\n",
       "      <td>2.0</td>\n",
       "      <td>100.0</td>\n",
       "      <td>Boeing 737-300</td>\n",
       "      <td>Economy</td>\n",
       "      <td>20F</td>\n",
       "      <td>5435489607</td>\n",
       "      <td>Economy</td>\n",
       "      <td>20F</td>\n",
       "      <td>12200.0</td>\n",
       "      <td>46672.54</td>\n",
       "      <td>2600</td>\n",
       "    </tr>\n",
       "    <tr>\n",
       "      <th>10674</th>\n",
       "      <td>136758</td>\n",
       "      <td>PG0480</td>\n",
       "      <td>Anapa</td>\n",
       "      <td>Belgorod</td>\n",
       "      <td>2017-01-12T09:25:00Z</td>\n",
       "      <td>2017-01-12T10:15:00Z</td>\n",
       "      <td>1.0</td>\n",
       "      <td>50.0</td>\n",
       "      <td>Sukhoi Superjet-100</td>\n",
       "      <td>Economy</td>\n",
       "      <td>7F</td>\n",
       "      <td>5432374727</td>\n",
       "      <td>Economy</td>\n",
       "      <td>7F</td>\n",
       "      <td>6300.0</td>\n",
       "      <td>48893.30</td>\n",
       "      <td>1800</td>\n",
       "    </tr>\n",
       "  </tbody>\n",
       "</table>\n",
       "</div>"
      ],
      "text/plain": [
       "       flight_id flight_no city_depart city_arrive   scheduled_departure  \\\n",
       "9837      136678    PG0480       Anapa    Belgorod  2017-01-28T09:25:00Z   \n",
       "840       136178    PG0252       Anapa      Moscow  2017-01-29T10:05:00Z   \n",
       "9762      136669    PG0480       Anapa    Belgorod  2017-01-17T09:25:00Z   \n",
       "6746      136284    PG0252       Anapa      Moscow  2017-02-07T10:05:00Z   \n",
       "10674     136758    PG0480       Anapa    Belgorod  2017-01-12T09:25:00Z   \n",
       "\n",
       "          scheduled_arrival  fl_month  flight_minute                model  \\\n",
       "9837   2017-01-28T10:15:00Z       1.0           50.0  Sukhoi Superjet-100   \n",
       "840    2017-01-29T11:45:00Z       1.0          100.0       Boeing 737-300   \n",
       "9762   2017-01-17T10:15:00Z       1.0           50.0  Sukhoi Superjet-100   \n",
       "6746   2017-02-07T11:45:00Z       2.0          100.0       Boeing 737-300   \n",
       "10674  2017-01-12T10:15:00Z       1.0           50.0  Sukhoi Superjet-100   \n",
       "\n",
       "      class_available seat_available   ticket_no class_occupied seat_occupied  \\\n",
       "9837          Economy             7E  5432319504        Economy            7E   \n",
       "840           Economy            21D  5432362762        Economy           21D   \n",
       "9762          Economy            18D  5432319182        Economy           18D   \n",
       "6746          Economy            20F  5435489607        Economy           20F   \n",
       "10674         Economy             7F  5432374727        Economy            7F   \n",
       "\n",
       "       ticket_price  fuel_price  fuel_per_hour  \n",
       "9837         6300.0    48893.30           1800  \n",
       "840         12200.0    48893.30           2600  \n",
       "9762         6300.0    48893.30           1800  \n",
       "6746        12200.0    46672.54           2600  \n",
       "10674        6300.0    48893.30           1800  "
      ]
     },
     "execution_count": 13,
     "metadata": {},
     "output_type": "execute_result"
    }
   ],
   "source": [
    "flight.sample(5)"
   ]
  },
  {
   "cell_type": "code",
   "execution_count": 14,
   "metadata": {
    "id": "STkcu_eduiSQ"
   },
   "outputs": [],
   "source": [
    "# Добавим столбец 'fl_day' - номер дня в датасет\n",
    "flight['scheduled_departure'] = pd.to_datetime(flight.scheduled_departure)\n",
    "flight['fl_day'] = flight['scheduled_departure'].dt.day"
   ]
  },
  {
   "cell_type": "code",
   "execution_count": 15,
   "metadata": {
    "colab": {
     "base_uri": "https://localhost:8080/"
    },
    "executionInfo": {
     "elapsed": 46,
     "status": "ok",
     "timestamp": 1638329676472,
     "user": {
      "displayName": "An Mat",
      "photoUrl": "https://lh3.googleusercontent.com/a/default-user=s64",
      "userId": "17855782157325435961"
     },
     "user_tz": -600
    },
    "id": "mruNiD98uiSR",
    "outputId": "e8846b06-a26e-428f-8632-4abb783e2af7",
    "scrolled": true
   },
   "outputs": [
    {
     "name": "stdout",
     "output_type": "stream",
     "text": [
      "<class 'pandas.core.frame.DataFrame'>\n",
      "Int64Index: 14563 entries, 0 to 14562\n",
      "Data columns (total 18 columns):\n",
      " #   Column               Non-Null Count  Dtype              \n",
      "---  ------               --------------  -----              \n",
      " 0   flight_id            14563 non-null  int64              \n",
      " 1   flight_no            14563 non-null  object             \n",
      " 2   city_depart          14563 non-null  object             \n",
      " 3   city_arrive          14563 non-null  object             \n",
      " 4   scheduled_departure  14563 non-null  datetime64[ns, UTC]\n",
      " 5   scheduled_arrival    14563 non-null  object             \n",
      " 6   fl_month             14563 non-null  float64            \n",
      " 7   flight_minute        14563 non-null  float64            \n",
      " 8   model                14563 non-null  object             \n",
      " 9   class_available      14563 non-null  object             \n",
      " 10  seat_available       14563 non-null  object             \n",
      " 11  ticket_no            14563 non-null  object             \n",
      " 12  class_occupied       11995 non-null  object             \n",
      " 13  seat_occupied        11995 non-null  object             \n",
      " 14  ticket_price         11995 non-null  float64            \n",
      " 15  fuel_price           14563 non-null  float64            \n",
      " 16  fuel_per_hour        14563 non-null  int64              \n",
      " 17  fl_day               14563 non-null  int64              \n",
      "dtypes: datetime64[ns, UTC](1), float64(4), int64(3), object(10)\n",
      "memory usage: 2.1+ MB\n"
     ]
    }
   ],
   "source": [
    "flight.info()"
   ]
  },
  {
   "cell_type": "markdown",
   "metadata": {
    "id": "6uS4JijouiSR"
   },
   "source": [
    "Изучим колонки с пустыми значениями. Для анализа наполняемости авиаборта, мы специально оставили пустые значения. Они содержатся в следующих столбцах:\n",
    "1. class_occupied - класс обслуживания по проданному билету,\n",
    "2. seat_occupied - номер проданного места,\n",
    "3. ticket_price - стоимость билета (будет отсутствовать по непроданным местам),\n",
    "4. ticket_no - номер билета (после форматирования принял значение nan)."
   ]
  },
  {
   "cell_type": "markdown",
   "metadata": {
    "id": "3gcyNSjOuiSR"
   },
   "source": [
    "Изучим интересные для анализа колонки. \\\n",
    "Произведем группировку данных для каждой модели по ID рейса и классу обслуживания, доступному для покупки:"
   ]
  },
  {
   "cell_type": "code",
   "execution_count": 16,
   "metadata": {
    "colab": {
     "base_uri": "https://localhost:8080/",
     "height": 270
    },
    "executionInfo": {
     "elapsed": 36,
     "status": "ok",
     "timestamp": 1638329676472,
     "user": {
      "displayName": "An Mat",
      "photoUrl": "https://lh3.googleusercontent.com/a/default-user=s64",
      "userId": "17855782157325435961"
     },
     "user_tz": -600
    },
    "id": "Rtajkb88uiSR",
    "outputId": "a22470a8-310e-46f4-eb10-b77dd34dfbb3",
    "scrolled": true
   },
   "outputs": [
    {
     "data": {
      "text/html": [
       "<div>\n",
       "<style scoped>\n",
       "    .dataframe tbody tr th:only-of-type {\n",
       "        vertical-align: middle;\n",
       "    }\n",
       "\n",
       "    .dataframe tbody tr th {\n",
       "        vertical-align: top;\n",
       "    }\n",
       "\n",
       "    .dataframe thead th {\n",
       "        text-align: right;\n",
       "    }\n",
       "</style>\n",
       "<table border=\"1\" class=\"dataframe\">\n",
       "  <thead>\n",
       "    <tr style=\"text-align: right;\">\n",
       "      <th></th>\n",
       "      <th></th>\n",
       "      <th></th>\n",
       "      <th></th>\n",
       "      <th>seat_available</th>\n",
       "      <th>seat_occupied</th>\n",
       "    </tr>\n",
       "    <tr>\n",
       "      <th>flight_id</th>\n",
       "      <th>fl_day</th>\n",
       "      <th>model</th>\n",
       "      <th>class_available</th>\n",
       "      <th></th>\n",
       "      <th></th>\n",
       "    </tr>\n",
       "  </thead>\n",
       "  <tbody>\n",
       "    <tr>\n",
       "      <th rowspan=\"2\" valign=\"top\">136119</th>\n",
       "      <th rowspan=\"2\" valign=\"top\">3</th>\n",
       "      <th rowspan=\"2\" valign=\"top\">Boeing 737-300</th>\n",
       "      <th>Business</th>\n",
       "      <td>12</td>\n",
       "      <td>11</td>\n",
       "    </tr>\n",
       "    <tr>\n",
       "      <th>Economy</th>\n",
       "      <td>118</td>\n",
       "      <td>102</td>\n",
       "    </tr>\n",
       "  </tbody>\n",
       "</table>\n",
       "</div>"
      ],
      "text/plain": [
       "                                                 seat_available  seat_occupied\n",
       "flight_id fl_day model          class_available                               \n",
       "136119    3      Boeing 737-300 Business                     12             11\n",
       "                                Economy                     118            102"
      ]
     },
     "metadata": {},
     "output_type": "display_data"
    },
    {
     "data": {
      "text/html": [
       "<div>\n",
       "<style scoped>\n",
       "    .dataframe tbody tr th:only-of-type {\n",
       "        vertical-align: middle;\n",
       "    }\n",
       "\n",
       "    .dataframe tbody tr th {\n",
       "        vertical-align: top;\n",
       "    }\n",
       "\n",
       "    .dataframe thead th {\n",
       "        text-align: right;\n",
       "    }\n",
       "</style>\n",
       "<table border=\"1\" class=\"dataframe\">\n",
       "  <thead>\n",
       "    <tr style=\"text-align: right;\">\n",
       "      <th></th>\n",
       "      <th></th>\n",
       "      <th></th>\n",
       "      <th></th>\n",
       "      <th>seat_available</th>\n",
       "      <th>seat_occupied</th>\n",
       "    </tr>\n",
       "    <tr>\n",
       "      <th>flight_id</th>\n",
       "      <th>fl_day</th>\n",
       "      <th>model</th>\n",
       "      <th>class_available</th>\n",
       "      <th></th>\n",
       "      <th></th>\n",
       "    </tr>\n",
       "  </thead>\n",
       "  <tbody>\n",
       "    <tr>\n",
       "      <th rowspan=\"2\" valign=\"top\">136956</th>\n",
       "      <th rowspan=\"2\" valign=\"top\">4</th>\n",
       "      <th rowspan=\"2\" valign=\"top\">Sukhoi Superjet-100</th>\n",
       "      <th>Business</th>\n",
       "      <td>12</td>\n",
       "      <td>11</td>\n",
       "    </tr>\n",
       "    <tr>\n",
       "      <th>Economy</th>\n",
       "      <td>85</td>\n",
       "      <td>85</td>\n",
       "    </tr>\n",
       "  </tbody>\n",
       "</table>\n",
       "</div>"
      ],
      "text/plain": [
       "                                                      seat_available  \\\n",
       "flight_id fl_day model               class_available                   \n",
       "136956    4      Sukhoi Superjet-100 Business                     12   \n",
       "                                     Economy                      85   \n",
       "\n",
       "                                                      seat_occupied  \n",
       "flight_id fl_day model               class_available                 \n",
       "136956    4      Sukhoi Superjet-100 Business                    11  \n",
       "                                     Economy                     85  "
      ]
     },
     "metadata": {},
     "output_type": "display_data"
    }
   ],
   "source": [
    "model_scheme = flight.groupby(['flight_id', 'fl_day', 'model', 'class_available']) \\\n",
    "                            [['seat_available', 'seat_occupied']].count()\n",
    "display(model_scheme.head(2), model_scheme.tail(2))"
   ]
  },
  {
   "cell_type": "markdown",
   "metadata": {
    "id": "v0MtwHQ5uiSS"
   },
   "source": [
    "Из таблицы следует, что количество доступных мест для каждой модели:\n",
    "\n",
    "1) Boeing 737-300 - 12 мест в Бизнес-классе, 118 мест в Эконом-классе \\\n",
    "2) Sukhoi Superjet-100 - 12 мест в Бизнес-классе, 85 мест в Эконом-классе\n",
    "\n",
    "В столбце \"seat_occupied\" можно проследить, сколько фактически было занято мест в каждом классе обслуживания по каждому рейсу."
   ]
  },
  {
   "cell_type": "markdown",
   "metadata": {
    "id": "Rmp8-BCYuiSS"
   },
   "source": [
    "Далее рассмотрим распределение количества всех мест на борту каждой модели самолета, а также занятых мест после покупки билета \\\n",
    "( в разрезе дня, месяца и модели)"
   ]
  },
  {
   "cell_type": "code",
   "execution_count": 17,
   "metadata": {
    "id": "8jhoCHVMuiST"
   },
   "outputs": [],
   "source": [
    "flight_seat = flight.groupby(['fl_month', 'fl_day', 'model'])[['seat_available', 'seat_occupied']].count()"
   ]
  },
  {
   "cell_type": "code",
   "execution_count": 18,
   "metadata": {
    "colab": {
     "base_uri": "https://localhost:8080/",
     "height": 766
    },
    "executionInfo": {
     "elapsed": 904,
     "status": "ok",
     "timestamp": 1638329678163,
     "user": {
      "displayName": "An Mat",
      "photoUrl": "https://lh3.googleusercontent.com/a/default-user=s64",
      "userId": "17855782157325435961"
     },
     "user_tz": -600
    },
    "id": "jHciffC5uiST",
    "outputId": "7a957aec-f25f-4df4-96b6-c88255f0c170"
   },
   "outputs": [
    {
     "data": {
      "image/png": "[encoded data removed]",
      "text/plain": [
       "<Figure size 720x720 with 4 Axes>"
      ]
     },
     "metadata": {},
     "output_type": "display_data"
    }
   ],
   "source": [
    "sns.set_theme(palette=\"pastel\")\n",
    "flight_seat.loc[1][:].unstack(1).plot(kind='bar', title = 'Доступные vs проданные места в январе 2017',\\\n",
    "                                      legend = False, figsize=(10,10), subplots=True,\\\n",
    "                                     xlabel=\"Январь\", ylabel=\"Количество мест\")\n",
    "plt.show()"
   ]
  },
  {
   "cell_type": "code",
   "execution_count": 19,
   "metadata": {
    "colab": {
     "base_uri": "https://localhost:8080/",
     "height": 766
    },
    "executionInfo": {
     "elapsed": 1820,
     "status": "ok",
     "timestamp": 1638329679976,
     "user": {
      "displayName": "An Mat",
      "photoUrl": "https://lh3.googleusercontent.com/a/default-user=s64",
      "userId": "17855782157325435961"
     },
     "user_tz": -600
    },
    "id": "PDkHgG3luiST",
    "outputId": "bee03e3f-b43c-4ea6-f7de-f856a0ea47ba",
    "scrolled": false
   },
   "outputs": [
    {
     "data": {
      "image/png": "[encoded data removed]",
      "text/plain": [
       "<Figure size 720x720 with 4 Axes>"
      ]
     },
     "metadata": {},
     "output_type": "display_data"
    }
   ],
   "source": [
    "flight_seat.loc[2][:].unstack(1).plot(kind='bar', title = 'Доступные vs проданные места в феврале 2017',\\\n",
    "                                      legend = False, figsize=(10,10), subplots=True,\\\n",
    "                                     xlabel=\"Февраль\", ylabel=\"Количество мест\")\n",
    "plt.show()"
   ]
  },
  {
   "cell_type": "markdown",
   "metadata": {
    "id": "_DZgulZ-uiSU"
   },
   "source": [
    "Можно заметить, что в определенные дни борт самолета Boeing 737-300 совершал два полета (предоставляя 260 мест), однако заполняемость в разрезе каждого дня не выходила за рамки 150 мест. Возможно, что именно в эти дни один из рейсов мог оказаться малоприбыльным. "
   ]
  },
  {
   "cell_type": "markdown",
   "metadata": {
    "id": "5zbgkyQguiSU"
   },
   "source": [
    "Далее посмотрим на суммарную выручку с продажи билетов по каждому номеру рейса:"
   ]
  },
  {
   "cell_type": "code",
   "execution_count": 20,
   "metadata": {
    "colab": {
     "base_uri": "https://localhost:8080/",
     "height": 174
    },
    "executionInfo": {
     "elapsed": 56,
     "status": "ok",
     "timestamp": 1638329679979,
     "user": {
      "displayName": "An Mat",
      "photoUrl": "https://lh3.googleusercontent.com/a/default-user=s64",
      "userId": "17855782157325435961"
     },
     "user_tz": -600
    },
    "id": "ew0kgy5RuiSU",
    "outputId": "5a85fd4d-50ed-4110-a1dd-9310cea9d0ee",
    "scrolled": true
   },
   "outputs": [
    {
     "data": {
      "text/html": [
       "<div>\n",
       "<style scoped>\n",
       "    .dataframe tbody tr th:only-of-type {\n",
       "        vertical-align: middle;\n",
       "    }\n",
       "\n",
       "    .dataframe tbody tr th {\n",
       "        vertical-align: top;\n",
       "    }\n",
       "\n",
       "    .dataframe thead th {\n",
       "        text-align: right;\n",
       "    }\n",
       "</style>\n",
       "<table border=\"1\" class=\"dataframe\">\n",
       "  <thead>\n",
       "    <tr style=\"text-align: right;\">\n",
       "      <th>class_available</th>\n",
       "      <th>Business</th>\n",
       "      <th>Economy</th>\n",
       "    </tr>\n",
       "    <tr>\n",
       "      <th>flight_no</th>\n",
       "      <th></th>\n",
       "      <th></th>\n",
       "    </tr>\n",
       "  </thead>\n",
       "  <tbody>\n",
       "    <tr>\n",
       "      <th>PG0194</th>\n",
       "      <td>0.0</td>\n",
       "      <td>0.0</td>\n",
       "    </tr>\n",
       "    <tr>\n",
       "      <th>PG0252</th>\n",
       "      <td>22692000.0</td>\n",
       "      <td>74220000.0</td>\n",
       "    </tr>\n",
       "    <tr>\n",
       "      <th>PG0480</th>\n",
       "      <td>12341700.0</td>\n",
       "      <td>29574000.0</td>\n",
       "    </tr>\n",
       "  </tbody>\n",
       "</table>\n",
       "</div>"
      ],
      "text/plain": [
       "class_available    Business     Economy\n",
       "flight_no                              \n",
       "PG0194                  0.0         0.0\n",
       "PG0252           22692000.0  74220000.0\n",
       "PG0480           12341700.0  29574000.0"
      ]
     },
     "execution_count": 20,
     "metadata": {},
     "output_type": "execute_result"
    }
   ],
   "source": [
    "ticket_price_for_class = flight.pivot_table(columns = 'class_available', index = 'flight_no', \\\n",
    "                                            values = 'ticket_price', aggfunc = 'sum')\n",
    "ticket_price_for_class"
   ]
  },
  {
   "cell_type": "code",
   "execution_count": 21,
   "metadata": {
    "colab": {
     "base_uri": "https://localhost:8080/",
     "height": 336
    },
    "executionInfo": {
     "elapsed": 57,
     "status": "ok",
     "timestamp": 1638329679982,
     "user": {
      "displayName": "An Mat",
      "photoUrl": "https://lh3.googleusercontent.com/a/default-user=s64",
      "userId": "17855782157325435961"
     },
     "user_tz": -600
    },
    "id": "N6fBr2-luiSU",
    "outputId": "e9a7db44-0cfc-4bff-b312-cb2c0d9142e2",
    "scrolled": true
   },
   "outputs": [
    {
     "data": {
      "image/png": "[encoded data removed]",
      "text/plain": [
       "<Figure size 432x288 with 1 Axes>"
      ]
     },
     "metadata": {},
     "output_type": "display_data"
    }
   ],
   "source": [
    "ticket_price_for_class.plot(kind='bar', xlabel=\"Номер рейса\", ylabel=\"Выручка с продаж\")\n",
    "plt.legend([\"Бизнес-класс\", \"Эконом-класс\"])\n",
    "plt.show()"
   ]
  },
  {
   "cell_type": "code",
   "execution_count": 22,
   "metadata": {
    "colab": {
     "base_uri": "https://localhost:8080/"
    },
    "executionInfo": {
     "elapsed": 43,
     "status": "ok",
     "timestamp": 1638329679984,
     "user": {
      "displayName": "An Mat",
      "photoUrl": "https://lh3.googleusercontent.com/a/default-user=s64",
      "userId": "17855782157325435961"
     },
     "user_tz": -600
    },
    "id": "kd1alLmeuiSV",
    "outputId": "28897348-18c8-4766-d1fc-1d6ced24d304"
   },
   "outputs": [
    {
     "data": {
      "text/plain": [
       "city_depart  city_arrive \n",
       "Anapa        Novokuznetsk    1170\n",
       "dtype: int64"
      ]
     },
     "execution_count": 22,
     "metadata": {},
     "output_type": "execute_result"
    }
   ],
   "source": [
    "flight[flight.flight_no == 'PG0194'].loc[:, ['city_depart', 'city_arrive']].value_counts()"
   ]
  },
  {
   "cell_type": "markdown",
   "metadata": {
    "id": "r8YqFDeJuiSV"
   },
   "source": [
    "Мы обнаружили, что данные по стоимости билетов по направлению Анапа-Новокузнецк (номер рейса PG0194) отсутствуют в нашем датасете. Удалим его из анализа, преобразуем датасет:"
   ]
  },
  {
   "cell_type": "code",
   "execution_count": 23,
   "metadata": {
    "colab": {
     "base_uri": "https://localhost:8080/"
    },
    "executionInfo": {
     "elapsed": 50,
     "status": "ok",
     "timestamp": 1638329680554,
     "user": {
      "displayName": "An Mat",
      "photoUrl": "https://lh3.googleusercontent.com/a/default-user=s64",
      "userId": "17855782157325435961"
     },
     "user_tz": -600
    },
    "id": "sYGJpVKIuiSV",
    "outputId": "3c28c12c-2dab-48b0-fec1-9d9b7a0e0027",
    "scrolled": true
   },
   "outputs": [
    {
     "name": "stdout",
     "output_type": "stream",
     "text": [
      "<class 'pandas.core.frame.DataFrame'>\n",
      "Int64Index: 13393 entries, 0 to 14562\n",
      "Data columns (total 18 columns):\n",
      " #   Column               Non-Null Count  Dtype              \n",
      "---  ------               --------------  -----              \n",
      " 0   flight_id            13393 non-null  int64              \n",
      " 1   flight_no            13393 non-null  object             \n",
      " 2   city_depart          13393 non-null  object             \n",
      " 3   city_arrive          13393 non-null  object             \n",
      " 4   scheduled_departure  13393 non-null  datetime64[ns, UTC]\n",
      " 5   scheduled_arrival    13393 non-null  object             \n",
      " 6   fl_month             13393 non-null  float64            \n",
      " 7   flight_minute        13393 non-null  float64            \n",
      " 8   model                13393 non-null  object             \n",
      " 9   class_available      13393 non-null  object             \n",
      " 10  seat_available       13393 non-null  object             \n",
      " 11  ticket_no            13393 non-null  object             \n",
      " 12  class_occupied       11995 non-null  object             \n",
      " 13  seat_occupied        11995 non-null  object             \n",
      " 14  ticket_price         11995 non-null  float64            \n",
      " 15  fuel_price           13393 non-null  float64            \n",
      " 16  fuel_per_hour        13393 non-null  int64              \n",
      " 17  fl_day               13393 non-null  int64              \n",
      "dtypes: datetime64[ns, UTC](1), float64(4), int64(3), object(10)\n",
      "memory usage: 1.9+ MB\n"
     ]
    }
   ],
   "source": [
    "flight = flight[flight.flight_no != 'PG0194']\n",
    "flight.info()"
   ]
  },
  {
   "cell_type": "markdown",
   "metadata": {
    "id": "AlxjQvr9uiSW"
   },
   "source": [
    "Теперь изучим стоимость билета по каждой модели самолета и каждому классу обслуживания."
   ]
  },
  {
   "cell_type": "code",
   "execution_count": 24,
   "metadata": {
    "colab": {
     "base_uri": "https://localhost:8080/",
     "height": 790
    },
    "executionInfo": {
     "elapsed": 45,
     "status": "ok",
     "timestamp": 1638329680555,
     "user": {
      "displayName": "An Mat",
      "photoUrl": "https://lh3.googleusercontent.com/a/default-user=s64",
      "userId": "17855782157325435961"
     },
     "user_tz": -600
    },
    "id": "IDljLIpcuiSW",
    "outputId": "3c3a92f9-de67-497a-d41d-add21a148658",
    "scrolled": true
   },
   "outputs": [
    {
     "data": {
      "text/html": [
       "<div>\n",
       "<style scoped>\n",
       "    .dataframe tbody tr th:only-of-type {\n",
       "        vertical-align: middle;\n",
       "    }\n",
       "\n",
       "    .dataframe tbody tr th {\n",
       "        vertical-align: top;\n",
       "    }\n",
       "\n",
       "    .dataframe thead th {\n",
       "        text-align: right;\n",
       "    }\n",
       "</style>\n",
       "<table border=\"1\" class=\"dataframe\">\n",
       "  <thead>\n",
       "    <tr style=\"text-align: right;\">\n",
       "      <th></th>\n",
       "      <th>flight_id</th>\n",
       "      <th>flight_no</th>\n",
       "      <th>city_depart</th>\n",
       "      <th>city_arrive</th>\n",
       "      <th>scheduled_departure</th>\n",
       "      <th>scheduled_arrival</th>\n",
       "      <th>fl_month</th>\n",
       "      <th>flight_minute</th>\n",
       "      <th>model</th>\n",
       "      <th>class_available</th>\n",
       "      <th>seat_available</th>\n",
       "      <th>ticket_no</th>\n",
       "      <th>class_occupied</th>\n",
       "      <th>seat_occupied</th>\n",
       "      <th>ticket_price</th>\n",
       "      <th>fuel_price</th>\n",
       "      <th>fuel_per_hour</th>\n",
       "      <th>fl_day</th>\n",
       "    </tr>\n",
       "  </thead>\n",
       "  <tbody>\n",
       "    <tr>\n",
       "      <th>0</th>\n",
       "      <td>136119</td>\n",
       "      <td>PG0252</td>\n",
       "      <td>Anapa</td>\n",
       "      <td>Moscow</td>\n",
       "      <td>2017-01-03 10:05:00+00:00</td>\n",
       "      <td>2017-01-03T11:45:00Z</td>\n",
       "      <td>1.0</td>\n",
       "      <td>100.0</td>\n",
       "      <td>Boeing 737-300</td>\n",
       "      <td>Business</td>\n",
       "      <td>3A</td>\n",
       "      <td>5432333357</td>\n",
       "      <td>Business</td>\n",
       "      <td>3A</td>\n",
       "      <td>36600.0</td>\n",
       "      <td>48893.30</td>\n",
       "      <td>2600</td>\n",
       "      <td>3</td>\n",
       "    </tr>\n",
       "    <tr>\n",
       "      <th>1</th>\n",
       "      <td>136119</td>\n",
       "      <td>PG0252</td>\n",
       "      <td>Anapa</td>\n",
       "      <td>Moscow</td>\n",
       "      <td>2017-01-03 10:05:00+00:00</td>\n",
       "      <td>2017-01-03T11:45:00Z</td>\n",
       "      <td>1.0</td>\n",
       "      <td>100.0</td>\n",
       "      <td>Boeing 737-300</td>\n",
       "      <td>Business</td>\n",
       "      <td>1F</td>\n",
       "      <td>5432349514</td>\n",
       "      <td>Business</td>\n",
       "      <td>1F</td>\n",
       "      <td>36600.0</td>\n",
       "      <td>48893.30</td>\n",
       "      <td>2600</td>\n",
       "      <td>3</td>\n",
       "    </tr>\n",
       "    <tr>\n",
       "      <th>2</th>\n",
       "      <td>136119</td>\n",
       "      <td>PG0252</td>\n",
       "      <td>Anapa</td>\n",
       "      <td>Moscow</td>\n",
       "      <td>2017-01-03 10:05:00+00:00</td>\n",
       "      <td>2017-01-03T11:45:00Z</td>\n",
       "      <td>1.0</td>\n",
       "      <td>100.0</td>\n",
       "      <td>Boeing 737-300</td>\n",
       "      <td>Business</td>\n",
       "      <td>3D</td>\n",
       "      <td>5432349550</td>\n",
       "      <td>Business</td>\n",
       "      <td>3D</td>\n",
       "      <td>36600.0</td>\n",
       "      <td>48893.30</td>\n",
       "      <td>2600</td>\n",
       "      <td>3</td>\n",
       "    </tr>\n",
       "    <tr>\n",
       "      <th>3</th>\n",
       "      <td>136119</td>\n",
       "      <td>PG0252</td>\n",
       "      <td>Anapa</td>\n",
       "      <td>Moscow</td>\n",
       "      <td>2017-01-03 10:05:00+00:00</td>\n",
       "      <td>2017-01-03T11:45:00Z</td>\n",
       "      <td>1.0</td>\n",
       "      <td>100.0</td>\n",
       "      <td>Boeing 737-300</td>\n",
       "      <td>Business</td>\n",
       "      <td>1D</td>\n",
       "      <td>5432349714</td>\n",
       "      <td>Business</td>\n",
       "      <td>1D</td>\n",
       "      <td>36600.0</td>\n",
       "      <td>48893.30</td>\n",
       "      <td>2600</td>\n",
       "      <td>3</td>\n",
       "    </tr>\n",
       "    <tr>\n",
       "      <th>4</th>\n",
       "      <td>136119</td>\n",
       "      <td>PG0252</td>\n",
       "      <td>Anapa</td>\n",
       "      <td>Moscow</td>\n",
       "      <td>2017-01-03 10:05:00+00:00</td>\n",
       "      <td>2017-01-03T11:45:00Z</td>\n",
       "      <td>1.0</td>\n",
       "      <td>100.0</td>\n",
       "      <td>Boeing 737-300</td>\n",
       "      <td>Business</td>\n",
       "      <td>1C</td>\n",
       "      <td>5434147189</td>\n",
       "      <td>Business</td>\n",
       "      <td>1C</td>\n",
       "      <td>36600.0</td>\n",
       "      <td>48893.30</td>\n",
       "      <td>2600</td>\n",
       "      <td>3</td>\n",
       "    </tr>\n",
       "    <tr>\n",
       "      <th>...</th>\n",
       "      <td>...</td>\n",
       "      <td>...</td>\n",
       "      <td>...</td>\n",
       "      <td>...</td>\n",
       "      <td>...</td>\n",
       "      <td>...</td>\n",
       "      <td>...</td>\n",
       "      <td>...</td>\n",
       "      <td>...</td>\n",
       "      <td>...</td>\n",
       "      <td>...</td>\n",
       "      <td>...</td>\n",
       "      <td>...</td>\n",
       "      <td>...</td>\n",
       "      <td>...</td>\n",
       "      <td>...</td>\n",
       "      <td>...</td>\n",
       "      <td>...</td>\n",
       "    </tr>\n",
       "    <tr>\n",
       "      <th>8296</th>\n",
       "      <td>136486</td>\n",
       "      <td>PG0252</td>\n",
       "      <td>Anapa</td>\n",
       "      <td>Moscow</td>\n",
       "      <td>2017-02-02 10:05:00+00:00</td>\n",
       "      <td>2017-02-02T11:45:00Z</td>\n",
       "      <td>2.0</td>\n",
       "      <td>100.0</td>\n",
       "      <td>Boeing 737-300</td>\n",
       "      <td>Economy</td>\n",
       "      <td>4D</td>\n",
       "      <td>5435172011</td>\n",
       "      <td>Economy</td>\n",
       "      <td>4D</td>\n",
       "      <td>12200.0</td>\n",
       "      <td>46672.54</td>\n",
       "      <td>2600</td>\n",
       "      <td>2</td>\n",
       "    </tr>\n",
       "    <tr>\n",
       "      <th>8297</th>\n",
       "      <td>136486</td>\n",
       "      <td>PG0252</td>\n",
       "      <td>Anapa</td>\n",
       "      <td>Moscow</td>\n",
       "      <td>2017-02-02 10:05:00+00:00</td>\n",
       "      <td>2017-02-02T11:45:00Z</td>\n",
       "      <td>2.0</td>\n",
       "      <td>100.0</td>\n",
       "      <td>Boeing 737-300</td>\n",
       "      <td>Economy</td>\n",
       "      <td>20E</td>\n",
       "      <td>5435489587</td>\n",
       "      <td>Economy</td>\n",
       "      <td>20E</td>\n",
       "      <td>12200.0</td>\n",
       "      <td>46672.54</td>\n",
       "      <td>2600</td>\n",
       "      <td>2</td>\n",
       "    </tr>\n",
       "    <tr>\n",
       "      <th>8298</th>\n",
       "      <td>136486</td>\n",
       "      <td>PG0252</td>\n",
       "      <td>Anapa</td>\n",
       "      <td>Moscow</td>\n",
       "      <td>2017-02-02 10:05:00+00:00</td>\n",
       "      <td>2017-02-02T11:45:00Z</td>\n",
       "      <td>2.0</td>\n",
       "      <td>100.0</td>\n",
       "      <td>Boeing 737-300</td>\n",
       "      <td>Economy</td>\n",
       "      <td>21D</td>\n",
       "      <td>5435489588</td>\n",
       "      <td>Economy</td>\n",
       "      <td>21D</td>\n",
       "      <td>12200.0</td>\n",
       "      <td>46672.54</td>\n",
       "      <td>2600</td>\n",
       "      <td>2</td>\n",
       "    </tr>\n",
       "    <tr>\n",
       "      <th>8299</th>\n",
       "      <td>136486</td>\n",
       "      <td>PG0252</td>\n",
       "      <td>Anapa</td>\n",
       "      <td>Moscow</td>\n",
       "      <td>2017-02-02 10:05:00+00:00</td>\n",
       "      <td>2017-02-02T11:45:00Z</td>\n",
       "      <td>2.0</td>\n",
       "      <td>100.0</td>\n",
       "      <td>Boeing 737-300</td>\n",
       "      <td>Economy</td>\n",
       "      <td>5F</td>\n",
       "      <td>5435722694</td>\n",
       "      <td>Economy</td>\n",
       "      <td>5F</td>\n",
       "      <td>12200.0</td>\n",
       "      <td>46672.54</td>\n",
       "      <td>2600</td>\n",
       "      <td>2</td>\n",
       "    </tr>\n",
       "    <tr>\n",
       "      <th>8300</th>\n",
       "      <td>136486</td>\n",
       "      <td>PG0252</td>\n",
       "      <td>Anapa</td>\n",
       "      <td>Moscow</td>\n",
       "      <td>2017-02-02 10:05:00+00:00</td>\n",
       "      <td>2017-02-02T11:45:00Z</td>\n",
       "      <td>2.0</td>\n",
       "      <td>100.0</td>\n",
       "      <td>Boeing 737-300</td>\n",
       "      <td>Economy</td>\n",
       "      <td>9D</td>\n",
       "      <td>5435722695</td>\n",
       "      <td>Economy</td>\n",
       "      <td>9D</td>\n",
       "      <td>12200.0</td>\n",
       "      <td>46672.54</td>\n",
       "      <td>2600</td>\n",
       "      <td>2</td>\n",
       "    </tr>\n",
       "  </tbody>\n",
       "</table>\n",
       "<p>6674 rows × 18 columns</p>\n",
       "</div>"
      ],
      "text/plain": [
       "      flight_id flight_no city_depart city_arrive       scheduled_departure  \\\n",
       "0        136119    PG0252       Anapa      Moscow 2017-01-03 10:05:00+00:00   \n",
       "1        136119    PG0252       Anapa      Moscow 2017-01-03 10:05:00+00:00   \n",
       "2        136119    PG0252       Anapa      Moscow 2017-01-03 10:05:00+00:00   \n",
       "3        136119    PG0252       Anapa      Moscow 2017-01-03 10:05:00+00:00   \n",
       "4        136119    PG0252       Anapa      Moscow 2017-01-03 10:05:00+00:00   \n",
       "...         ...       ...         ...         ...                       ...   \n",
       "8296     136486    PG0252       Anapa      Moscow 2017-02-02 10:05:00+00:00   \n",
       "8297     136486    PG0252       Anapa      Moscow 2017-02-02 10:05:00+00:00   \n",
       "8298     136486    PG0252       Anapa      Moscow 2017-02-02 10:05:00+00:00   \n",
       "8299     136486    PG0252       Anapa      Moscow 2017-02-02 10:05:00+00:00   \n",
       "8300     136486    PG0252       Anapa      Moscow 2017-02-02 10:05:00+00:00   \n",
       "\n",
       "         scheduled_arrival  fl_month  flight_minute           model  \\\n",
       "0     2017-01-03T11:45:00Z       1.0          100.0  Boeing 737-300   \n",
       "1     2017-01-03T11:45:00Z       1.0          100.0  Boeing 737-300   \n",
       "2     2017-01-03T11:45:00Z       1.0          100.0  Boeing 737-300   \n",
       "3     2017-01-03T11:45:00Z       1.0          100.0  Boeing 737-300   \n",
       "4     2017-01-03T11:45:00Z       1.0          100.0  Boeing 737-300   \n",
       "...                    ...       ...            ...             ...   \n",
       "8296  2017-02-02T11:45:00Z       2.0          100.0  Boeing 737-300   \n",
       "8297  2017-02-02T11:45:00Z       2.0          100.0  Boeing 737-300   \n",
       "8298  2017-02-02T11:45:00Z       2.0          100.0  Boeing 737-300   \n",
       "8299  2017-02-02T11:45:00Z       2.0          100.0  Boeing 737-300   \n",
       "8300  2017-02-02T11:45:00Z       2.0          100.0  Boeing 737-300   \n",
       "\n",
       "     class_available seat_available   ticket_no class_occupied seat_occupied  \\\n",
       "0           Business             3A  5432333357       Business            3A   \n",
       "1           Business             1F  5432349514       Business            1F   \n",
       "2           Business             3D  5432349550       Business            3D   \n",
       "3           Business             1D  5432349714       Business            1D   \n",
       "4           Business             1C  5434147189       Business            1C   \n",
       "...              ...            ...         ...            ...           ...   \n",
       "8296         Economy             4D  5435172011        Economy            4D   \n",
       "8297         Economy            20E  5435489587        Economy           20E   \n",
       "8298         Economy            21D  5435489588        Economy           21D   \n",
       "8299         Economy             5F  5435722694        Economy            5F   \n",
       "8300         Economy             9D  5435722695        Economy            9D   \n",
       "\n",
       "      ticket_price  fuel_price  fuel_per_hour  fl_day  \n",
       "0          36600.0    48893.30           2600       3  \n",
       "1          36600.0    48893.30           2600       3  \n",
       "2          36600.0    48893.30           2600       3  \n",
       "3          36600.0    48893.30           2600       3  \n",
       "4          36600.0    48893.30           2600       3  \n",
       "...            ...         ...            ...     ...  \n",
       "8296       12200.0    46672.54           2600       2  \n",
       "8297       12200.0    46672.54           2600       2  \n",
       "8298       12200.0    46672.54           2600       2  \n",
       "8299       12200.0    46672.54           2600       2  \n",
       "8300       12200.0    46672.54           2600       2  \n",
       "\n",
       "[6674 rows x 18 columns]"
      ]
     },
     "execution_count": 24,
     "metadata": {},
     "output_type": "execute_result"
    }
   ],
   "source": [
    "flight_no_PG0252 = flight[(flight.flight_no == 'PG0252') & \n",
    "                          (flight.ticket_price.isna() == False)]\n",
    "flight_no_PG0252"
   ]
  },
  {
   "cell_type": "code",
   "execution_count": 25,
   "metadata": {
    "colab": {
     "base_uri": "https://localhost:8080/",
     "height": 174
    },
    "executionInfo": {
     "elapsed": 49,
     "status": "ok",
     "timestamp": 1638329680560,
     "user": {
      "displayName": "An Mat",
      "photoUrl": "https://lh3.googleusercontent.com/a/default-user=s64",
      "userId": "17855782157325435961"
     },
     "user_tz": -600
    },
    "id": "Z4odkWBHuiSW",
    "outputId": "dc8b7bb7-b226-4869-88c5-19516a58b0f6",
    "scrolled": true
   },
   "outputs": [
    {
     "data": {
      "text/html": [
       "<div>\n",
       "<style scoped>\n",
       "    .dataframe tbody tr th:only-of-type {\n",
       "        vertical-align: middle;\n",
       "    }\n",
       "\n",
       "    .dataframe tbody tr th {\n",
       "        vertical-align: top;\n",
       "    }\n",
       "\n",
       "    .dataframe thead th {\n",
       "        text-align: right;\n",
       "    }\n",
       "</style>\n",
       "<table border=\"1\" class=\"dataframe\">\n",
       "  <thead>\n",
       "    <tr style=\"text-align: right;\">\n",
       "      <th></th>\n",
       "      <th></th>\n",
       "      <th></th>\n",
       "      <th>ticket_price</th>\n",
       "    </tr>\n",
       "    <tr>\n",
       "      <th>model</th>\n",
       "      <th>class_available</th>\n",
       "      <th>ticket_price</th>\n",
       "      <th></th>\n",
       "    </tr>\n",
       "  </thead>\n",
       "  <tbody>\n",
       "    <tr>\n",
       "      <th rowspan=\"3\" valign=\"top\">Boeing 737-300</th>\n",
       "      <th>Business</th>\n",
       "      <th>36600.0</th>\n",
       "      <td>620</td>\n",
       "    </tr>\n",
       "    <tr>\n",
       "      <th rowspan=\"2\" valign=\"top\">Economy</th>\n",
       "      <th>12200.0</th>\n",
       "      <td>5753</td>\n",
       "    </tr>\n",
       "    <tr>\n",
       "      <th>13400.0</th>\n",
       "      <td>301</td>\n",
       "    </tr>\n",
       "  </tbody>\n",
       "</table>\n",
       "</div>"
      ],
      "text/plain": [
       "                                             ticket_price\n",
       "model          class_available ticket_price              \n",
       "Boeing 737-300 Business        36600.0                620\n",
       "               Economy         12200.0               5753\n",
       "                               13400.0                301"
      ]
     },
     "execution_count": 25,
     "metadata": {},
     "output_type": "execute_result"
    }
   ],
   "source": [
    "tarif_PG0252 = pd.DataFrame(flight_no_PG0252.groupby(['model', 'class_available', 'ticket_price'])['ticket_price'].count())\n",
    "tarif_PG0252"
   ]
  },
  {
   "cell_type": "code",
   "execution_count": 26,
   "metadata": {
    "id": "IBhdI2DjuiSW",
    "scrolled": true
   },
   "outputs": [],
   "source": [
    "t_PG0252 = tarif_PG0252.unstack(0)"
   ]
  },
  {
   "cell_type": "code",
   "execution_count": 27,
   "metadata": {
    "colab": {
     "base_uri": "https://localhost:8080/",
     "height": 374
    },
    "executionInfo": {
     "elapsed": 48,
     "status": "ok",
     "timestamp": 1638329680561,
     "user": {
      "displayName": "An Mat",
      "photoUrl": "https://lh3.googleusercontent.com/a/default-user=s64",
      "userId": "17855782157325435961"
     },
     "user_tz": -600
    },
    "id": "MtVMzquZuiSX",
    "outputId": "8d46af4a-1371-4cee-b186-3ce20c6be2a9"
   },
   "outputs": [
    {
     "data": {
      "image/png": "[encoded data removed]",
      "text/plain": [
       "<Figure size 360x360 with 1 Axes>"
      ]
     },
     "metadata": {},
     "output_type": "display_data"
    }
   ],
   "source": [
    "t_PG0252.plot(kind='pie', title = 'Количество проданных билетов Boeing 737-300', ylabel='', \\\n",
    "       labels=['Бизнесс-класс: 36600 руб.','Эконом-класс: 12200 руб.','Эконом-класс: 13400 руб.'], \\\n",
    "       figsize=(5,5), subplots=True, legend = False)\n",
    "plt.show()"
   ]
  },
  {
   "cell_type": "code",
   "execution_count": 28,
   "metadata": {
    "colab": {
     "base_uri": "https://localhost:8080/",
     "height": 423
    },
    "executionInfo": {
     "elapsed": 43,
     "status": "ok",
     "timestamp": 1638329680562,
     "user": {
      "displayName": "An Mat",
      "photoUrl": "https://lh3.googleusercontent.com/a/default-user=s64",
      "userId": "17855782157325435961"
     },
     "user_tz": -600
    },
    "id": "3B7656YEuiSX",
    "outputId": "3b9da35c-8658-4b61-c233-88252c8afded",
    "scrolled": true
   },
   "outputs": [
    {
     "data": {
      "text/html": [
       "<div>\n",
       "<style scoped>\n",
       "    .dataframe tbody tr th:only-of-type {\n",
       "        vertical-align: middle;\n",
       "    }\n",
       "\n",
       "    .dataframe tbody tr th {\n",
       "        vertical-align: top;\n",
       "    }\n",
       "\n",
       "    .dataframe thead th {\n",
       "        text-align: right;\n",
       "    }\n",
       "</style>\n",
       "<table border=\"1\" class=\"dataframe\">\n",
       "  <thead>\n",
       "    <tr style=\"text-align: right;\">\n",
       "      <th></th>\n",
       "      <th>flight_id</th>\n",
       "      <th>fl_month</th>\n",
       "      <th>seat_available</th>\n",
       "    </tr>\n",
       "  </thead>\n",
       "  <tbody>\n",
       "    <tr>\n",
       "      <th>12</th>\n",
       "      <td>136119</td>\n",
       "      <td>1.0</td>\n",
       "      <td>9B</td>\n",
       "    </tr>\n",
       "    <tr>\n",
       "      <th>13</th>\n",
       "      <td>136119</td>\n",
       "      <td>1.0</td>\n",
       "      <td>15D</td>\n",
       "    </tr>\n",
       "    <tr>\n",
       "      <th>14</th>\n",
       "      <td>136119</td>\n",
       "      <td>1.0</td>\n",
       "      <td>10D</td>\n",
       "    </tr>\n",
       "    <tr>\n",
       "      <th>15</th>\n",
       "      <td>136119</td>\n",
       "      <td>1.0</td>\n",
       "      <td>5A</td>\n",
       "    </tr>\n",
       "    <tr>\n",
       "      <th>16</th>\n",
       "      <td>136119</td>\n",
       "      <td>1.0</td>\n",
       "      <td>6E</td>\n",
       "    </tr>\n",
       "    <tr>\n",
       "      <th>...</th>\n",
       "      <td>...</td>\n",
       "      <td>...</td>\n",
       "      <td>...</td>\n",
       "    </tr>\n",
       "    <tr>\n",
       "      <th>8296</th>\n",
       "      <td>136486</td>\n",
       "      <td>2.0</td>\n",
       "      <td>4D</td>\n",
       "    </tr>\n",
       "    <tr>\n",
       "      <th>8297</th>\n",
       "      <td>136486</td>\n",
       "      <td>2.0</td>\n",
       "      <td>20E</td>\n",
       "    </tr>\n",
       "    <tr>\n",
       "      <th>8298</th>\n",
       "      <td>136486</td>\n",
       "      <td>2.0</td>\n",
       "      <td>21D</td>\n",
       "    </tr>\n",
       "    <tr>\n",
       "      <th>8299</th>\n",
       "      <td>136486</td>\n",
       "      <td>2.0</td>\n",
       "      <td>5F</td>\n",
       "    </tr>\n",
       "    <tr>\n",
       "      <th>8300</th>\n",
       "      <td>136486</td>\n",
       "      <td>2.0</td>\n",
       "      <td>9D</td>\n",
       "    </tr>\n",
       "  </tbody>\n",
       "</table>\n",
       "<p>5753 rows × 3 columns</p>\n",
       "</div>"
      ],
      "text/plain": [
       "      flight_id  fl_month seat_available\n",
       "12       136119       1.0             9B\n",
       "13       136119       1.0            15D\n",
       "14       136119       1.0            10D\n",
       "15       136119       1.0             5A\n",
       "16       136119       1.0             6E\n",
       "...         ...       ...            ...\n",
       "8296     136486       2.0             4D\n",
       "8297     136486       2.0            20E\n",
       "8298     136486       2.0            21D\n",
       "8299     136486       2.0             5F\n",
       "8300     136486       2.0             9D\n",
       "\n",
       "[5753 rows x 3 columns]"
      ]
     },
     "execution_count": 28,
     "metadata": {},
     "output_type": "execute_result"
    }
   ],
   "source": [
    "ticket_price_12000 = flight[flight.ticket_price == 12200.0][['flight_id', 'fl_month', 'seat_available']]\n",
    "ticket_price_12000"
   ]
  },
  {
   "cell_type": "code",
   "execution_count": 29,
   "metadata": {
    "colab": {
     "base_uri": "https://localhost:8080/"
    },
    "executionInfo": {
     "elapsed": 43,
     "status": "ok",
     "timestamp": 1638329680563,
     "user": {
      "displayName": "An Mat",
      "photoUrl": "https://lh3.googleusercontent.com/a/default-user=s64",
      "userId": "17855782157325435961"
     },
     "user_tz": -600
    },
    "id": "xkjmS-dyuiSX",
    "outputId": "3639f2f0-c775-4f77-923f-f0ed8aa95641"
   },
   "outputs": [
    {
     "data": {
      "text/plain": [
       "array(['9B', '15D', '10D', '5A', '6E', '17A', '7B', '16F', '7E', '17D',\n",
       "       '14E', '21C', '6D', '17F', '23F', '8D', '12D', '21F', '15B', '4E',\n",
       "       '15E', '10C', '4B', '4F', '7F', '9C', '13F', '12A', '18A', '6A',\n",
       "       '21A', '7C', '7A', '20F', '4C', '9F', '9D', '14F', '22F', '22A',\n",
       "       '8E', '19B', '16E', '14B', '20E', '8C', '16C', '21D', '12C', '9E',\n",
       "       '6B', '13D', '18E', '12B', '18C', '5E', '8A', '16B', '5B', '15F',\n",
       "       '20B', '17C', '22B', '16D', '14D', '19C', '13B', '4D', '22E',\n",
       "       '17E', '17B', '6F', '6C', '22C', '14A', '13C', '20D', '22D', '5F',\n",
       "       '7D', '5D', '13E', '20C', '23B', '23E', '13A', '18D', '10E', '23A',\n",
       "       '19F', '5C', '18F', '19D', '16A', '19E', '8B', '15C', '23D', '20A',\n",
       "       '21B', '14C', '12F', '10B', '8F', '12E', '15A', '18B', '23C', '4A',\n",
       "       '19A', '21E', '9A'], dtype=object)"
      ]
     },
     "execution_count": 29,
     "metadata": {},
     "output_type": "execute_result"
    }
   ],
   "source": [
    "ticket_price_12000.seat_available.unique()"
   ]
  },
  {
   "cell_type": "code",
   "execution_count": 30,
   "metadata": {
    "colab": {
     "base_uri": "https://localhost:8080/",
     "height": 423
    },
    "executionInfo": {
     "elapsed": 40,
     "status": "ok",
     "timestamp": 1638329680564,
     "user": {
      "displayName": "An Mat",
      "photoUrl": "https://lh3.googleusercontent.com/a/default-user=s64",
      "userId": "17855782157325435961"
     },
     "user_tz": -600
    },
    "id": "MEn26ZVwuiSY",
    "outputId": "558953ad-e5ca-4eb5-e610-0c6569d0f8e1"
   },
   "outputs": [
    {
     "data": {
      "text/html": [
       "<div>\n",
       "<style scoped>\n",
       "    .dataframe tbody tr th:only-of-type {\n",
       "        vertical-align: middle;\n",
       "    }\n",
       "\n",
       "    .dataframe tbody tr th {\n",
       "        vertical-align: top;\n",
       "    }\n",
       "\n",
       "    .dataframe thead th {\n",
       "        text-align: right;\n",
       "    }\n",
       "</style>\n",
       "<table border=\"1\" class=\"dataframe\">\n",
       "  <thead>\n",
       "    <tr style=\"text-align: right;\">\n",
       "      <th></th>\n",
       "      <th>flight_id</th>\n",
       "      <th>fl_month</th>\n",
       "      <th>seat_available</th>\n",
       "    </tr>\n",
       "  </thead>\n",
       "  <tbody>\n",
       "    <tr>\n",
       "      <th>18</th>\n",
       "      <td>136119</td>\n",
       "      <td>1.0</td>\n",
       "      <td>11E</td>\n",
       "    </tr>\n",
       "    <tr>\n",
       "      <th>19</th>\n",
       "      <td>136119</td>\n",
       "      <td>1.0</td>\n",
       "      <td>11A</td>\n",
       "    </tr>\n",
       "    <tr>\n",
       "      <th>44</th>\n",
       "      <td>136119</td>\n",
       "      <td>1.0</td>\n",
       "      <td>11C</td>\n",
       "    </tr>\n",
       "    <tr>\n",
       "      <th>95</th>\n",
       "      <td>136119</td>\n",
       "      <td>1.0</td>\n",
       "      <td>11B</td>\n",
       "    </tr>\n",
       "    <tr>\n",
       "      <th>99</th>\n",
       "      <td>136119</td>\n",
       "      <td>1.0</td>\n",
       "      <td>11F</td>\n",
       "    </tr>\n",
       "    <tr>\n",
       "      <th>...</th>\n",
       "      <td>...</td>\n",
       "      <td>...</td>\n",
       "      <td>...</td>\n",
       "    </tr>\n",
       "    <tr>\n",
       "      <th>8173</th>\n",
       "      <td>136479</td>\n",
       "      <td>2.0</td>\n",
       "      <td>11D</td>\n",
       "    </tr>\n",
       "    <tr>\n",
       "      <th>8212</th>\n",
       "      <td>136486</td>\n",
       "      <td>2.0</td>\n",
       "      <td>11D</td>\n",
       "    </tr>\n",
       "    <tr>\n",
       "      <th>8220</th>\n",
       "      <td>136486</td>\n",
       "      <td>2.0</td>\n",
       "      <td>11A</td>\n",
       "    </tr>\n",
       "    <tr>\n",
       "      <th>8253</th>\n",
       "      <td>136486</td>\n",
       "      <td>2.0</td>\n",
       "      <td>11B</td>\n",
       "    </tr>\n",
       "    <tr>\n",
       "      <th>8269</th>\n",
       "      <td>136486</td>\n",
       "      <td>2.0</td>\n",
       "      <td>11F</td>\n",
       "    </tr>\n",
       "  </tbody>\n",
       "</table>\n",
       "<p>301 rows × 3 columns</p>\n",
       "</div>"
      ],
      "text/plain": [
       "      flight_id  fl_month seat_available\n",
       "18       136119       1.0            11E\n",
       "19       136119       1.0            11A\n",
       "44       136119       1.0            11C\n",
       "95       136119       1.0            11B\n",
       "99       136119       1.0            11F\n",
       "...         ...       ...            ...\n",
       "8173     136479       2.0            11D\n",
       "8212     136486       2.0            11D\n",
       "8220     136486       2.0            11A\n",
       "8253     136486       2.0            11B\n",
       "8269     136486       2.0            11F\n",
       "\n",
       "[301 rows x 3 columns]"
      ]
     },
     "execution_count": 30,
     "metadata": {},
     "output_type": "execute_result"
    }
   ],
   "source": [
    "ticket_price_13400 = flight[flight.ticket_price == 13400.0][['flight_id', 'fl_month', 'seat_available']]\n",
    "ticket_price_13400"
   ]
  },
  {
   "cell_type": "code",
   "execution_count": 31,
   "metadata": {
    "colab": {
     "base_uri": "https://localhost:8080/"
    },
    "executionInfo": {
     "elapsed": 39,
     "status": "ok",
     "timestamp": 1638329680565,
     "user": {
      "displayName": "An Mat",
      "photoUrl": "https://lh3.googleusercontent.com/a/default-user=s64",
      "userId": "17855782157325435961"
     },
     "user_tz": -600
    },
    "id": "TXwORm1tuiSY",
    "outputId": "35e82f80-b429-4195-cf15-9a0fd4f173d6"
   },
   "outputs": [
    {
     "data": {
      "text/plain": [
       "array(['11E', '11A', '11C', '11B', '11F', '11D'], dtype=object)"
      ]
     },
     "execution_count": 31,
     "metadata": {},
     "output_type": "execute_result"
    }
   ],
   "source": [
    "ticket_price_13400.seat_available.unique()"
   ]
  },
  {
   "cell_type": "markdown",
   "metadata": {
    "id": "qMWZcl69uiSY"
   },
   "source": [
    "Предварительные выводы (Анапа-Москва):\n",
    "\n",
    "1) Номер рейса PG0252 (Анапа-Москва) соответствует модели Boeing 737-300, \\\n",
    "2) Стоимость билета в Бизнес-классе составляет 36600 руб., \\\n",
    "3) Стоимость билета в Эконом-классе: для мест, начинающихся на 11*, стоимость составляет 13400 руб.,\n",
    "для всех остальных - 12200 руб., \\\n",
    "4) Стоимость билета в феврале осталась на уровне января."
   ]
  },
  {
   "cell_type": "markdown",
   "metadata": {
    "id": "DU3nSbSpuiSZ"
   },
   "source": [
    "Изучим стоимость билетов по следующему направлению:"
   ]
  },
  {
   "cell_type": "code",
   "execution_count": 32,
   "metadata": {
    "colab": {
     "base_uri": "https://localhost:8080/",
     "height": 790
    },
    "executionInfo": {
     "elapsed": 36,
     "status": "ok",
     "timestamp": 1638329680566,
     "user": {
      "displayName": "An Mat",
      "photoUrl": "https://lh3.googleusercontent.com/a/default-user=s64",
      "userId": "17855782157325435961"
     },
     "user_tz": -600
    },
    "id": "_RclV06luiSZ",
    "outputId": "79099260-e7b0-4ec8-c10a-b52fcdf442dd"
   },
   "outputs": [
    {
     "data": {
      "text/html": [
       "<div>\n",
       "<style scoped>\n",
       "    .dataframe tbody tr th:only-of-type {\n",
       "        vertical-align: middle;\n",
       "    }\n",
       "\n",
       "    .dataframe tbody tr th {\n",
       "        vertical-align: top;\n",
       "    }\n",
       "\n",
       "    .dataframe thead th {\n",
       "        text-align: right;\n",
       "    }\n",
       "</style>\n",
       "<table border=\"1\" class=\"dataframe\">\n",
       "  <thead>\n",
       "    <tr style=\"text-align: right;\">\n",
       "      <th></th>\n",
       "      <th>flight_id</th>\n",
       "      <th>flight_no</th>\n",
       "      <th>city_depart</th>\n",
       "      <th>city_arrive</th>\n",
       "      <th>scheduled_departure</th>\n",
       "      <th>scheduled_arrival</th>\n",
       "      <th>fl_month</th>\n",
       "      <th>flight_minute</th>\n",
       "      <th>model</th>\n",
       "      <th>class_available</th>\n",
       "      <th>seat_available</th>\n",
       "      <th>ticket_no</th>\n",
       "      <th>class_occupied</th>\n",
       "      <th>seat_occupied</th>\n",
       "      <th>ticket_price</th>\n",
       "      <th>fuel_price</th>\n",
       "      <th>fuel_per_hour</th>\n",
       "      <th>fl_day</th>\n",
       "    </tr>\n",
       "  </thead>\n",
       "  <tbody>\n",
       "    <tr>\n",
       "      <th>8840</th>\n",
       "      <td>136571</td>\n",
       "      <td>PG0480</td>\n",
       "      <td>Anapa</td>\n",
       "      <td>Belgorod</td>\n",
       "      <td>2017-01-25 09:25:00+00:00</td>\n",
       "      <td>2017-01-25T10:15:00Z</td>\n",
       "      <td>1.0</td>\n",
       "      <td>50.0</td>\n",
       "      <td>Sukhoi Superjet-100</td>\n",
       "      <td>Business</td>\n",
       "      <td>3D</td>\n",
       "      <td>5432319274</td>\n",
       "      <td>Business</td>\n",
       "      <td>3D</td>\n",
       "      <td>18900.0</td>\n",
       "      <td>48893.30</td>\n",
       "      <td>1800</td>\n",
       "      <td>25</td>\n",
       "    </tr>\n",
       "    <tr>\n",
       "      <th>8841</th>\n",
       "      <td>136571</td>\n",
       "      <td>PG0480</td>\n",
       "      <td>Anapa</td>\n",
       "      <td>Belgorod</td>\n",
       "      <td>2017-01-25 09:25:00+00:00</td>\n",
       "      <td>2017-01-25T10:15:00Z</td>\n",
       "      <td>1.0</td>\n",
       "      <td>50.0</td>\n",
       "      <td>Sukhoi Superjet-100</td>\n",
       "      <td>Business</td>\n",
       "      <td>2C</td>\n",
       "      <td>5432319298</td>\n",
       "      <td>Business</td>\n",
       "      <td>2C</td>\n",
       "      <td>18900.0</td>\n",
       "      <td>48893.30</td>\n",
       "      <td>1800</td>\n",
       "      <td>25</td>\n",
       "    </tr>\n",
       "    <tr>\n",
       "      <th>8842</th>\n",
       "      <td>136571</td>\n",
       "      <td>PG0480</td>\n",
       "      <td>Anapa</td>\n",
       "      <td>Belgorod</td>\n",
       "      <td>2017-01-25 09:25:00+00:00</td>\n",
       "      <td>2017-01-25T10:15:00Z</td>\n",
       "      <td>1.0</td>\n",
       "      <td>50.0</td>\n",
       "      <td>Sukhoi Superjet-100</td>\n",
       "      <td>Business</td>\n",
       "      <td>1D</td>\n",
       "      <td>5432319443</td>\n",
       "      <td>Business</td>\n",
       "      <td>1D</td>\n",
       "      <td>18900.0</td>\n",
       "      <td>48893.30</td>\n",
       "      <td>1800</td>\n",
       "      <td>25</td>\n",
       "    </tr>\n",
       "    <tr>\n",
       "      <th>8843</th>\n",
       "      <td>136571</td>\n",
       "      <td>PG0480</td>\n",
       "      <td>Anapa</td>\n",
       "      <td>Belgorod</td>\n",
       "      <td>2017-01-25 09:25:00+00:00</td>\n",
       "      <td>2017-01-25T10:15:00Z</td>\n",
       "      <td>1.0</td>\n",
       "      <td>50.0</td>\n",
       "      <td>Sukhoi Superjet-100</td>\n",
       "      <td>Business</td>\n",
       "      <td>1A</td>\n",
       "      <td>5432319500</td>\n",
       "      <td>Business</td>\n",
       "      <td>1A</td>\n",
       "      <td>18900.0</td>\n",
       "      <td>48893.30</td>\n",
       "      <td>1800</td>\n",
       "      <td>25</td>\n",
       "    </tr>\n",
       "    <tr>\n",
       "      <th>8844</th>\n",
       "      <td>136571</td>\n",
       "      <td>PG0480</td>\n",
       "      <td>Anapa</td>\n",
       "      <td>Belgorod</td>\n",
       "      <td>2017-01-25 09:25:00+00:00</td>\n",
       "      <td>2017-01-25T10:15:00Z</td>\n",
       "      <td>1.0</td>\n",
       "      <td>50.0</td>\n",
       "      <td>Sukhoi Superjet-100</td>\n",
       "      <td>Business</td>\n",
       "      <td>1F</td>\n",
       "      <td>5432319562</td>\n",
       "      <td>Business</td>\n",
       "      <td>1F</td>\n",
       "      <td>18900.0</td>\n",
       "      <td>48893.30</td>\n",
       "      <td>1800</td>\n",
       "      <td>25</td>\n",
       "    </tr>\n",
       "    <tr>\n",
       "      <th>...</th>\n",
       "      <td>...</td>\n",
       "      <td>...</td>\n",
       "      <td>...</td>\n",
       "      <td>...</td>\n",
       "      <td>...</td>\n",
       "      <td>...</td>\n",
       "      <td>...</td>\n",
       "      <td>...</td>\n",
       "      <td>...</td>\n",
       "      <td>...</td>\n",
       "      <td>...</td>\n",
       "      <td>...</td>\n",
       "      <td>...</td>\n",
       "      <td>...</td>\n",
       "      <td>...</td>\n",
       "      <td>...</td>\n",
       "      <td>...</td>\n",
       "      <td>...</td>\n",
       "    </tr>\n",
       "    <tr>\n",
       "      <th>14558</th>\n",
       "      <td>136956</td>\n",
       "      <td>PG0480</td>\n",
       "      <td>Anapa</td>\n",
       "      <td>Belgorod</td>\n",
       "      <td>2017-02-04 09:25:00+00:00</td>\n",
       "      <td>2017-02-04T10:15:00Z</td>\n",
       "      <td>2.0</td>\n",
       "      <td>50.0</td>\n",
       "      <td>Sukhoi Superjet-100</td>\n",
       "      <td>Economy</td>\n",
       "      <td>4C</td>\n",
       "      <td>5432375738</td>\n",
       "      <td>Economy</td>\n",
       "      <td>4C</td>\n",
       "      <td>6300.0</td>\n",
       "      <td>46672.54</td>\n",
       "      <td>1800</td>\n",
       "      <td>4</td>\n",
       "    </tr>\n",
       "    <tr>\n",
       "      <th>14559</th>\n",
       "      <td>136956</td>\n",
       "      <td>PG0480</td>\n",
       "      <td>Anapa</td>\n",
       "      <td>Belgorod</td>\n",
       "      <td>2017-02-04 09:25:00+00:00</td>\n",
       "      <td>2017-02-04T10:15:00Z</td>\n",
       "      <td>2.0</td>\n",
       "      <td>50.0</td>\n",
       "      <td>Sukhoi Superjet-100</td>\n",
       "      <td>Economy</td>\n",
       "      <td>13E</td>\n",
       "      <td>5432375772</td>\n",
       "      <td>Economy</td>\n",
       "      <td>13E</td>\n",
       "      <td>6300.0</td>\n",
       "      <td>46672.54</td>\n",
       "      <td>1800</td>\n",
       "      <td>4</td>\n",
       "    </tr>\n",
       "    <tr>\n",
       "      <th>14560</th>\n",
       "      <td>136956</td>\n",
       "      <td>PG0480</td>\n",
       "      <td>Anapa</td>\n",
       "      <td>Belgorod</td>\n",
       "      <td>2017-02-04 09:25:00+00:00</td>\n",
       "      <td>2017-02-04T10:15:00Z</td>\n",
       "      <td>2.0</td>\n",
       "      <td>50.0</td>\n",
       "      <td>Sukhoi Superjet-100</td>\n",
       "      <td>Economy</td>\n",
       "      <td>14C</td>\n",
       "      <td>5432375774</td>\n",
       "      <td>Economy</td>\n",
       "      <td>14C</td>\n",
       "      <td>6300.0</td>\n",
       "      <td>46672.54</td>\n",
       "      <td>1800</td>\n",
       "      <td>4</td>\n",
       "    </tr>\n",
       "    <tr>\n",
       "      <th>14561</th>\n",
       "      <td>136956</td>\n",
       "      <td>PG0480</td>\n",
       "      <td>Anapa</td>\n",
       "      <td>Belgorod</td>\n",
       "      <td>2017-02-04 09:25:00+00:00</td>\n",
       "      <td>2017-02-04T10:15:00Z</td>\n",
       "      <td>2.0</td>\n",
       "      <td>50.0</td>\n",
       "      <td>Sukhoi Superjet-100</td>\n",
       "      <td>Economy</td>\n",
       "      <td>6F</td>\n",
       "      <td>5432375784</td>\n",
       "      <td>Economy</td>\n",
       "      <td>6F</td>\n",
       "      <td>6900.0</td>\n",
       "      <td>46672.54</td>\n",
       "      <td>1800</td>\n",
       "      <td>4</td>\n",
       "    </tr>\n",
       "    <tr>\n",
       "      <th>14562</th>\n",
       "      <td>136956</td>\n",
       "      <td>PG0480</td>\n",
       "      <td>Anapa</td>\n",
       "      <td>Belgorod</td>\n",
       "      <td>2017-02-04 09:25:00+00:00</td>\n",
       "      <td>2017-02-04T10:15:00Z</td>\n",
       "      <td>2.0</td>\n",
       "      <td>50.0</td>\n",
       "      <td>Sukhoi Superjet-100</td>\n",
       "      <td>Economy</td>\n",
       "      <td>12E</td>\n",
       "      <td>5432375785</td>\n",
       "      <td>Economy</td>\n",
       "      <td>12E</td>\n",
       "      <td>6300.0</td>\n",
       "      <td>46672.54</td>\n",
       "      <td>1800</td>\n",
       "      <td>4</td>\n",
       "    </tr>\n",
       "  </tbody>\n",
       "</table>\n",
       "<p>5321 rows × 18 columns</p>\n",
       "</div>"
      ],
      "text/plain": [
       "       flight_id flight_no city_depart city_arrive       scheduled_departure  \\\n",
       "8840      136571    PG0480       Anapa    Belgorod 2017-01-25 09:25:00+00:00   \n",
       "8841      136571    PG0480       Anapa    Belgorod 2017-01-25 09:25:00+00:00   \n",
       "8842      136571    PG0480       Anapa    Belgorod 2017-01-25 09:25:00+00:00   \n",
       "8843      136571    PG0480       Anapa    Belgorod 2017-01-25 09:25:00+00:00   \n",
       "8844      136571    PG0480       Anapa    Belgorod 2017-01-25 09:25:00+00:00   \n",
       "...          ...       ...         ...         ...                       ...   \n",
       "14558     136956    PG0480       Anapa    Belgorod 2017-02-04 09:25:00+00:00   \n",
       "14559     136956    PG0480       Anapa    Belgorod 2017-02-04 09:25:00+00:00   \n",
       "14560     136956    PG0480       Anapa    Belgorod 2017-02-04 09:25:00+00:00   \n",
       "14561     136956    PG0480       Anapa    Belgorod 2017-02-04 09:25:00+00:00   \n",
       "14562     136956    PG0480       Anapa    Belgorod 2017-02-04 09:25:00+00:00   \n",
       "\n",
       "          scheduled_arrival  fl_month  flight_minute                model  \\\n",
       "8840   2017-01-25T10:15:00Z       1.0           50.0  Sukhoi Superjet-100   \n",
       "8841   2017-01-25T10:15:00Z       1.0           50.0  Sukhoi Superjet-100   \n",
       "8842   2017-01-25T10:15:00Z       1.0           50.0  Sukhoi Superjet-100   \n",
       "8843   2017-01-25T10:15:00Z       1.0           50.0  Sukhoi Superjet-100   \n",
       "8844   2017-01-25T10:15:00Z       1.0           50.0  Sukhoi Superjet-100   \n",
       "...                     ...       ...            ...                  ...   \n",
       "14558  2017-02-04T10:15:00Z       2.0           50.0  Sukhoi Superjet-100   \n",
       "14559  2017-02-04T10:15:00Z       2.0           50.0  Sukhoi Superjet-100   \n",
       "14560  2017-02-04T10:15:00Z       2.0           50.0  Sukhoi Superjet-100   \n",
       "14561  2017-02-04T10:15:00Z       2.0           50.0  Sukhoi Superjet-100   \n",
       "14562  2017-02-04T10:15:00Z       2.0           50.0  Sukhoi Superjet-100   \n",
       "\n",
       "      class_available seat_available   ticket_no class_occupied seat_occupied  \\\n",
       "8840         Business             3D  5432319274       Business            3D   \n",
       "8841         Business             2C  5432319298       Business            2C   \n",
       "8842         Business             1D  5432319443       Business            1D   \n",
       "8843         Business             1A  5432319500       Business            1A   \n",
       "8844         Business             1F  5432319562       Business            1F   \n",
       "...               ...            ...         ...            ...           ...   \n",
       "14558         Economy             4C  5432375738        Economy            4C   \n",
       "14559         Economy            13E  5432375772        Economy           13E   \n",
       "14560         Economy            14C  5432375774        Economy           14C   \n",
       "14561         Economy             6F  5432375784        Economy            6F   \n",
       "14562         Economy            12E  5432375785        Economy           12E   \n",
       "\n",
       "       ticket_price  fuel_price  fuel_per_hour  fl_day  \n",
       "8840        18900.0    48893.30           1800      25  \n",
       "8841        18900.0    48893.30           1800      25  \n",
       "8842        18900.0    48893.30           1800      25  \n",
       "8843        18900.0    48893.30           1800      25  \n",
       "8844        18900.0    48893.30           1800      25  \n",
       "...             ...         ...            ...     ...  \n",
       "14558        6300.0    46672.54           1800       4  \n",
       "14559        6300.0    46672.54           1800       4  \n",
       "14560        6300.0    46672.54           1800       4  \n",
       "14561        6900.0    46672.54           1800       4  \n",
       "14562        6300.0    46672.54           1800       4  \n",
       "\n",
       "[5321 rows x 18 columns]"
      ]
     },
     "execution_count": 32,
     "metadata": {},
     "output_type": "execute_result"
    }
   ],
   "source": [
    "flight_no_PG0480 = flight[(flight.flight_no == 'PG0480') & \n",
    "                          (flight.ticket_price.isna() == False)]\n",
    "flight_no_PG0480"
   ]
  },
  {
   "cell_type": "code",
   "execution_count": 33,
   "metadata": {
    "colab": {
     "base_uri": "https://localhost:8080/",
     "height": 174
    },
    "executionInfo": {
     "elapsed": 36,
     "status": "ok",
     "timestamp": 1638329680567,
     "user": {
      "displayName": "An Mat",
      "photoUrl": "https://lh3.googleusercontent.com/a/default-user=s64",
      "userId": "17855782157325435961"
     },
     "user_tz": -600
    },
    "id": "HeqSlARnuiSZ",
    "outputId": "9f8be0e2-c227-49ee-e5cb-8aa6349342ec",
    "scrolled": false
   },
   "outputs": [
    {
     "data": {
      "text/html": [
       "<div>\n",
       "<style scoped>\n",
       "    .dataframe tbody tr th:only-of-type {\n",
       "        vertical-align: middle;\n",
       "    }\n",
       "\n",
       "    .dataframe tbody tr th {\n",
       "        vertical-align: top;\n",
       "    }\n",
       "\n",
       "    .dataframe thead th {\n",
       "        text-align: right;\n",
       "    }\n",
       "</style>\n",
       "<table border=\"1\" class=\"dataframe\">\n",
       "  <thead>\n",
       "    <tr style=\"text-align: right;\">\n",
       "      <th></th>\n",
       "      <th></th>\n",
       "      <th></th>\n",
       "      <th>ticket_price</th>\n",
       "    </tr>\n",
       "    <tr>\n",
       "      <th>model</th>\n",
       "      <th>class_available</th>\n",
       "      <th>ticket_price</th>\n",
       "      <th></th>\n",
       "    </tr>\n",
       "  </thead>\n",
       "  <tbody>\n",
       "    <tr>\n",
       "      <th rowspan=\"3\" valign=\"top\">Sukhoi Superjet-100</th>\n",
       "      <th>Business</th>\n",
       "      <th>18900.0</th>\n",
       "      <td>653</td>\n",
       "    </tr>\n",
       "    <tr>\n",
       "      <th rowspan=\"2\" valign=\"top\">Economy</th>\n",
       "      <th>6300.0</th>\n",
       "      <td>4392</td>\n",
       "    </tr>\n",
       "    <tr>\n",
       "      <th>6900.0</th>\n",
       "      <td>276</td>\n",
       "    </tr>\n",
       "  </tbody>\n",
       "</table>\n",
       "</div>"
      ],
      "text/plain": [
       "                                                  ticket_price\n",
       "model               class_available ticket_price              \n",
       "Sukhoi Superjet-100 Business        18900.0                653\n",
       "                    Economy         6300.0                4392\n",
       "                                    6900.0                 276"
      ]
     },
     "execution_count": 33,
     "metadata": {},
     "output_type": "execute_result"
    }
   ],
   "source": [
    "tarif_PG0480 = pd.DataFrame(flight_no_PG0480.groupby(['model', 'class_available', 'ticket_price'])['ticket_price'].count())\n",
    "tarif_PG0480"
   ]
  },
  {
   "cell_type": "code",
   "execution_count": 34,
   "metadata": {
    "id": "3W2jf9BzuiSZ"
   },
   "outputs": [],
   "source": [
    "t_PG0480 = tarif_PG0480.unstack(0)"
   ]
  },
  {
   "cell_type": "code",
   "execution_count": 35,
   "metadata": {
    "colab": {
     "base_uri": "https://localhost:8080/",
     "height": 374
    },
    "executionInfo": {
     "elapsed": 700,
     "status": "ok",
     "timestamp": 1638329681683,
     "user": {
      "displayName": "An Mat",
      "photoUrl": "https://lh3.googleusercontent.com/a/default-user=s64",
      "userId": "17855782157325435961"
     },
     "user_tz": -600
    },
    "id": "t9V5nvcVuiSa",
    "outputId": "3db90774-2687-4922-8d1a-bfc25766af05"
   },
   "outputs": [
    {
     "data": {
      "image/png": "[encoded data removed]",
      "text/plain": [
       "<Figure size 360x360 with 1 Axes>"
      ]
     },
     "metadata": {},
     "output_type": "display_data"
    }
   ],
   "source": [
    "t_PG0480.plot(kind='pie', title = 'Количество проданных билетов Sukhoi Superjet-100', ylabel='', \\\n",
    "       labels=['Бизнесс-класс: 18900 руб.','Эконом-класс: 6300 руб.','Эконом-класс: 6900 руб.'], \\\n",
    "       figsize=(5,5), subplots=True, legend = False)\n",
    "plt.show()"
   ]
  },
  {
   "cell_type": "code",
   "execution_count": 36,
   "metadata": {
    "colab": {
     "base_uri": "https://localhost:8080/",
     "height": 423
    },
    "executionInfo": {
     "elapsed": 9,
     "status": "ok",
     "timestamp": 1638329681684,
     "user": {
      "displayName": "An Mat",
      "photoUrl": "https://lh3.googleusercontent.com/a/default-user=s64",
      "userId": "17855782157325435961"
     },
     "user_tz": -600
    },
    "id": "ds9hoKAOuiSa",
    "outputId": "9fc0631a-9434-4b92-d1f6-b3b2d3f8df09"
   },
   "outputs": [
    {
     "data": {
      "text/html": [
       "<div>\n",
       "<style scoped>\n",
       "    .dataframe tbody tr th:only-of-type {\n",
       "        vertical-align: middle;\n",
       "    }\n",
       "\n",
       "    .dataframe tbody tr th {\n",
       "        vertical-align: top;\n",
       "    }\n",
       "\n",
       "    .dataframe thead th {\n",
       "        text-align: right;\n",
       "    }\n",
       "</style>\n",
       "<table border=\"1\" class=\"dataframe\">\n",
       "  <thead>\n",
       "    <tr style=\"text-align: right;\">\n",
       "      <th></th>\n",
       "      <th>flight_id</th>\n",
       "      <th>fl_month</th>\n",
       "      <th>seat_available</th>\n",
       "    </tr>\n",
       "  </thead>\n",
       "  <tbody>\n",
       "    <tr>\n",
       "      <th>8852</th>\n",
       "      <td>136571</td>\n",
       "      <td>1.0</td>\n",
       "      <td>12D</td>\n",
       "    </tr>\n",
       "    <tr>\n",
       "      <th>8853</th>\n",
       "      <td>136571</td>\n",
       "      <td>1.0</td>\n",
       "      <td>9E</td>\n",
       "    </tr>\n",
       "    <tr>\n",
       "      <th>8854</th>\n",
       "      <td>136571</td>\n",
       "      <td>1.0</td>\n",
       "      <td>19D</td>\n",
       "    </tr>\n",
       "    <tr>\n",
       "      <th>8856</th>\n",
       "      <td>136571</td>\n",
       "      <td>1.0</td>\n",
       "      <td>7D</td>\n",
       "    </tr>\n",
       "    <tr>\n",
       "      <th>8858</th>\n",
       "      <td>136571</td>\n",
       "      <td>1.0</td>\n",
       "      <td>19E</td>\n",
       "    </tr>\n",
       "    <tr>\n",
       "      <th>...</th>\n",
       "      <td>...</td>\n",
       "      <td>...</td>\n",
       "      <td>...</td>\n",
       "    </tr>\n",
       "    <tr>\n",
       "      <th>14557</th>\n",
       "      <td>136956</td>\n",
       "      <td>2.0</td>\n",
       "      <td>15F</td>\n",
       "    </tr>\n",
       "    <tr>\n",
       "      <th>14558</th>\n",
       "      <td>136956</td>\n",
       "      <td>2.0</td>\n",
       "      <td>4C</td>\n",
       "    </tr>\n",
       "    <tr>\n",
       "      <th>14559</th>\n",
       "      <td>136956</td>\n",
       "      <td>2.0</td>\n",
       "      <td>13E</td>\n",
       "    </tr>\n",
       "    <tr>\n",
       "      <th>14560</th>\n",
       "      <td>136956</td>\n",
       "      <td>2.0</td>\n",
       "      <td>14C</td>\n",
       "    </tr>\n",
       "    <tr>\n",
       "      <th>14562</th>\n",
       "      <td>136956</td>\n",
       "      <td>2.0</td>\n",
       "      <td>12E</td>\n",
       "    </tr>\n",
       "  </tbody>\n",
       "</table>\n",
       "<p>4392 rows × 3 columns</p>\n",
       "</div>"
      ],
      "text/plain": [
       "       flight_id  fl_month seat_available\n",
       "8852      136571       1.0            12D\n",
       "8853      136571       1.0             9E\n",
       "8854      136571       1.0            19D\n",
       "8856      136571       1.0             7D\n",
       "8858      136571       1.0            19E\n",
       "...          ...       ...            ...\n",
       "14557     136956       2.0            15F\n",
       "14558     136956       2.0             4C\n",
       "14559     136956       2.0            13E\n",
       "14560     136956       2.0            14C\n",
       "14562     136956       2.0            12E\n",
       "\n",
       "[4392 rows x 3 columns]"
      ]
     },
     "execution_count": 36,
     "metadata": {},
     "output_type": "execute_result"
    }
   ],
   "source": [
    "ticket_price_6300 = flight[flight.ticket_price == 6300.0][['flight_id', 'fl_month', 'seat_available']]\n",
    "ticket_price_6300"
   ]
  },
  {
   "cell_type": "code",
   "execution_count": 37,
   "metadata": {
    "colab": {
     "base_uri": "https://localhost:8080/"
    },
    "executionInfo": {
     "elapsed": 13,
     "status": "ok",
     "timestamp": 1638329682213,
     "user": {
      "displayName": "An Mat",
      "photoUrl": "https://lh3.googleusercontent.com/a/default-user=s64",
      "userId": "17855782157325435961"
     },
     "user_tz": -600
    },
    "id": "yb2HcL9XuiSa",
    "outputId": "df1e34be-855f-40f2-f91e-64ffc56de2ef"
   },
   "outputs": [
    {
     "data": {
      "text/plain": [
       "array(['12D', '9E', '19D', '7D', '19E', '16F', '17D', '11F', '17A', '20C',\n",
       "       '15C', '12F', '5D', '4F', '13E', '10E', '9A', '10F', '19F', '16C',\n",
       "       '18C', '19C', '18F', '20A', '15D', '20E', '20D', '8D', '8E', '5E',\n",
       "       '5F', '15E', '11C', '10C', '7F', '7E', '13F', '13C', '11E', '15F',\n",
       "       '17C', '5A', '12E', '16A', '14E', '13D', '12A', '16D', '14C', '8F',\n",
       "       '10A', '4D', '10D', '4A', '9F', '17F', '20F', '19A', '8C', '9D',\n",
       "       '11D', '11A', '14F', '16E', '18D', '7C', '9C', '8A', '4E', '18A',\n",
       "       '13A', '15A', '7A', '12C', '4C', '14A', '17E', '18E', '5C', '14D'],\n",
       "      dtype=object)"
      ]
     },
     "execution_count": 37,
     "metadata": {},
     "output_type": "execute_result"
    }
   ],
   "source": [
    "ticket_price_6300.seat_available.unique()"
   ]
  },
  {
   "cell_type": "code",
   "execution_count": 38,
   "metadata": {
    "colab": {
     "base_uri": "https://localhost:8080/",
     "height": 423
    },
    "executionInfo": {
     "elapsed": 7,
     "status": "ok",
     "timestamp": 1638329682214,
     "user": {
      "displayName": "An Mat",
      "photoUrl": "https://lh3.googleusercontent.com/a/default-user=s64",
      "userId": "17855782157325435961"
     },
     "user_tz": -600
    },
    "id": "HMezJ9QouiSa",
    "outputId": "d57ac3b1-9b36-4572-928b-58d0cfac0eb0"
   },
   "outputs": [
    {
     "data": {
      "text/html": [
       "<div>\n",
       "<style scoped>\n",
       "    .dataframe tbody tr th:only-of-type {\n",
       "        vertical-align: middle;\n",
       "    }\n",
       "\n",
       "    .dataframe tbody tr th {\n",
       "        vertical-align: top;\n",
       "    }\n",
       "\n",
       "    .dataframe thead th {\n",
       "        text-align: right;\n",
       "    }\n",
       "</style>\n",
       "<table border=\"1\" class=\"dataframe\">\n",
       "  <thead>\n",
       "    <tr style=\"text-align: right;\">\n",
       "      <th></th>\n",
       "      <th>flight_id</th>\n",
       "      <th>fl_month</th>\n",
       "      <th>seat_available</th>\n",
       "    </tr>\n",
       "  </thead>\n",
       "  <tbody>\n",
       "    <tr>\n",
       "      <th>8855</th>\n",
       "      <td>136571</td>\n",
       "      <td>1.0</td>\n",
       "      <td>6A</td>\n",
       "    </tr>\n",
       "    <tr>\n",
       "      <th>8857</th>\n",
       "      <td>136571</td>\n",
       "      <td>1.0</td>\n",
       "      <td>6C</td>\n",
       "    </tr>\n",
       "    <tr>\n",
       "      <th>8913</th>\n",
       "      <td>136571</td>\n",
       "      <td>1.0</td>\n",
       "      <td>6F</td>\n",
       "    </tr>\n",
       "    <tr>\n",
       "      <th>8926</th>\n",
       "      <td>136571</td>\n",
       "      <td>1.0</td>\n",
       "      <td>6E</td>\n",
       "    </tr>\n",
       "    <tr>\n",
       "      <th>8932</th>\n",
       "      <td>136571</td>\n",
       "      <td>1.0</td>\n",
       "      <td>6D</td>\n",
       "    </tr>\n",
       "    <tr>\n",
       "      <th>...</th>\n",
       "      <td>...</td>\n",
       "      <td>...</td>\n",
       "      <td>...</td>\n",
       "    </tr>\n",
       "    <tr>\n",
       "      <th>14500</th>\n",
       "      <td>136956</td>\n",
       "      <td>2.0</td>\n",
       "      <td>6C</td>\n",
       "    </tr>\n",
       "    <tr>\n",
       "      <th>14510</th>\n",
       "      <td>136956</td>\n",
       "      <td>2.0</td>\n",
       "      <td>6A</td>\n",
       "    </tr>\n",
       "    <tr>\n",
       "      <th>14511</th>\n",
       "      <td>136956</td>\n",
       "      <td>2.0</td>\n",
       "      <td>6D</td>\n",
       "    </tr>\n",
       "    <tr>\n",
       "      <th>14535</th>\n",
       "      <td>136956</td>\n",
       "      <td>2.0</td>\n",
       "      <td>6E</td>\n",
       "    </tr>\n",
       "    <tr>\n",
       "      <th>14561</th>\n",
       "      <td>136956</td>\n",
       "      <td>2.0</td>\n",
       "      <td>6F</td>\n",
       "    </tr>\n",
       "  </tbody>\n",
       "</table>\n",
       "<p>276 rows × 3 columns</p>\n",
       "</div>"
      ],
      "text/plain": [
       "       flight_id  fl_month seat_available\n",
       "8855      136571       1.0             6A\n",
       "8857      136571       1.0             6C\n",
       "8913      136571       1.0             6F\n",
       "8926      136571       1.0             6E\n",
       "8932      136571       1.0             6D\n",
       "...          ...       ...            ...\n",
       "14500     136956       2.0             6C\n",
       "14510     136956       2.0             6A\n",
       "14511     136956       2.0             6D\n",
       "14535     136956       2.0             6E\n",
       "14561     136956       2.0             6F\n",
       "\n",
       "[276 rows x 3 columns]"
      ]
     },
     "execution_count": 38,
     "metadata": {},
     "output_type": "execute_result"
    }
   ],
   "source": [
    "ticket_price_6900 = flight[flight.ticket_price == 6900.0][['flight_id', 'fl_month', 'seat_available']]\n",
    "ticket_price_6900"
   ]
  },
  {
   "cell_type": "code",
   "execution_count": 39,
   "metadata": {
    "colab": {
     "base_uri": "https://localhost:8080/"
    },
    "executionInfo": {
     "elapsed": 5,
     "status": "ok",
     "timestamp": 1638329682719,
     "user": {
      "displayName": "An Mat",
      "photoUrl": "https://lh3.googleusercontent.com/a/default-user=s64",
      "userId": "17855782157325435961"
     },
     "user_tz": -600
    },
    "id": "bRb29yrAuiSb",
    "outputId": "a9201b1f-66da-4bde-d2af-6f4e7ad4e1eb"
   },
   "outputs": [
    {
     "data": {
      "text/plain": [
       "array(['6A', '6C', '6F', '6E', '6D'], dtype=object)"
      ]
     },
     "execution_count": 39,
     "metadata": {},
     "output_type": "execute_result"
    }
   ],
   "source": [
    "ticket_price_6900.seat_available.unique()"
   ]
  },
  {
   "cell_type": "markdown",
   "metadata": {
    "id": "5esD18EtuiSb"
   },
   "source": [
    "Предварительные выводы (Анапа-Белгород):\n",
    "\n",
    "1) Номер рейса PG0480 (Анапа-Белгород) соответствует модели Sukhoi Superjet-100, \\\n",
    "2) Стоимость билета в Бизнес-классе составляет 18900 руб., \\\n",
    "3) Стоимость билета в Эконом-классе: для мест, начинающихся на 6*, стоимость составляет 6900 руб., для всех остальных - 6300 руб., \\\n",
    "4) Стоимость билета в феврале осталась на уровне января."
   ]
  },
  {
   "cell_type": "code",
   "execution_count": 40,
   "metadata": {
    "colab": {
     "base_uri": "https://localhost:8080/",
     "height": 294
    },
    "executionInfo": {
     "elapsed": 574,
     "status": "ok",
     "timestamp": 1638329684892,
     "user": {
      "displayName": "An Mat",
      "photoUrl": "https://lh3.googleusercontent.com/a/default-user=s64",
      "userId": "17855782157325435961"
     },
     "user_tz": -600
    },
    "id": "SE8ExgAZuiSb",
    "outputId": "8a4b86f4-7d70-4802-808d-1615897a16f3"
   },
   "outputs": [
    {
     "data": {
      "image/png": "[encoded data removed]",
      "text/plain": [
       "<Figure size 432x288 with 1 Axes>"
      ]
     },
     "metadata": {},
     "output_type": "display_data"
    }
   ],
   "source": [
    "sns.set_theme(style=\"ticks\", palette=\"pastel\")\n",
    "sns.barplot(x=\"model\", y=\"ticket_price\",\n",
    "            hue=\"class_available\", palette=[\"m\", \"g\"],\n",
    "            data=flight)\n",
    "plt.ylim(0, 40000)\n",
    "sns.despine(offset=5, trim=True)\n",
    "plt.show()"
   ]
  },
  {
   "cell_type": "markdown",
   "metadata": {
    "id": "hvLvhsI1uiSc"
   },
   "source": [
    "Найдем доход от продажи билетов по каждому ID рейса."
   ]
  },
  {
   "cell_type": "code",
   "execution_count": 41,
   "metadata": {
    "colab": {
     "base_uri": "https://localhost:8080/",
     "height": 455
    },
    "executionInfo": {
     "elapsed": 7,
     "status": "ok",
     "timestamp": 1638329685400,
     "user": {
      "displayName": "An Mat",
      "photoUrl": "https://lh3.googleusercontent.com/a/default-user=s64",
      "userId": "17855782157325435961"
     },
     "user_tz": -600
    },
    "id": "eIamRrfxuiSc",
    "outputId": "22f4ef91-f4f7-4e59-ea9a-26413fb92b58",
    "scrolled": true
   },
   "outputs": [
    {
     "data": {
      "text/html": [
       "<div>\n",
       "<style scoped>\n",
       "    .dataframe tbody tr th:only-of-type {\n",
       "        vertical-align: middle;\n",
       "    }\n",
       "\n",
       "    .dataframe tbody tr th {\n",
       "        vertical-align: top;\n",
       "    }\n",
       "\n",
       "    .dataframe thead th {\n",
       "        text-align: right;\n",
       "    }\n",
       "</style>\n",
       "<table border=\"1\" class=\"dataframe\">\n",
       "  <thead>\n",
       "    <tr style=\"text-align: right;\">\n",
       "      <th></th>\n",
       "      <th>ticket_price</th>\n",
       "    </tr>\n",
       "    <tr>\n",
       "      <th>flight_id</th>\n",
       "      <th></th>\n",
       "    </tr>\n",
       "  </thead>\n",
       "  <tbody>\n",
       "    <tr>\n",
       "      <th>136119</th>\n",
       "      <td>1653000.0</td>\n",
       "    </tr>\n",
       "    <tr>\n",
       "      <th>136120</th>\n",
       "      <td>1605400.0</td>\n",
       "    </tr>\n",
       "    <tr>\n",
       "      <th>136122</th>\n",
       "      <td>1431000.0</td>\n",
       "    </tr>\n",
       "    <tr>\n",
       "      <th>136130</th>\n",
       "      <td>1556600.0</td>\n",
       "    </tr>\n",
       "    <tr>\n",
       "      <th>136131</th>\n",
       "      <td>1812800.0</td>\n",
       "    </tr>\n",
       "    <tr>\n",
       "      <th>...</th>\n",
       "      <td>...</td>\n",
       "    </tr>\n",
       "    <tr>\n",
       "      <th>136936</th>\n",
       "      <td>632400.0</td>\n",
       "    </tr>\n",
       "    <tr>\n",
       "      <th>136937</th>\n",
       "      <td>626100.0</td>\n",
       "    </tr>\n",
       "    <tr>\n",
       "      <th>136951</th>\n",
       "      <td>720600.0</td>\n",
       "    </tr>\n",
       "    <tr>\n",
       "      <th>136953</th>\n",
       "      <td>765300.0</td>\n",
       "    </tr>\n",
       "    <tr>\n",
       "      <th>136956</th>\n",
       "      <td>746400.0</td>\n",
       "    </tr>\n",
       "  </tbody>\n",
       "</table>\n",
       "<p>118 rows × 1 columns</p>\n",
       "</div>"
      ],
      "text/plain": [
       "           ticket_price\n",
       "flight_id              \n",
       "136119        1653000.0\n",
       "136120        1605400.0\n",
       "136122        1431000.0\n",
       "136130        1556600.0\n",
       "136131        1812800.0\n",
       "...                 ...\n",
       "136936         632400.0\n",
       "136937         626100.0\n",
       "136951         720600.0\n",
       "136953         765300.0\n",
       "136956         746400.0\n",
       "\n",
       "[118 rows x 1 columns]"
      ]
     },
     "metadata": {},
     "output_type": "display_data"
    }
   ],
   "source": [
    "flight_id_profit = flight.groupby(['flight_id'])[['ticket_price']].sum().sort_values(by = 'flight_id')\n",
    "display(flight_id_profit)"
   ]
  },
  {
   "cell_type": "code",
   "execution_count": 42,
   "metadata": {
    "colab": {
     "base_uri": "https://localhost:8080/",
     "height": 404
    },
    "executionInfo": {
     "elapsed": 2452,
     "status": "ok",
     "timestamp": 1638329689617,
     "user": {
      "displayName": "An Mat",
      "photoUrl": "https://lh3.googleusercontent.com/a/default-user=s64",
      "userId": "17855782157325435961"
     },
     "user_tz": -600
    },
    "id": "MRQXEpqyuiSc",
    "outputId": "3a2f7fc2-8c05-4bb2-fd2d-9d6054d0c806"
   },
   "outputs": [
    {
     "data": {
      "image/png": "[encoded data removed]",
      "text/plain": [
       "<Figure size 1224x360 with 1 Axes>"
      ]
     },
     "metadata": {},
     "output_type": "display_data"
    }
   ],
   "source": [
    "flight_id_profit.plot.bar(title='Доход от продажи билетов в разрезе ID рейса', \\\n",
    "                          figsize=(17,5), xlabel=\"ID рейса\", ylabel=\"Выручка с продаж\")\n",
    "plt.legend([\"Выручка\"])\n",
    "plt.show()"
   ]
  },
  {
   "cell_type": "markdown",
   "metadata": {
    "id": "eizRTxjuuiSd"
   },
   "source": [
    "Далее найдем расходы на топливо по каждому ID рейса и создадим отдельный датафрейм 'flight_id_cost'"
   ]
  },
  {
   "cell_type": "code",
   "execution_count": 43,
   "metadata": {
    "id": "dHO8xWcBuiSd"
   },
   "outputs": [],
   "source": [
    "flight['fuel_cost'] = round((flight['fuel_price']*flight['fuel_per_hour']/1000)*(flight['flight_minute']/60), 2)"
   ]
  },
  {
   "cell_type": "code",
   "execution_count": 44,
   "metadata": {
    "colab": {
     "base_uri": "https://localhost:8080/",
     "height": 423
    },
    "executionInfo": {
     "elapsed": 9,
     "status": "ok",
     "timestamp": 1638329693067,
     "user": {
      "displayName": "An Mat",
      "photoUrl": "https://lh3.googleusercontent.com/a/default-user=s64",
      "userId": "17855782157325435961"
     },
     "user_tz": -600
    },
    "id": "VW2yT6jWuiSd",
    "outputId": "8461a1d6-e2cd-4cd4-b1cd-aaac7edc93b2"
   },
   "outputs": [
    {
     "data": {
      "text/html": [
       "<div>\n",
       "<style scoped>\n",
       "    .dataframe tbody tr th:only-of-type {\n",
       "        vertical-align: middle;\n",
       "    }\n",
       "\n",
       "    .dataframe tbody tr th {\n",
       "        vertical-align: top;\n",
       "    }\n",
       "\n",
       "    .dataframe thead th {\n",
       "        text-align: right;\n",
       "    }\n",
       "</style>\n",
       "<table border=\"1\" class=\"dataframe\">\n",
       "  <thead>\n",
       "    <tr style=\"text-align: right;\">\n",
       "      <th></th>\n",
       "      <th>flight_id</th>\n",
       "      <th>flight_no</th>\n",
       "      <th>fl_month</th>\n",
       "      <th>fl_day</th>\n",
       "      <th>model</th>\n",
       "      <th>fuel_cost</th>\n",
       "    </tr>\n",
       "  </thead>\n",
       "  <tbody>\n",
       "    <tr>\n",
       "      <th>0</th>\n",
       "      <td>136119</td>\n",
       "      <td>PG0252</td>\n",
       "      <td>1.0</td>\n",
       "      <td>3</td>\n",
       "      <td>Boeing 737-300</td>\n",
       "      <td>211870.97</td>\n",
       "    </tr>\n",
       "    <tr>\n",
       "      <th>130</th>\n",
       "      <td>136122</td>\n",
       "      <td>PG0252</td>\n",
       "      <td>1.0</td>\n",
       "      <td>8</td>\n",
       "      <td>Boeing 737-300</td>\n",
       "      <td>211870.97</td>\n",
       "    </tr>\n",
       "    <tr>\n",
       "      <th>260</th>\n",
       "      <td>136131</td>\n",
       "      <td>PG0252</td>\n",
       "      <td>1.0</td>\n",
       "      <td>28</td>\n",
       "      <td>Boeing 737-300</td>\n",
       "      <td>211870.97</td>\n",
       "    </tr>\n",
       "    <tr>\n",
       "      <th>390</th>\n",
       "      <td>136159</td>\n",
       "      <td>PG0252</td>\n",
       "      <td>1.0</td>\n",
       "      <td>4</td>\n",
       "      <td>Boeing 737-300</td>\n",
       "      <td>211870.97</td>\n",
       "    </tr>\n",
       "    <tr>\n",
       "      <th>520</th>\n",
       "      <td>136164</td>\n",
       "      <td>PG0252</td>\n",
       "      <td>1.0</td>\n",
       "      <td>7</td>\n",
       "      <td>Boeing 737-300</td>\n",
       "      <td>211870.97</td>\n",
       "    </tr>\n",
       "    <tr>\n",
       "      <th>...</th>\n",
       "      <td>...</td>\n",
       "      <td>...</td>\n",
       "      <td>...</td>\n",
       "      <td>...</td>\n",
       "      <td>...</td>\n",
       "      <td>...</td>\n",
       "    </tr>\n",
       "    <tr>\n",
       "      <th>14078</th>\n",
       "      <td>136900</td>\n",
       "      <td>PG0480</td>\n",
       "      <td>2.0</td>\n",
       "      <td>1</td>\n",
       "      <td>Sukhoi Superjet-100</td>\n",
       "      <td>70008.81</td>\n",
       "    </tr>\n",
       "    <tr>\n",
       "      <th>14175</th>\n",
       "      <td>136922</td>\n",
       "      <td>PG0480</td>\n",
       "      <td>2.0</td>\n",
       "      <td>11</td>\n",
       "      <td>Sukhoi Superjet-100</td>\n",
       "      <td>70008.81</td>\n",
       "    </tr>\n",
       "    <tr>\n",
       "      <th>14272</th>\n",
       "      <td>136951</td>\n",
       "      <td>PG0480</td>\n",
       "      <td>2.0</td>\n",
       "      <td>2</td>\n",
       "      <td>Sukhoi Superjet-100</td>\n",
       "      <td>70008.81</td>\n",
       "    </tr>\n",
       "    <tr>\n",
       "      <th>14369</th>\n",
       "      <td>136953</td>\n",
       "      <td>PG0480</td>\n",
       "      <td>2.0</td>\n",
       "      <td>27</td>\n",
       "      <td>Sukhoi Superjet-100</td>\n",
       "      <td>70008.81</td>\n",
       "    </tr>\n",
       "    <tr>\n",
       "      <th>14466</th>\n",
       "      <td>136956</td>\n",
       "      <td>PG0480</td>\n",
       "      <td>2.0</td>\n",
       "      <td>4</td>\n",
       "      <td>Sukhoi Superjet-100</td>\n",
       "      <td>70008.81</td>\n",
       "    </tr>\n",
       "  </tbody>\n",
       "</table>\n",
       "<p>118 rows × 6 columns</p>\n",
       "</div>"
      ],
      "text/plain": [
       "       flight_id flight_no  fl_month  fl_day                model  fuel_cost\n",
       "0         136119    PG0252       1.0       3       Boeing 737-300  211870.97\n",
       "130       136122    PG0252       1.0       8       Boeing 737-300  211870.97\n",
       "260       136131    PG0252       1.0      28       Boeing 737-300  211870.97\n",
       "390       136159    PG0252       1.0       4       Boeing 737-300  211870.97\n",
       "520       136164    PG0252       1.0       7       Boeing 737-300  211870.97\n",
       "...          ...       ...       ...     ...                  ...        ...\n",
       "14078     136900    PG0480       2.0       1  Sukhoi Superjet-100   70008.81\n",
       "14175     136922    PG0480       2.0      11  Sukhoi Superjet-100   70008.81\n",
       "14272     136951    PG0480       2.0       2  Sukhoi Superjet-100   70008.81\n",
       "14369     136953    PG0480       2.0      27  Sukhoi Superjet-100   70008.81\n",
       "14466     136956    PG0480       2.0       4  Sukhoi Superjet-100   70008.81\n",
       "\n",
       "[118 rows x 6 columns]"
      ]
     },
     "metadata": {},
     "output_type": "display_data"
    }
   ],
   "source": [
    "flight_id_cost = flight[['flight_id', 'flight_no', 'fl_month', 'fl_day', 'model', 'fuel_cost']].drop_duplicates()\n",
    "display(flight_id_cost)"
   ]
  },
  {
   "cell_type": "markdown",
   "metadata": {
    "id": "NmcZCK5guiSd"
   },
   "source": [
    "Создадим датасет 'profit_fact', содержащий данные по доходу от продажи билетов и расходу на топливо по каждому рейсу. Также создадим итоговый столбец 'profit', как разница между выручкой с продаж и расходами на топливо"
   ]
  },
  {
   "cell_type": "code",
   "execution_count": 45,
   "metadata": {
    "colab": {
     "base_uri": "https://localhost:8080/",
     "height": 423
    },
    "executionInfo": {
     "elapsed": 410,
     "status": "ok",
     "timestamp": 1638329696413,
     "user": {
      "displayName": "An Mat",
      "photoUrl": "https://lh3.googleusercontent.com/a/default-user=s64",
      "userId": "17855782157325435961"
     },
     "user_tz": -600
    },
    "id": "1tmP1xOluiSd",
    "outputId": "fcb5b636-6f99-4bca-e37b-6d944ace5742",
    "scrolled": true
   },
   "outputs": [
    {
     "data": {
      "text/html": [
       "<div>\n",
       "<style scoped>\n",
       "    .dataframe tbody tr th:only-of-type {\n",
       "        vertical-align: middle;\n",
       "    }\n",
       "\n",
       "    .dataframe tbody tr th {\n",
       "        vertical-align: top;\n",
       "    }\n",
       "\n",
       "    .dataframe thead th {\n",
       "        text-align: right;\n",
       "    }\n",
       "</style>\n",
       "<table border=\"1\" class=\"dataframe\">\n",
       "  <thead>\n",
       "    <tr style=\"text-align: right;\">\n",
       "      <th></th>\n",
       "      <th>flight_id</th>\n",
       "      <th>ticket_price</th>\n",
       "      <th>flight_no</th>\n",
       "      <th>fl_month</th>\n",
       "      <th>fl_day</th>\n",
       "      <th>model</th>\n",
       "      <th>fuel_cost</th>\n",
       "      <th>profit</th>\n",
       "    </tr>\n",
       "  </thead>\n",
       "  <tbody>\n",
       "    <tr>\n",
       "      <th>0</th>\n",
       "      <td>136119</td>\n",
       "      <td>1653000.0</td>\n",
       "      <td>PG0252</td>\n",
       "      <td>1.0</td>\n",
       "      <td>3</td>\n",
       "      <td>Boeing 737-300</td>\n",
       "      <td>211870.97</td>\n",
       "      <td>1441129.03</td>\n",
       "    </tr>\n",
       "    <tr>\n",
       "      <th>1</th>\n",
       "      <td>136120</td>\n",
       "      <td>1605400.0</td>\n",
       "      <td>PG0252</td>\n",
       "      <td>2.0</td>\n",
       "      <td>24</td>\n",
       "      <td>Boeing 737-300</td>\n",
       "      <td>202247.67</td>\n",
       "      <td>1403152.33</td>\n",
       "    </tr>\n",
       "    <tr>\n",
       "      <th>2</th>\n",
       "      <td>136122</td>\n",
       "      <td>1431000.0</td>\n",
       "      <td>PG0252</td>\n",
       "      <td>1.0</td>\n",
       "      <td>8</td>\n",
       "      <td>Boeing 737-300</td>\n",
       "      <td>211870.97</td>\n",
       "      <td>1219129.03</td>\n",
       "    </tr>\n",
       "    <tr>\n",
       "      <th>3</th>\n",
       "      <td>136130</td>\n",
       "      <td>1556600.0</td>\n",
       "      <td>PG0252</td>\n",
       "      <td>2.0</td>\n",
       "      <td>13</td>\n",
       "      <td>Boeing 737-300</td>\n",
       "      <td>202247.67</td>\n",
       "      <td>1354352.33</td>\n",
       "    </tr>\n",
       "    <tr>\n",
       "      <th>4</th>\n",
       "      <td>136131</td>\n",
       "      <td>1812800.0</td>\n",
       "      <td>PG0252</td>\n",
       "      <td>1.0</td>\n",
       "      <td>28</td>\n",
       "      <td>Boeing 737-300</td>\n",
       "      <td>211870.97</td>\n",
       "      <td>1600929.03</td>\n",
       "    </tr>\n",
       "    <tr>\n",
       "      <th>...</th>\n",
       "      <td>...</td>\n",
       "      <td>...</td>\n",
       "      <td>...</td>\n",
       "      <td>...</td>\n",
       "      <td>...</td>\n",
       "      <td>...</td>\n",
       "      <td>...</td>\n",
       "      <td>...</td>\n",
       "    </tr>\n",
       "    <tr>\n",
       "      <th>113</th>\n",
       "      <td>136936</td>\n",
       "      <td>632400.0</td>\n",
       "      <td>PG0480</td>\n",
       "      <td>1.0</td>\n",
       "      <td>2</td>\n",
       "      <td>Sukhoi Superjet-100</td>\n",
       "      <td>73339.95</td>\n",
       "      <td>559060.05</td>\n",
       "    </tr>\n",
       "    <tr>\n",
       "      <th>114</th>\n",
       "      <td>136937</td>\n",
       "      <td>626100.0</td>\n",
       "      <td>PG0480</td>\n",
       "      <td>1.0</td>\n",
       "      <td>3</td>\n",
       "      <td>Sukhoi Superjet-100</td>\n",
       "      <td>73339.95</td>\n",
       "      <td>552760.05</td>\n",
       "    </tr>\n",
       "    <tr>\n",
       "      <th>115</th>\n",
       "      <td>136951</td>\n",
       "      <td>720600.0</td>\n",
       "      <td>PG0480</td>\n",
       "      <td>2.0</td>\n",
       "      <td>2</td>\n",
       "      <td>Sukhoi Superjet-100</td>\n",
       "      <td>70008.81</td>\n",
       "      <td>650591.19</td>\n",
       "    </tr>\n",
       "    <tr>\n",
       "      <th>116</th>\n",
       "      <td>136953</td>\n",
       "      <td>765300.0</td>\n",
       "      <td>PG0480</td>\n",
       "      <td>2.0</td>\n",
       "      <td>27</td>\n",
       "      <td>Sukhoi Superjet-100</td>\n",
       "      <td>70008.81</td>\n",
       "      <td>695291.19</td>\n",
       "    </tr>\n",
       "    <tr>\n",
       "      <th>117</th>\n",
       "      <td>136956</td>\n",
       "      <td>746400.0</td>\n",
       "      <td>PG0480</td>\n",
       "      <td>2.0</td>\n",
       "      <td>4</td>\n",
       "      <td>Sukhoi Superjet-100</td>\n",
       "      <td>70008.81</td>\n",
       "      <td>676391.19</td>\n",
       "    </tr>\n",
       "  </tbody>\n",
       "</table>\n",
       "<p>118 rows × 8 columns</p>\n",
       "</div>"
      ],
      "text/plain": [
       "     flight_id  ticket_price flight_no  fl_month  fl_day                model  \\\n",
       "0       136119     1653000.0    PG0252       1.0       3       Boeing 737-300   \n",
       "1       136120     1605400.0    PG0252       2.0      24       Boeing 737-300   \n",
       "2       136122     1431000.0    PG0252       1.0       8       Boeing 737-300   \n",
       "3       136130     1556600.0    PG0252       2.0      13       Boeing 737-300   \n",
       "4       136131     1812800.0    PG0252       1.0      28       Boeing 737-300   \n",
       "..         ...           ...       ...       ...     ...                  ...   \n",
       "113     136936      632400.0    PG0480       1.0       2  Sukhoi Superjet-100   \n",
       "114     136937      626100.0    PG0480       1.0       3  Sukhoi Superjet-100   \n",
       "115     136951      720600.0    PG0480       2.0       2  Sukhoi Superjet-100   \n",
       "116     136953      765300.0    PG0480       2.0      27  Sukhoi Superjet-100   \n",
       "117     136956      746400.0    PG0480       2.0       4  Sukhoi Superjet-100   \n",
       "\n",
       "     fuel_cost      profit  \n",
       "0    211870.97  1441129.03  \n",
       "1    202247.67  1403152.33  \n",
       "2    211870.97  1219129.03  \n",
       "3    202247.67  1354352.33  \n",
       "4    211870.97  1600929.03  \n",
       "..         ...         ...  \n",
       "113   73339.95   559060.05  \n",
       "114   73339.95   552760.05  \n",
       "115   70008.81   650591.19  \n",
       "116   70008.81   695291.19  \n",
       "117   70008.81   676391.19  \n",
       "\n",
       "[118 rows x 8 columns]"
      ]
     },
     "execution_count": 45,
     "metadata": {},
     "output_type": "execute_result"
    }
   ],
   "source": [
    "profit_fact = flight_id_profit.merge(flight_id_cost, on = 'flight_id', how = 'inner')\n",
    "profit_fact['profit'] = profit_fact['ticket_price'] - profit_fact['fuel_cost']\n",
    "profit_fact"
   ]
  },
  {
   "cell_type": "code",
   "execution_count": 46,
   "metadata": {
    "colab": {
     "base_uri": "https://localhost:8080/",
     "height": 410
    },
    "executionInfo": {
     "elapsed": 1554,
     "status": "ok",
     "timestamp": 1638331407941,
     "user": {
      "displayName": "An Mat",
      "photoUrl": "https://lh3.googleusercontent.com/a/default-user=s64",
      "userId": "17855782157325435961"
     },
     "user_tz": -600
    },
    "id": "m84SlfCR-CHG",
    "outputId": "5d9a2797-d1ad-4db1-c14a-1d93ccf42526"
   },
   "outputs": [
    {
     "data": {
      "image/png": "[encoded data removed]",
      "text/plain": [
       "<Figure size 1224x360 with 1 Axes>"
      ]
     },
     "metadata": {},
     "output_type": "display_data"
    }
   ],
   "source": [
    "profit_fact.pivot_table(values = ['profit'], \n",
    "               index = ['flight_no', 'fl_month', 'fl_day'], \n",
    "               aggfunc = 'sum').unstack(0).plot(title='Прибыль в разрезе номера рейса', \\\n",
    "                                                kind = 'bar', figsize=(17,5), xlabel=\"Январь и Февраль 2017\", \\\n",
    "                                                ylabel=\"Прибыль\")\n",
    "plt.legend(['PG0252: Анапа-Москва', 'PG0480: Анапа-Белгород'])\n",
    "plt.show()"
   ]
  },
  {
   "cell_type": "markdown",
   "metadata": {
    "id": "c_cQchkeuiSe"
   },
   "source": [
    "Можно сделать вывод, что убыточных рейсов по данным направлениям нет, однако  существуют малоприбыльные."
   ]
  },
  {
   "cell_type": "markdown",
   "metadata": {
    "id": "YMOafwRPuiSf"
   },
   "source": [
    "Теперь проанализируем, сколько каждый рейс недополучил прибыли (на основании данных о непроданных местах). \\\n",
    "Преобразуем датасет, создадим вспомогательный для анализа пустых мест (заменим значения Nan на 0 для удобства)"
   ]
  },
  {
   "cell_type": "code",
   "execution_count": 47,
   "metadata": {
    "colab": {
     "base_uri": "https://localhost:8080/",
     "height": 808
    },
    "executionInfo": {
     "elapsed": 412,
     "status": "ok",
     "timestamp": 1638331574639,
     "user": {
      "displayName": "An Mat",
      "photoUrl": "https://lh3.googleusercontent.com/a/default-user=s64",
      "userId": "17855782157325435961"
     },
     "user_tz": -600
    },
    "id": "KOx0V88HuiSf",
    "outputId": "7ec61f51-12c2-4eb5-a2a0-6d4079c1a248"
   },
   "outputs": [
    {
     "name": "stderr",
     "output_type": "stream",
     "text": [
      "C:\\Users\\Sony\\anaconda3\\lib\\site-packages\\pandas\\core\\indexing.py:1745: SettingWithCopyWarning: \n",
      "A value is trying to be set on a copy of a slice from a DataFrame.\n",
      "Try using .loc[row_indexer,col_indexer] = value instead\n",
      "\n",
      "See the caveats in the documentation: https://pandas.pydata.org/pandas-docs/stable/user_guide/indexing.html#returning-a-view-versus-a-copy\n",
      "  isetter(ilocs[0], value)\n"
     ]
    },
    {
     "data": {
      "text/html": [
       "<div>\n",
       "<style scoped>\n",
       "    .dataframe tbody tr th:only-of-type {\n",
       "        vertical-align: middle;\n",
       "    }\n",
       "\n",
       "    .dataframe tbody tr th {\n",
       "        vertical-align: top;\n",
       "    }\n",
       "\n",
       "    .dataframe thead th {\n",
       "        text-align: right;\n",
       "    }\n",
       "</style>\n",
       "<table border=\"1\" class=\"dataframe\">\n",
       "  <thead>\n",
       "    <tr style=\"text-align: right;\">\n",
       "      <th></th>\n",
       "      <th>flight_id</th>\n",
       "      <th>flight_no</th>\n",
       "      <th>city_depart</th>\n",
       "      <th>city_arrive</th>\n",
       "      <th>scheduled_departure</th>\n",
       "      <th>scheduled_arrival</th>\n",
       "      <th>fl_month</th>\n",
       "      <th>flight_minute</th>\n",
       "      <th>model</th>\n",
       "      <th>class_available</th>\n",
       "      <th>seat_available</th>\n",
       "      <th>ticket_no</th>\n",
       "      <th>class_occupied</th>\n",
       "      <th>seat_occupied</th>\n",
       "      <th>ticket_price</th>\n",
       "      <th>fuel_price</th>\n",
       "      <th>fuel_per_hour</th>\n",
       "      <th>fl_day</th>\n",
       "      <th>fuel_cost</th>\n",
       "    </tr>\n",
       "  </thead>\n",
       "  <tbody>\n",
       "    <tr>\n",
       "      <th>11</th>\n",
       "      <td>136119</td>\n",
       "      <td>PG0252</td>\n",
       "      <td>Anapa</td>\n",
       "      <td>Moscow</td>\n",
       "      <td>2017-01-03 10:05:00+00:00</td>\n",
       "      <td>2017-01-03T11:45:00Z</td>\n",
       "      <td>1.0</td>\n",
       "      <td>100.0</td>\n",
       "      <td>Boeing 737-300</td>\n",
       "      <td>Business</td>\n",
       "      <td>3F</td>\n",
       "      <td>0</td>\n",
       "      <td>0</td>\n",
       "      <td>0</td>\n",
       "      <td>0.0</td>\n",
       "      <td>48893.30</td>\n",
       "      <td>2600</td>\n",
       "      <td>3</td>\n",
       "      <td>211870.97</td>\n",
       "    </tr>\n",
       "    <tr>\n",
       "      <th>114</th>\n",
       "      <td>136119</td>\n",
       "      <td>PG0252</td>\n",
       "      <td>Anapa</td>\n",
       "      <td>Moscow</td>\n",
       "      <td>2017-01-03 10:05:00+00:00</td>\n",
       "      <td>2017-01-03T11:45:00Z</td>\n",
       "      <td>1.0</td>\n",
       "      <td>100.0</td>\n",
       "      <td>Boeing 737-300</td>\n",
       "      <td>Economy</td>\n",
       "      <td>20A</td>\n",
       "      <td>0</td>\n",
       "      <td>0</td>\n",
       "      <td>0</td>\n",
       "      <td>0.0</td>\n",
       "      <td>48893.30</td>\n",
       "      <td>2600</td>\n",
       "      <td>3</td>\n",
       "      <td>211870.97</td>\n",
       "    </tr>\n",
       "    <tr>\n",
       "      <th>115</th>\n",
       "      <td>136119</td>\n",
       "      <td>PG0252</td>\n",
       "      <td>Anapa</td>\n",
       "      <td>Moscow</td>\n",
       "      <td>2017-01-03 10:05:00+00:00</td>\n",
       "      <td>2017-01-03T11:45:00Z</td>\n",
       "      <td>1.0</td>\n",
       "      <td>100.0</td>\n",
       "      <td>Boeing 737-300</td>\n",
       "      <td>Economy</td>\n",
       "      <td>12F</td>\n",
       "      <td>0</td>\n",
       "      <td>0</td>\n",
       "      <td>0</td>\n",
       "      <td>0.0</td>\n",
       "      <td>48893.30</td>\n",
       "      <td>2600</td>\n",
       "      <td>3</td>\n",
       "      <td>211870.97</td>\n",
       "    </tr>\n",
       "    <tr>\n",
       "      <th>116</th>\n",
       "      <td>136119</td>\n",
       "      <td>PG0252</td>\n",
       "      <td>Anapa</td>\n",
       "      <td>Moscow</td>\n",
       "      <td>2017-01-03 10:05:00+00:00</td>\n",
       "      <td>2017-01-03T11:45:00Z</td>\n",
       "      <td>1.0</td>\n",
       "      <td>100.0</td>\n",
       "      <td>Boeing 737-300</td>\n",
       "      <td>Economy</td>\n",
       "      <td>8F</td>\n",
       "      <td>0</td>\n",
       "      <td>0</td>\n",
       "      <td>0</td>\n",
       "      <td>0.0</td>\n",
       "      <td>48893.30</td>\n",
       "      <td>2600</td>\n",
       "      <td>3</td>\n",
       "      <td>211870.97</td>\n",
       "    </tr>\n",
       "    <tr>\n",
       "      <th>117</th>\n",
       "      <td>136119</td>\n",
       "      <td>PG0252</td>\n",
       "      <td>Anapa</td>\n",
       "      <td>Moscow</td>\n",
       "      <td>2017-01-03 10:05:00+00:00</td>\n",
       "      <td>2017-01-03T11:45:00Z</td>\n",
       "      <td>1.0</td>\n",
       "      <td>100.0</td>\n",
       "      <td>Boeing 737-300</td>\n",
       "      <td>Economy</td>\n",
       "      <td>12E</td>\n",
       "      <td>0</td>\n",
       "      <td>0</td>\n",
       "      <td>0</td>\n",
       "      <td>0.0</td>\n",
       "      <td>48893.30</td>\n",
       "      <td>2600</td>\n",
       "      <td>3</td>\n",
       "      <td>211870.97</td>\n",
       "    </tr>\n",
       "    <tr>\n",
       "      <th>...</th>\n",
       "      <td>...</td>\n",
       "      <td>...</td>\n",
       "      <td>...</td>\n",
       "      <td>...</td>\n",
       "      <td>...</td>\n",
       "      <td>...</td>\n",
       "      <td>...</td>\n",
       "      <td>...</td>\n",
       "      <td>...</td>\n",
       "      <td>...</td>\n",
       "      <td>...</td>\n",
       "      <td>...</td>\n",
       "      <td>...</td>\n",
       "      <td>...</td>\n",
       "      <td>...</td>\n",
       "      <td>...</td>\n",
       "      <td>...</td>\n",
       "      <td>...</td>\n",
       "      <td>...</td>\n",
       "    </tr>\n",
       "    <tr>\n",
       "      <th>14365</th>\n",
       "      <td>136951</td>\n",
       "      <td>PG0480</td>\n",
       "      <td>Anapa</td>\n",
       "      <td>Belgorod</td>\n",
       "      <td>2017-02-02 09:25:00+00:00</td>\n",
       "      <td>2017-02-02T10:15:00Z</td>\n",
       "      <td>2.0</td>\n",
       "      <td>50.0</td>\n",
       "      <td>Sukhoi Superjet-100</td>\n",
       "      <td>Economy</td>\n",
       "      <td>6E</td>\n",
       "      <td>0</td>\n",
       "      <td>0</td>\n",
       "      <td>0</td>\n",
       "      <td>0.0</td>\n",
       "      <td>46672.54</td>\n",
       "      <td>1800</td>\n",
       "      <td>2</td>\n",
       "      <td>70008.81</td>\n",
       "    </tr>\n",
       "    <tr>\n",
       "      <th>14366</th>\n",
       "      <td>136951</td>\n",
       "      <td>PG0480</td>\n",
       "      <td>Anapa</td>\n",
       "      <td>Belgorod</td>\n",
       "      <td>2017-02-02 09:25:00+00:00</td>\n",
       "      <td>2017-02-02T10:15:00Z</td>\n",
       "      <td>2.0</td>\n",
       "      <td>50.0</td>\n",
       "      <td>Sukhoi Superjet-100</td>\n",
       "      <td>Economy</td>\n",
       "      <td>14D</td>\n",
       "      <td>0</td>\n",
       "      <td>0</td>\n",
       "      <td>0</td>\n",
       "      <td>0.0</td>\n",
       "      <td>46672.54</td>\n",
       "      <td>1800</td>\n",
       "      <td>2</td>\n",
       "      <td>70008.81</td>\n",
       "    </tr>\n",
       "    <tr>\n",
       "      <th>14367</th>\n",
       "      <td>136951</td>\n",
       "      <td>PG0480</td>\n",
       "      <td>Anapa</td>\n",
       "      <td>Belgorod</td>\n",
       "      <td>2017-02-02 09:25:00+00:00</td>\n",
       "      <td>2017-02-02T10:15:00Z</td>\n",
       "      <td>2.0</td>\n",
       "      <td>50.0</td>\n",
       "      <td>Sukhoi Superjet-100</td>\n",
       "      <td>Economy</td>\n",
       "      <td>15A</td>\n",
       "      <td>0</td>\n",
       "      <td>0</td>\n",
       "      <td>0</td>\n",
       "      <td>0.0</td>\n",
       "      <td>46672.54</td>\n",
       "      <td>1800</td>\n",
       "      <td>2</td>\n",
       "      <td>70008.81</td>\n",
       "    </tr>\n",
       "    <tr>\n",
       "      <th>14368</th>\n",
       "      <td>136951</td>\n",
       "      <td>PG0480</td>\n",
       "      <td>Anapa</td>\n",
       "      <td>Belgorod</td>\n",
       "      <td>2017-02-02 09:25:00+00:00</td>\n",
       "      <td>2017-02-02T10:15:00Z</td>\n",
       "      <td>2.0</td>\n",
       "      <td>50.0</td>\n",
       "      <td>Sukhoi Superjet-100</td>\n",
       "      <td>Economy</td>\n",
       "      <td>17A</td>\n",
       "      <td>0</td>\n",
       "      <td>0</td>\n",
       "      <td>0</td>\n",
       "      <td>0.0</td>\n",
       "      <td>46672.54</td>\n",
       "      <td>1800</td>\n",
       "      <td>2</td>\n",
       "      <td>70008.81</td>\n",
       "    </tr>\n",
       "    <tr>\n",
       "      <th>14477</th>\n",
       "      <td>136956</td>\n",
       "      <td>PG0480</td>\n",
       "      <td>Anapa</td>\n",
       "      <td>Belgorod</td>\n",
       "      <td>2017-02-04 09:25:00+00:00</td>\n",
       "      <td>2017-02-04T10:15:00Z</td>\n",
       "      <td>2.0</td>\n",
       "      <td>50.0</td>\n",
       "      <td>Sukhoi Superjet-100</td>\n",
       "      <td>Business</td>\n",
       "      <td>3F</td>\n",
       "      <td>0</td>\n",
       "      <td>0</td>\n",
       "      <td>0</td>\n",
       "      <td>0.0</td>\n",
       "      <td>46672.54</td>\n",
       "      <td>1800</td>\n",
       "      <td>4</td>\n",
       "      <td>70008.81</td>\n",
       "    </tr>\n",
       "  </tbody>\n",
       "</table>\n",
       "<p>1398 rows × 19 columns</p>\n",
       "</div>"
      ],
      "text/plain": [
       "       flight_id flight_no city_depart city_arrive       scheduled_departure  \\\n",
       "11        136119    PG0252       Anapa      Moscow 2017-01-03 10:05:00+00:00   \n",
       "114       136119    PG0252       Anapa      Moscow 2017-01-03 10:05:00+00:00   \n",
       "115       136119    PG0252       Anapa      Moscow 2017-01-03 10:05:00+00:00   \n",
       "116       136119    PG0252       Anapa      Moscow 2017-01-03 10:05:00+00:00   \n",
       "117       136119    PG0252       Anapa      Moscow 2017-01-03 10:05:00+00:00   \n",
       "...          ...       ...         ...         ...                       ...   \n",
       "14365     136951    PG0480       Anapa    Belgorod 2017-02-02 09:25:00+00:00   \n",
       "14366     136951    PG0480       Anapa    Belgorod 2017-02-02 09:25:00+00:00   \n",
       "14367     136951    PG0480       Anapa    Belgorod 2017-02-02 09:25:00+00:00   \n",
       "14368     136951    PG0480       Anapa    Belgorod 2017-02-02 09:25:00+00:00   \n",
       "14477     136956    PG0480       Anapa    Belgorod 2017-02-04 09:25:00+00:00   \n",
       "\n",
       "          scheduled_arrival  fl_month  flight_minute                model  \\\n",
       "11     2017-01-03T11:45:00Z       1.0          100.0       Boeing 737-300   \n",
       "114    2017-01-03T11:45:00Z       1.0          100.0       Boeing 737-300   \n",
       "115    2017-01-03T11:45:00Z       1.0          100.0       Boeing 737-300   \n",
       "116    2017-01-03T11:45:00Z       1.0          100.0       Boeing 737-300   \n",
       "117    2017-01-03T11:45:00Z       1.0          100.0       Boeing 737-300   \n",
       "...                     ...       ...            ...                  ...   \n",
       "14365  2017-02-02T10:15:00Z       2.0           50.0  Sukhoi Superjet-100   \n",
       "14366  2017-02-02T10:15:00Z       2.0           50.0  Sukhoi Superjet-100   \n",
       "14367  2017-02-02T10:15:00Z       2.0           50.0  Sukhoi Superjet-100   \n",
       "14368  2017-02-02T10:15:00Z       2.0           50.0  Sukhoi Superjet-100   \n",
       "14477  2017-02-04T10:15:00Z       2.0           50.0  Sukhoi Superjet-100   \n",
       "\n",
       "      class_available seat_available  ticket_no  class_occupied  \\\n",
       "11           Business             3F          0               0   \n",
       "114           Economy            20A          0               0   \n",
       "115           Economy            12F          0               0   \n",
       "116           Economy             8F          0               0   \n",
       "117           Economy            12E          0               0   \n",
       "...               ...            ...        ...             ...   \n",
       "14365         Economy             6E          0               0   \n",
       "14366         Economy            14D          0               0   \n",
       "14367         Economy            15A          0               0   \n",
       "14368         Economy            17A          0               0   \n",
       "14477        Business             3F          0               0   \n",
       "\n",
       "       seat_occupied  ticket_price  fuel_price  fuel_per_hour  fl_day  \\\n",
       "11                 0           0.0    48893.30           2600       3   \n",
       "114                0           0.0    48893.30           2600       3   \n",
       "115                0           0.0    48893.30           2600       3   \n",
       "116                0           0.0    48893.30           2600       3   \n",
       "117                0           0.0    48893.30           2600       3   \n",
       "...              ...           ...         ...            ...     ...   \n",
       "14365              0           0.0    46672.54           1800       2   \n",
       "14366              0           0.0    46672.54           1800       2   \n",
       "14367              0           0.0    46672.54           1800       2   \n",
       "14368              0           0.0    46672.54           1800       2   \n",
       "14477              0           0.0    46672.54           1800       4   \n",
       "\n",
       "       fuel_cost  \n",
       "11     211870.97  \n",
       "114    211870.97  \n",
       "115    211870.97  \n",
       "116    211870.97  \n",
       "117    211870.97  \n",
       "...          ...  \n",
       "14365   70008.81  \n",
       "14366   70008.81  \n",
       "14367   70008.81  \n",
       "14368   70008.81  \n",
       "14477   70008.81  \n",
       "\n",
       "[1398 rows x 19 columns]"
      ]
     },
     "execution_count": 47,
     "metadata": {},
     "output_type": "execute_result"
    }
   ],
   "source": [
    "seat_empty = flight.loc[flight['seat_occupied'].isna() == True]\n",
    "seat_empty.loc[:, ['class_occupied']] = seat_empty['class_occupied'].fillna(0)\n",
    "seat_empty.loc[:, ['seat_occupied']] = seat_empty['seat_occupied'].fillna(0)\n",
    "seat_empty.loc[:, ['ticket_price']] = seat_empty['ticket_price'].fillna(0)\n",
    "seat_empty.loc[:, ['ticket_no']] = seat_empty['ticket_no'].replace('nan', 0)\n",
    "seat_empty"
   ]
  },
  {
   "cell_type": "code",
   "execution_count": 48,
   "metadata": {
    "colab": {
     "base_uri": "https://localhost:8080/"
    },
    "executionInfo": {
     "elapsed": 413,
     "status": "ok",
     "timestamp": 1638331597905,
     "user": {
      "displayName": "An Mat",
      "photoUrl": "https://lh3.googleusercontent.com/a/default-user=s64",
      "userId": "17855782157325435961"
     },
     "user_tz": -600
    },
    "id": "ioqUiIpuuiSf",
    "outputId": "2383c33b-fe9e-4a47-bccc-547987967260"
   },
   "outputs": [
    {
     "name": "stdout",
     "output_type": "stream",
     "text": [
      "<class 'pandas.core.frame.DataFrame'>\n",
      "Int64Index: 1398 entries, 11 to 14477\n",
      "Data columns (total 19 columns):\n",
      " #   Column               Non-Null Count  Dtype              \n",
      "---  ------               --------------  -----              \n",
      " 0   flight_id            1398 non-null   int64              \n",
      " 1   flight_no            1398 non-null   object             \n",
      " 2   city_depart          1398 non-null   object             \n",
      " 3   city_arrive          1398 non-null   object             \n",
      " 4   scheduled_departure  1398 non-null   datetime64[ns, UTC]\n",
      " 5   scheduled_arrival    1398 non-null   object             \n",
      " 6   fl_month             1398 non-null   float64            \n",
      " 7   flight_minute        1398 non-null   float64            \n",
      " 8   model                1398 non-null   object             \n",
      " 9   class_available      1398 non-null   object             \n",
      " 10  seat_available       1398 non-null   object             \n",
      " 11  ticket_no            1398 non-null   int64              \n",
      " 12  class_occupied       1398 non-null   int64              \n",
      " 13  seat_occupied        1398 non-null   int64              \n",
      " 14  ticket_price         1398 non-null   float64            \n",
      " 15  fuel_price           1398 non-null   float64            \n",
      " 16  fuel_per_hour        1398 non-null   int64              \n",
      " 17  fl_day               1398 non-null   int64              \n",
      " 18  fuel_cost            1398 non-null   float64            \n",
      "dtypes: datetime64[ns, UTC](1), float64(5), int64(6), object(7)\n",
      "memory usage: 218.4+ KB\n"
     ]
    }
   ],
   "source": [
    "seat_empty.info()"
   ]
  },
  {
   "cell_type": "markdown",
   "metadata": {
    "id": "HCzKwQKnuiSf"
   },
   "source": [
    "Воспользуемся полученными ранее данными о стоимости билетов:\n",
    "\n",
    "1) Boeing 737-300: 'Business' = 36600 руб., 'Economy' = 12200 руб., 'Economy' (места 11*) = 13400 руб., \\\n",
    "2) Sukhoi Superjet-100: 'Business' = 18900 руб., 'Economy' = 6300 руб., 'Economy' (места 6*) = 6900 руб."
   ]
  },
  {
   "cell_type": "code",
   "execution_count": 49,
   "metadata": {
    "colab": {
     "base_uri": "https://localhost:8080/"
    },
    "executionInfo": {
     "elapsed": 401,
     "status": "ok",
     "timestamp": 1638331745852,
     "user": {
      "displayName": "An Mat",
      "photoUrl": "https://lh3.googleusercontent.com/a/default-user=s64",
      "userId": "17855782157325435961"
     },
     "user_tz": -600
    },
    "id": "leAIv2dvuiSg",
    "outputId": "601cd4d2-4df8-4705-9ba7-876bf7ccf097"
   },
   "outputs": [
    {
     "name": "stderr",
     "output_type": "stream",
     "text": [
      "<ipython-input-49-d8372aa77ff4>:1: SettingWithCopyWarning: \n",
      "A value is trying to be set on a copy of a slice from a DataFrame.\n",
      "Try using .loc[row_indexer,col_indexer] = value instead\n",
      "\n",
      "See the caveats in the documentation: https://pandas.pydata.org/pandas-docs/stable/user_guide/indexing.html#returning-a-view-versus-a-copy\n",
      "  seat_empty['ticket_price_loss'] = seat_empty['ticket_price']\n",
      "<ipython-input-49-d8372aa77ff4>:2: SettingWithCopyWarning: \n",
      "A value is trying to be set on a copy of a slice from a DataFrame.\n",
      "Try using .loc[row_indexer,col_indexer] = value instead\n",
      "\n",
      "See the caveats in the documentation: https://pandas.pydata.org/pandas-docs/stable/user_guide/indexing.html#returning-a-view-versus-a-copy\n",
      "  seat_empty['ticket_price_loss'] = seat_empty.apply(lambda row: fill_ticket_price(row), axis=1)\n"
     ]
    }
   ],
   "source": [
    "seat_empty['ticket_price_loss'] = seat_empty['ticket_price']\n",
    "seat_empty['ticket_price_loss'] = seat_empty.apply(lambda row: fill_ticket_price(row), axis=1)"
   ]
  },
  {
   "cell_type": "code",
   "execution_count": 50,
   "metadata": {
    "colab": {
     "base_uri": "https://localhost:8080/",
     "height": 704
    },
    "executionInfo": {
     "elapsed": 386,
     "status": "ok",
     "timestamp": 1638331783301,
     "user": {
      "displayName": "An Mat",
      "photoUrl": "https://lh3.googleusercontent.com/a/default-user=s64",
      "userId": "17855782157325435961"
     },
     "user_tz": -600
    },
    "id": "p0Ix1YuZuiSg",
    "outputId": "51fb269d-c9b2-44b8-bb1a-f776ecc40487",
    "scrolled": true
   },
   "outputs": [
    {
     "data": {
      "text/html": [
       "<div>\n",
       "<style scoped>\n",
       "    .dataframe tbody tr th:only-of-type {\n",
       "        vertical-align: middle;\n",
       "    }\n",
       "\n",
       "    .dataframe tbody tr th {\n",
       "        vertical-align: top;\n",
       "    }\n",
       "\n",
       "    .dataframe thead th {\n",
       "        text-align: right;\n",
       "    }\n",
       "</style>\n",
       "<table border=\"1\" class=\"dataframe\">\n",
       "  <thead>\n",
       "    <tr style=\"text-align: right;\">\n",
       "      <th></th>\n",
       "      <th>flight_id</th>\n",
       "      <th>flight_no</th>\n",
       "      <th>city_depart</th>\n",
       "      <th>city_arrive</th>\n",
       "      <th>scheduled_departure</th>\n",
       "      <th>scheduled_arrival</th>\n",
       "      <th>fl_month</th>\n",
       "      <th>flight_minute</th>\n",
       "      <th>model</th>\n",
       "      <th>class_available</th>\n",
       "      <th>seat_available</th>\n",
       "      <th>ticket_no</th>\n",
       "      <th>class_occupied</th>\n",
       "      <th>seat_occupied</th>\n",
       "      <th>ticket_price</th>\n",
       "      <th>fuel_price</th>\n",
       "      <th>fuel_per_hour</th>\n",
       "      <th>fl_day</th>\n",
       "      <th>fuel_cost</th>\n",
       "      <th>ticket_price_loss</th>\n",
       "    </tr>\n",
       "  </thead>\n",
       "  <tbody>\n",
       "    <tr>\n",
       "      <th>11</th>\n",
       "      <td>136119</td>\n",
       "      <td>PG0252</td>\n",
       "      <td>Anapa</td>\n",
       "      <td>Moscow</td>\n",
       "      <td>2017-01-03 10:05:00+00:00</td>\n",
       "      <td>2017-01-03T11:45:00Z</td>\n",
       "      <td>1.0</td>\n",
       "      <td>100.0</td>\n",
       "      <td>Boeing 737-300</td>\n",
       "      <td>Business</td>\n",
       "      <td>3F</td>\n",
       "      <td>0</td>\n",
       "      <td>0</td>\n",
       "      <td>0</td>\n",
       "      <td>0.0</td>\n",
       "      <td>48893.30</td>\n",
       "      <td>2600</td>\n",
       "      <td>3</td>\n",
       "      <td>211870.97</td>\n",
       "      <td>36600</td>\n",
       "    </tr>\n",
       "    <tr>\n",
       "      <th>114</th>\n",
       "      <td>136119</td>\n",
       "      <td>PG0252</td>\n",
       "      <td>Anapa</td>\n",
       "      <td>Moscow</td>\n",
       "      <td>2017-01-03 10:05:00+00:00</td>\n",
       "      <td>2017-01-03T11:45:00Z</td>\n",
       "      <td>1.0</td>\n",
       "      <td>100.0</td>\n",
       "      <td>Boeing 737-300</td>\n",
       "      <td>Economy</td>\n",
       "      <td>20A</td>\n",
       "      <td>0</td>\n",
       "      <td>0</td>\n",
       "      <td>0</td>\n",
       "      <td>0.0</td>\n",
       "      <td>48893.30</td>\n",
       "      <td>2600</td>\n",
       "      <td>3</td>\n",
       "      <td>211870.97</td>\n",
       "      <td>12200</td>\n",
       "    </tr>\n",
       "    <tr>\n",
       "      <th>115</th>\n",
       "      <td>136119</td>\n",
       "      <td>PG0252</td>\n",
       "      <td>Anapa</td>\n",
       "      <td>Moscow</td>\n",
       "      <td>2017-01-03 10:05:00+00:00</td>\n",
       "      <td>2017-01-03T11:45:00Z</td>\n",
       "      <td>1.0</td>\n",
       "      <td>100.0</td>\n",
       "      <td>Boeing 737-300</td>\n",
       "      <td>Economy</td>\n",
       "      <td>12F</td>\n",
       "      <td>0</td>\n",
       "      <td>0</td>\n",
       "      <td>0</td>\n",
       "      <td>0.0</td>\n",
       "      <td>48893.30</td>\n",
       "      <td>2600</td>\n",
       "      <td>3</td>\n",
       "      <td>211870.97</td>\n",
       "      <td>12200</td>\n",
       "    </tr>\n",
       "    <tr>\n",
       "      <th>116</th>\n",
       "      <td>136119</td>\n",
       "      <td>PG0252</td>\n",
       "      <td>Anapa</td>\n",
       "      <td>Moscow</td>\n",
       "      <td>2017-01-03 10:05:00+00:00</td>\n",
       "      <td>2017-01-03T11:45:00Z</td>\n",
       "      <td>1.0</td>\n",
       "      <td>100.0</td>\n",
       "      <td>Boeing 737-300</td>\n",
       "      <td>Economy</td>\n",
       "      <td>8F</td>\n",
       "      <td>0</td>\n",
       "      <td>0</td>\n",
       "      <td>0</td>\n",
       "      <td>0.0</td>\n",
       "      <td>48893.30</td>\n",
       "      <td>2600</td>\n",
       "      <td>3</td>\n",
       "      <td>211870.97</td>\n",
       "      <td>12200</td>\n",
       "    </tr>\n",
       "    <tr>\n",
       "      <th>117</th>\n",
       "      <td>136119</td>\n",
       "      <td>PG0252</td>\n",
       "      <td>Anapa</td>\n",
       "      <td>Moscow</td>\n",
       "      <td>2017-01-03 10:05:00+00:00</td>\n",
       "      <td>2017-01-03T11:45:00Z</td>\n",
       "      <td>1.0</td>\n",
       "      <td>100.0</td>\n",
       "      <td>Boeing 737-300</td>\n",
       "      <td>Economy</td>\n",
       "      <td>12E</td>\n",
       "      <td>0</td>\n",
       "      <td>0</td>\n",
       "      <td>0</td>\n",
       "      <td>0.0</td>\n",
       "      <td>48893.30</td>\n",
       "      <td>2600</td>\n",
       "      <td>3</td>\n",
       "      <td>211870.97</td>\n",
       "      <td>12200</td>\n",
       "    </tr>\n",
       "    <tr>\n",
       "      <th>...</th>\n",
       "      <td>...</td>\n",
       "      <td>...</td>\n",
       "      <td>...</td>\n",
       "      <td>...</td>\n",
       "      <td>...</td>\n",
       "      <td>...</td>\n",
       "      <td>...</td>\n",
       "      <td>...</td>\n",
       "      <td>...</td>\n",
       "      <td>...</td>\n",
       "      <td>...</td>\n",
       "      <td>...</td>\n",
       "      <td>...</td>\n",
       "      <td>...</td>\n",
       "      <td>...</td>\n",
       "      <td>...</td>\n",
       "      <td>...</td>\n",
       "      <td>...</td>\n",
       "      <td>...</td>\n",
       "      <td>...</td>\n",
       "    </tr>\n",
       "    <tr>\n",
       "      <th>14365</th>\n",
       "      <td>136951</td>\n",
       "      <td>PG0480</td>\n",
       "      <td>Anapa</td>\n",
       "      <td>Belgorod</td>\n",
       "      <td>2017-02-02 09:25:00+00:00</td>\n",
       "      <td>2017-02-02T10:15:00Z</td>\n",
       "      <td>2.0</td>\n",
       "      <td>50.0</td>\n",
       "      <td>Sukhoi Superjet-100</td>\n",
       "      <td>Economy</td>\n",
       "      <td>6E</td>\n",
       "      <td>0</td>\n",
       "      <td>0</td>\n",
       "      <td>0</td>\n",
       "      <td>0.0</td>\n",
       "      <td>46672.54</td>\n",
       "      <td>1800</td>\n",
       "      <td>2</td>\n",
       "      <td>70008.81</td>\n",
       "      <td>6900</td>\n",
       "    </tr>\n",
       "    <tr>\n",
       "      <th>14366</th>\n",
       "      <td>136951</td>\n",
       "      <td>PG0480</td>\n",
       "      <td>Anapa</td>\n",
       "      <td>Belgorod</td>\n",
       "      <td>2017-02-02 09:25:00+00:00</td>\n",
       "      <td>2017-02-02T10:15:00Z</td>\n",
       "      <td>2.0</td>\n",
       "      <td>50.0</td>\n",
       "      <td>Sukhoi Superjet-100</td>\n",
       "      <td>Economy</td>\n",
       "      <td>14D</td>\n",
       "      <td>0</td>\n",
       "      <td>0</td>\n",
       "      <td>0</td>\n",
       "      <td>0.0</td>\n",
       "      <td>46672.54</td>\n",
       "      <td>1800</td>\n",
       "      <td>2</td>\n",
       "      <td>70008.81</td>\n",
       "      <td>6300</td>\n",
       "    </tr>\n",
       "    <tr>\n",
       "      <th>14367</th>\n",
       "      <td>136951</td>\n",
       "      <td>PG0480</td>\n",
       "      <td>Anapa</td>\n",
       "      <td>Belgorod</td>\n",
       "      <td>2017-02-02 09:25:00+00:00</td>\n",
       "      <td>2017-02-02T10:15:00Z</td>\n",
       "      <td>2.0</td>\n",
       "      <td>50.0</td>\n",
       "      <td>Sukhoi Superjet-100</td>\n",
       "      <td>Economy</td>\n",
       "      <td>15A</td>\n",
       "      <td>0</td>\n",
       "      <td>0</td>\n",
       "      <td>0</td>\n",
       "      <td>0.0</td>\n",
       "      <td>46672.54</td>\n",
       "      <td>1800</td>\n",
       "      <td>2</td>\n",
       "      <td>70008.81</td>\n",
       "      <td>6300</td>\n",
       "    </tr>\n",
       "    <tr>\n",
       "      <th>14368</th>\n",
       "      <td>136951</td>\n",
       "      <td>PG0480</td>\n",
       "      <td>Anapa</td>\n",
       "      <td>Belgorod</td>\n",
       "      <td>2017-02-02 09:25:00+00:00</td>\n",
       "      <td>2017-02-02T10:15:00Z</td>\n",
       "      <td>2.0</td>\n",
       "      <td>50.0</td>\n",
       "      <td>Sukhoi Superjet-100</td>\n",
       "      <td>Economy</td>\n",
       "      <td>17A</td>\n",
       "      <td>0</td>\n",
       "      <td>0</td>\n",
       "      <td>0</td>\n",
       "      <td>0.0</td>\n",
       "      <td>46672.54</td>\n",
       "      <td>1800</td>\n",
       "      <td>2</td>\n",
       "      <td>70008.81</td>\n",
       "      <td>6300</td>\n",
       "    </tr>\n",
       "    <tr>\n",
       "      <th>14477</th>\n",
       "      <td>136956</td>\n",
       "      <td>PG0480</td>\n",
       "      <td>Anapa</td>\n",
       "      <td>Belgorod</td>\n",
       "      <td>2017-02-04 09:25:00+00:00</td>\n",
       "      <td>2017-02-04T10:15:00Z</td>\n",
       "      <td>2.0</td>\n",
       "      <td>50.0</td>\n",
       "      <td>Sukhoi Superjet-100</td>\n",
       "      <td>Business</td>\n",
       "      <td>3F</td>\n",
       "      <td>0</td>\n",
       "      <td>0</td>\n",
       "      <td>0</td>\n",
       "      <td>0.0</td>\n",
       "      <td>46672.54</td>\n",
       "      <td>1800</td>\n",
       "      <td>4</td>\n",
       "      <td>70008.81</td>\n",
       "      <td>18900</td>\n",
       "    </tr>\n",
       "  </tbody>\n",
       "</table>\n",
       "<p>1398 rows × 20 columns</p>\n",
       "</div>"
      ],
      "text/plain": [
       "       flight_id flight_no city_depart city_arrive       scheduled_departure  \\\n",
       "11        136119    PG0252       Anapa      Moscow 2017-01-03 10:05:00+00:00   \n",
       "114       136119    PG0252       Anapa      Moscow 2017-01-03 10:05:00+00:00   \n",
       "115       136119    PG0252       Anapa      Moscow 2017-01-03 10:05:00+00:00   \n",
       "116       136119    PG0252       Anapa      Moscow 2017-01-03 10:05:00+00:00   \n",
       "117       136119    PG0252       Anapa      Moscow 2017-01-03 10:05:00+00:00   \n",
       "...          ...       ...         ...         ...                       ...   \n",
       "14365     136951    PG0480       Anapa    Belgorod 2017-02-02 09:25:00+00:00   \n",
       "14366     136951    PG0480       Anapa    Belgorod 2017-02-02 09:25:00+00:00   \n",
       "14367     136951    PG0480       Anapa    Belgorod 2017-02-02 09:25:00+00:00   \n",
       "14368     136951    PG0480       Anapa    Belgorod 2017-02-02 09:25:00+00:00   \n",
       "14477     136956    PG0480       Anapa    Belgorod 2017-02-04 09:25:00+00:00   \n",
       "\n",
       "          scheduled_arrival  fl_month  flight_minute                model  \\\n",
       "11     2017-01-03T11:45:00Z       1.0          100.0       Boeing 737-300   \n",
       "114    2017-01-03T11:45:00Z       1.0          100.0       Boeing 737-300   \n",
       "115    2017-01-03T11:45:00Z       1.0          100.0       Boeing 737-300   \n",
       "116    2017-01-03T11:45:00Z       1.0          100.0       Boeing 737-300   \n",
       "117    2017-01-03T11:45:00Z       1.0          100.0       Boeing 737-300   \n",
       "...                     ...       ...            ...                  ...   \n",
       "14365  2017-02-02T10:15:00Z       2.0           50.0  Sukhoi Superjet-100   \n",
       "14366  2017-02-02T10:15:00Z       2.0           50.0  Sukhoi Superjet-100   \n",
       "14367  2017-02-02T10:15:00Z       2.0           50.0  Sukhoi Superjet-100   \n",
       "14368  2017-02-02T10:15:00Z       2.0           50.0  Sukhoi Superjet-100   \n",
       "14477  2017-02-04T10:15:00Z       2.0           50.0  Sukhoi Superjet-100   \n",
       "\n",
       "      class_available seat_available  ticket_no  class_occupied  \\\n",
       "11           Business             3F          0               0   \n",
       "114           Economy            20A          0               0   \n",
       "115           Economy            12F          0               0   \n",
       "116           Economy             8F          0               0   \n",
       "117           Economy            12E          0               0   \n",
       "...               ...            ...        ...             ...   \n",
       "14365         Economy             6E          0               0   \n",
       "14366         Economy            14D          0               0   \n",
       "14367         Economy            15A          0               0   \n",
       "14368         Economy            17A          0               0   \n",
       "14477        Business             3F          0               0   \n",
       "\n",
       "       seat_occupied  ticket_price  fuel_price  fuel_per_hour  fl_day  \\\n",
       "11                 0           0.0    48893.30           2600       3   \n",
       "114                0           0.0    48893.30           2600       3   \n",
       "115                0           0.0    48893.30           2600       3   \n",
       "116                0           0.0    48893.30           2600       3   \n",
       "117                0           0.0    48893.30           2600       3   \n",
       "...              ...           ...         ...            ...     ...   \n",
       "14365              0           0.0    46672.54           1800       2   \n",
       "14366              0           0.0    46672.54           1800       2   \n",
       "14367              0           0.0    46672.54           1800       2   \n",
       "14368              0           0.0    46672.54           1800       2   \n",
       "14477              0           0.0    46672.54           1800       4   \n",
       "\n",
       "       fuel_cost  ticket_price_loss  \n",
       "11     211870.97              36600  \n",
       "114    211870.97              12200  \n",
       "115    211870.97              12200  \n",
       "116    211870.97              12200  \n",
       "117    211870.97              12200  \n",
       "...          ...                ...  \n",
       "14365   70008.81               6900  \n",
       "14366   70008.81               6300  \n",
       "14367   70008.81               6300  \n",
       "14368   70008.81               6300  \n",
       "14477   70008.81              18900  \n",
       "\n",
       "[1398 rows x 20 columns]"
      ]
     },
     "execution_count": 50,
     "metadata": {},
     "output_type": "execute_result"
    }
   ],
   "source": [
    "seat_empty"
   ]
  },
  {
   "cell_type": "markdown",
   "metadata": {
    "id": "7ghEJa0ouiSg"
   },
   "source": [
    "Найдем доход от продажи билетов по каждому ID рейса по пустым местам:"
   ]
  },
  {
   "cell_type": "code",
   "execution_count": 51,
   "metadata": {
    "colab": {
     "base_uri": "https://localhost:8080/",
     "height": 455
    },
    "executionInfo": {
     "elapsed": 409,
     "status": "ok",
     "timestamp": 1638331801344,
     "user": {
      "displayName": "An Mat",
      "photoUrl": "https://lh3.googleusercontent.com/a/default-user=s64",
      "userId": "17855782157325435961"
     },
     "user_tz": -600
    },
    "id": "UbfrUUNHuiSg",
    "outputId": "7425804c-0cc6-4d32-deaf-0d5654497e1b"
   },
   "outputs": [
    {
     "data": {
      "text/html": [
       "<div>\n",
       "<style scoped>\n",
       "    .dataframe tbody tr th:only-of-type {\n",
       "        vertical-align: middle;\n",
       "    }\n",
       "\n",
       "    .dataframe tbody tr th {\n",
       "        vertical-align: top;\n",
       "    }\n",
       "\n",
       "    .dataframe thead th {\n",
       "        text-align: right;\n",
       "    }\n",
       "</style>\n",
       "<table border=\"1\" class=\"dataframe\">\n",
       "  <thead>\n",
       "    <tr style=\"text-align: right;\">\n",
       "      <th></th>\n",
       "      <th>ticket_price_loss</th>\n",
       "    </tr>\n",
       "    <tr>\n",
       "      <th>flight_id</th>\n",
       "      <th></th>\n",
       "    </tr>\n",
       "  </thead>\n",
       "  <tbody>\n",
       "    <tr>\n",
       "      <th>136119</th>\n",
       "      <td>233000</td>\n",
       "    </tr>\n",
       "    <tr>\n",
       "      <th>136120</th>\n",
       "      <td>280600</td>\n",
       "    </tr>\n",
       "    <tr>\n",
       "      <th>136122</th>\n",
       "      <td>455000</td>\n",
       "    </tr>\n",
       "    <tr>\n",
       "      <th>136130</th>\n",
       "      <td>329400</td>\n",
       "    </tr>\n",
       "    <tr>\n",
       "      <th>136131</th>\n",
       "      <td>73200</td>\n",
       "    </tr>\n",
       "    <tr>\n",
       "      <th>...</th>\n",
       "      <td>...</td>\n",
       "    </tr>\n",
       "    <tr>\n",
       "      <th>136922</th>\n",
       "      <td>157500</td>\n",
       "    </tr>\n",
       "    <tr>\n",
       "      <th>136936</th>\n",
       "      <td>132900</td>\n",
       "    </tr>\n",
       "    <tr>\n",
       "      <th>136937</th>\n",
       "      <td>139200</td>\n",
       "    </tr>\n",
       "    <tr>\n",
       "      <th>136951</th>\n",
       "      <td>44700</td>\n",
       "    </tr>\n",
       "    <tr>\n",
       "      <th>136956</th>\n",
       "      <td>18900</td>\n",
       "    </tr>\n",
       "  </tbody>\n",
       "</table>\n",
       "<p>100 rows × 1 columns</p>\n",
       "</div>"
      ],
      "text/plain": [
       "           ticket_price_loss\n",
       "flight_id                   \n",
       "136119                233000\n",
       "136120                280600\n",
       "136122                455000\n",
       "136130                329400\n",
       "136131                 73200\n",
       "...                      ...\n",
       "136922                157500\n",
       "136936                132900\n",
       "136937                139200\n",
       "136951                 44700\n",
       "136956                 18900\n",
       "\n",
       "[100 rows x 1 columns]"
      ]
     },
     "execution_count": 51,
     "metadata": {},
     "output_type": "execute_result"
    }
   ],
   "source": [
    "flight_id_loss_profit = seat_empty.groupby(['flight_id'])[['ticket_price_loss']].sum()\n",
    "flight_id_loss_profit.sort_values(by = 'flight_id')"
   ]
  },
  {
   "cell_type": "markdown",
   "metadata": {
    "id": "IdhsD8KfuiSh"
   },
   "source": [
    "Объединим два датасета с данными о выручке с продаж и упущенной выгоде в один 'profit_total':"
   ]
  },
  {
   "cell_type": "code",
   "execution_count": 52,
   "metadata": {
    "colab": {
     "base_uri": "https://localhost:8080/",
     "height": 423
    },
    "executionInfo": {
     "elapsed": 380,
     "status": "ok",
     "timestamp": 1638331843756,
     "user": {
      "displayName": "An Mat",
      "photoUrl": "https://lh3.googleusercontent.com/a/default-user=s64",
      "userId": "17855782157325435961"
     },
     "user_tz": -600
    },
    "id": "DqnX01G3uiSh",
    "outputId": "a253cefe-2aab-419b-faca-66784e2a5c16"
   },
   "outputs": [
    {
     "data": {
      "text/html": [
       "<div>\n",
       "<style scoped>\n",
       "    .dataframe tbody tr th:only-of-type {\n",
       "        vertical-align: middle;\n",
       "    }\n",
       "\n",
       "    .dataframe tbody tr th {\n",
       "        vertical-align: top;\n",
       "    }\n",
       "\n",
       "    .dataframe thead th {\n",
       "        text-align: right;\n",
       "    }\n",
       "</style>\n",
       "<table border=\"1\" class=\"dataframe\">\n",
       "  <thead>\n",
       "    <tr style=\"text-align: right;\">\n",
       "      <th></th>\n",
       "      <th>flight_id</th>\n",
       "      <th>ticket_price</th>\n",
       "      <th>flight_no</th>\n",
       "      <th>fl_month</th>\n",
       "      <th>fl_day</th>\n",
       "      <th>model</th>\n",
       "      <th>fuel_cost</th>\n",
       "      <th>profit</th>\n",
       "      <th>ticket_price_loss</th>\n",
       "    </tr>\n",
       "  </thead>\n",
       "  <tbody>\n",
       "    <tr>\n",
       "      <th>0</th>\n",
       "      <td>136119</td>\n",
       "      <td>1653000.0</td>\n",
       "      <td>PG0252</td>\n",
       "      <td>1.0</td>\n",
       "      <td>3</td>\n",
       "      <td>Boeing 737-300</td>\n",
       "      <td>211870.97</td>\n",
       "      <td>1441129.03</td>\n",
       "      <td>233000.0</td>\n",
       "    </tr>\n",
       "    <tr>\n",
       "      <th>1</th>\n",
       "      <td>136120</td>\n",
       "      <td>1605400.0</td>\n",
       "      <td>PG0252</td>\n",
       "      <td>2.0</td>\n",
       "      <td>24</td>\n",
       "      <td>Boeing 737-300</td>\n",
       "      <td>202247.67</td>\n",
       "      <td>1403152.33</td>\n",
       "      <td>280600.0</td>\n",
       "    </tr>\n",
       "    <tr>\n",
       "      <th>2</th>\n",
       "      <td>136122</td>\n",
       "      <td>1431000.0</td>\n",
       "      <td>PG0252</td>\n",
       "      <td>1.0</td>\n",
       "      <td>8</td>\n",
       "      <td>Boeing 737-300</td>\n",
       "      <td>211870.97</td>\n",
       "      <td>1219129.03</td>\n",
       "      <td>455000.0</td>\n",
       "    </tr>\n",
       "    <tr>\n",
       "      <th>3</th>\n",
       "      <td>136130</td>\n",
       "      <td>1556600.0</td>\n",
       "      <td>PG0252</td>\n",
       "      <td>2.0</td>\n",
       "      <td>13</td>\n",
       "      <td>Boeing 737-300</td>\n",
       "      <td>202247.67</td>\n",
       "      <td>1354352.33</td>\n",
       "      <td>329400.0</td>\n",
       "    </tr>\n",
       "    <tr>\n",
       "      <th>4</th>\n",
       "      <td>136131</td>\n",
       "      <td>1812800.0</td>\n",
       "      <td>PG0252</td>\n",
       "      <td>1.0</td>\n",
       "      <td>28</td>\n",
       "      <td>Boeing 737-300</td>\n",
       "      <td>211870.97</td>\n",
       "      <td>1600929.03</td>\n",
       "      <td>73200.0</td>\n",
       "    </tr>\n",
       "    <tr>\n",
       "      <th>...</th>\n",
       "      <td>...</td>\n",
       "      <td>...</td>\n",
       "      <td>...</td>\n",
       "      <td>...</td>\n",
       "      <td>...</td>\n",
       "      <td>...</td>\n",
       "      <td>...</td>\n",
       "      <td>...</td>\n",
       "      <td>...</td>\n",
       "    </tr>\n",
       "    <tr>\n",
       "      <th>113</th>\n",
       "      <td>136936</td>\n",
       "      <td>632400.0</td>\n",
       "      <td>PG0480</td>\n",
       "      <td>1.0</td>\n",
       "      <td>2</td>\n",
       "      <td>Sukhoi Superjet-100</td>\n",
       "      <td>73339.95</td>\n",
       "      <td>559060.05</td>\n",
       "      <td>132900.0</td>\n",
       "    </tr>\n",
       "    <tr>\n",
       "      <th>114</th>\n",
       "      <td>136937</td>\n",
       "      <td>626100.0</td>\n",
       "      <td>PG0480</td>\n",
       "      <td>1.0</td>\n",
       "      <td>3</td>\n",
       "      <td>Sukhoi Superjet-100</td>\n",
       "      <td>73339.95</td>\n",
       "      <td>552760.05</td>\n",
       "      <td>139200.0</td>\n",
       "    </tr>\n",
       "    <tr>\n",
       "      <th>115</th>\n",
       "      <td>136951</td>\n",
       "      <td>720600.0</td>\n",
       "      <td>PG0480</td>\n",
       "      <td>2.0</td>\n",
       "      <td>2</td>\n",
       "      <td>Sukhoi Superjet-100</td>\n",
       "      <td>70008.81</td>\n",
       "      <td>650591.19</td>\n",
       "      <td>44700.0</td>\n",
       "    </tr>\n",
       "    <tr>\n",
       "      <th>116</th>\n",
       "      <td>136953</td>\n",
       "      <td>765300.0</td>\n",
       "      <td>PG0480</td>\n",
       "      <td>2.0</td>\n",
       "      <td>27</td>\n",
       "      <td>Sukhoi Superjet-100</td>\n",
       "      <td>70008.81</td>\n",
       "      <td>695291.19</td>\n",
       "      <td>NaN</td>\n",
       "    </tr>\n",
       "    <tr>\n",
       "      <th>117</th>\n",
       "      <td>136956</td>\n",
       "      <td>746400.0</td>\n",
       "      <td>PG0480</td>\n",
       "      <td>2.0</td>\n",
       "      <td>4</td>\n",
       "      <td>Sukhoi Superjet-100</td>\n",
       "      <td>70008.81</td>\n",
       "      <td>676391.19</td>\n",
       "      <td>18900.0</td>\n",
       "    </tr>\n",
       "  </tbody>\n",
       "</table>\n",
       "<p>118 rows × 9 columns</p>\n",
       "</div>"
      ],
      "text/plain": [
       "     flight_id  ticket_price flight_no  fl_month  fl_day                model  \\\n",
       "0       136119     1653000.0    PG0252       1.0       3       Boeing 737-300   \n",
       "1       136120     1605400.0    PG0252       2.0      24       Boeing 737-300   \n",
       "2       136122     1431000.0    PG0252       1.0       8       Boeing 737-300   \n",
       "3       136130     1556600.0    PG0252       2.0      13       Boeing 737-300   \n",
       "4       136131     1812800.0    PG0252       1.0      28       Boeing 737-300   \n",
       "..         ...           ...       ...       ...     ...                  ...   \n",
       "113     136936      632400.0    PG0480       1.0       2  Sukhoi Superjet-100   \n",
       "114     136937      626100.0    PG0480       1.0       3  Sukhoi Superjet-100   \n",
       "115     136951      720600.0    PG0480       2.0       2  Sukhoi Superjet-100   \n",
       "116     136953      765300.0    PG0480       2.0      27  Sukhoi Superjet-100   \n",
       "117     136956      746400.0    PG0480       2.0       4  Sukhoi Superjet-100   \n",
       "\n",
       "     fuel_cost      profit  ticket_price_loss  \n",
       "0    211870.97  1441129.03           233000.0  \n",
       "1    202247.67  1403152.33           280600.0  \n",
       "2    211870.97  1219129.03           455000.0  \n",
       "3    202247.67  1354352.33           329400.0  \n",
       "4    211870.97  1600929.03            73200.0  \n",
       "..         ...         ...                ...  \n",
       "113   73339.95   559060.05           132900.0  \n",
       "114   73339.95   552760.05           139200.0  \n",
       "115   70008.81   650591.19            44700.0  \n",
       "116   70008.81   695291.19                NaN  \n",
       "117   70008.81   676391.19            18900.0  \n",
       "\n",
       "[118 rows x 9 columns]"
      ]
     },
     "execution_count": 52,
     "metadata": {},
     "output_type": "execute_result"
    }
   ],
   "source": [
    "profit_total = profit_fact.merge(flight_id_loss_profit, on = 'flight_id', how = 'left')\n",
    "profit_total"
   ]
  },
  {
   "cell_type": "code",
   "execution_count": 53,
   "metadata": {
    "id": "j3D-qAQ0uiSh"
   },
   "outputs": [],
   "source": [
    "# заменим пропуски на 0, т.к. данных по упущенной выгоде нет для данных id рейсов\n",
    "profit_total.ticket_price_loss = profit_total.ticket_price_loss.fillna(0)"
   ]
  },
  {
   "cell_type": "code",
   "execution_count": 54,
   "metadata": {
    "id": "OMwzvOkmuiSh"
   },
   "outputs": [],
   "source": [
    "# создадим столбец 'profit_max' - максимально возможная прибыль на рейсе\n",
    "profit_total['profit_max'] = profit_total['profit'] + profit_total['ticket_price_loss']"
   ]
  },
  {
   "cell_type": "code",
   "execution_count": 55,
   "metadata": {
    "id": "yyWk5kHLuiSi"
   },
   "outputs": [],
   "source": [
    "# 75% от максимально возможной прибыли, как граница для оценки малоприбыльности рейса - столбец 'profit_0_75'\n",
    "profit_total['profit_0_75'] = (profit_total['profit_max']*0.75).apply(lambda x: \"{:.2f}\".format(x)).astype(float)"
   ]
  },
  {
   "cell_type": "markdown",
   "metadata": {
    "id": "J2s1juQ-uiSi"
   },
   "source": [
    "Далее выведем список малоприбыльных рейсов 'flight_unprofit', выручка с продаж у которых ниже 75%-го уровня от максимально возможной прибыли."
   ]
  },
  {
   "cell_type": "code",
   "execution_count": 56,
   "metadata": {
    "colab": {
     "base_uri": "https://localhost:8080/",
     "height": 331
    },
    "executionInfo": {
     "elapsed": 379,
     "status": "ok",
     "timestamp": 1638331911420,
     "user": {
      "displayName": "An Mat",
      "photoUrl": "https://lh3.googleusercontent.com/a/default-user=s64",
      "userId": "17855782157325435961"
     },
     "user_tz": -600
    },
    "id": "JohF2OzfuiSi",
    "outputId": "8981e098-6683-4511-c1c2-b86c8d6b38d5"
   },
   "outputs": [
    {
     "data": {
      "text/html": [
       "<div>\n",
       "<style scoped>\n",
       "    .dataframe tbody tr th:only-of-type {\n",
       "        vertical-align: middle;\n",
       "    }\n",
       "\n",
       "    .dataframe tbody tr th {\n",
       "        vertical-align: top;\n",
       "    }\n",
       "\n",
       "    .dataframe thead th {\n",
       "        text-align: right;\n",
       "    }\n",
       "</style>\n",
       "<table border=\"1\" class=\"dataframe\">\n",
       "  <thead>\n",
       "    <tr style=\"text-align: right;\">\n",
       "      <th></th>\n",
       "      <th>flight_id</th>\n",
       "      <th>flight_no</th>\n",
       "      <th>profit</th>\n",
       "      <th>profit_max</th>\n",
       "      <th>profit_0_75</th>\n",
       "    </tr>\n",
       "  </thead>\n",
       "  <tbody>\n",
       "    <tr>\n",
       "      <th>2</th>\n",
       "      <td>136122</td>\n",
       "      <td>PG0252</td>\n",
       "      <td>1219129.03</td>\n",
       "      <td>1674129.03</td>\n",
       "      <td>1255596.77</td>\n",
       "    </tr>\n",
       "    <tr>\n",
       "      <th>12</th>\n",
       "      <td>136178</td>\n",
       "      <td>PG0252</td>\n",
       "      <td>1222729.03</td>\n",
       "      <td>1674129.03</td>\n",
       "      <td>1255596.77</td>\n",
       "    </tr>\n",
       "    <tr>\n",
       "      <th>16</th>\n",
       "      <td>136204</td>\n",
       "      <td>PG0252</td>\n",
       "      <td>1255552.33</td>\n",
       "      <td>1683752.33</td>\n",
       "      <td>1262814.25</td>\n",
       "    </tr>\n",
       "    <tr>\n",
       "      <th>21</th>\n",
       "      <td>136250</td>\n",
       "      <td>PG0252</td>\n",
       "      <td>1205552.33</td>\n",
       "      <td>1683752.33</td>\n",
       "      <td>1262814.25</td>\n",
       "    </tr>\n",
       "    <tr>\n",
       "      <th>38</th>\n",
       "      <td>136360</td>\n",
       "      <td>PG0252</td>\n",
       "      <td>1253152.33</td>\n",
       "      <td>1683752.33</td>\n",
       "      <td>1262814.25</td>\n",
       "    </tr>\n",
       "    <tr>\n",
       "      <th>54</th>\n",
       "      <td>136464</td>\n",
       "      <td>PG0252</td>\n",
       "      <td>1186129.03</td>\n",
       "      <td>1674129.03</td>\n",
       "      <td>1255596.77</td>\n",
       "    </tr>\n",
       "    <tr>\n",
       "      <th>68</th>\n",
       "      <td>136642</td>\n",
       "      <td>PG0480</td>\n",
       "      <td>457660.05</td>\n",
       "      <td>691960.05</td>\n",
       "      <td>518970.04</td>\n",
       "    </tr>\n",
       "    <tr>\n",
       "      <th>93</th>\n",
       "      <td>136807</td>\n",
       "      <td>PG0480</td>\n",
       "      <td>460991.19</td>\n",
       "      <td>695291.19</td>\n",
       "      <td>521468.39</td>\n",
       "    </tr>\n",
       "    <tr>\n",
       "      <th>100</th>\n",
       "      <td>136844</td>\n",
       "      <td>PG0480</td>\n",
       "      <td>505091.19</td>\n",
       "      <td>695291.19</td>\n",
       "      <td>521468.39</td>\n",
       "    </tr>\n",
       "  </tbody>\n",
       "</table>\n",
       "</div>"
      ],
      "text/plain": [
       "     flight_id flight_no      profit  profit_max  profit_0_75\n",
       "2       136122    PG0252  1219129.03  1674129.03   1255596.77\n",
       "12      136178    PG0252  1222729.03  1674129.03   1255596.77\n",
       "16      136204    PG0252  1255552.33  1683752.33   1262814.25\n",
       "21      136250    PG0252  1205552.33  1683752.33   1262814.25\n",
       "38      136360    PG0252  1253152.33  1683752.33   1262814.25\n",
       "54      136464    PG0252  1186129.03  1674129.03   1255596.77\n",
       "68      136642    PG0480   457660.05   691960.05    518970.04\n",
       "93      136807    PG0480   460991.19   695291.19    521468.39\n",
       "100     136844    PG0480   505091.19   695291.19    521468.39"
      ]
     },
     "execution_count": 56,
     "metadata": {},
     "output_type": "execute_result"
    }
   ],
   "source": [
    "flight_unprofit = profit_total[profit_total.profit < profit_total.profit_0_75\\\n",
    "                              ][['flight_id', 'flight_no', 'profit', 'profit_max', 'profit_0_75']]\n",
    "flight_unprofit"
   ]
  },
  {
   "cell_type": "markdown",
   "metadata": {
    "id": "frjuiMr5PzZb"
   },
   "source": [
    "Создадим датафрейм 'flight_small' из 'flight' и объединим его с 'flight_unprofit' для дальнейшего анализа"
   ]
  },
  {
   "cell_type": "code",
   "execution_count": 57,
   "metadata": {
    "executionInfo": {
     "elapsed": 407,
     "status": "ok",
     "timestamp": 1638332714677,
     "user": {
      "displayName": "An Mat",
      "photoUrl": "https://lh3.googleusercontent.com/a/default-user=s64",
      "userId": "17855782157325435961"
     },
     "user_tz": -600
    },
    "id": "b0Iknd2yuiSi"
   },
   "outputs": [],
   "source": [
    "flight_small = flight[['flight_id', 'city_depart', 'city_arrive', 'scheduled_departure',\n",
    "                      'scheduled_arrival', 'fl_month', 'fl_day', 'model']]"
   ]
  },
  {
   "cell_type": "code",
   "execution_count": 58,
   "metadata": {
    "colab": {
     "base_uri": "https://localhost:8080/",
     "height": 331
    },
    "executionInfo": {
     "elapsed": 438,
     "status": "ok",
     "timestamp": 1638333012573,
     "user": {
      "displayName": "An Mat",
      "photoUrl": "https://lh3.googleusercontent.com/a/default-user=s64",
      "userId": "17855782157325435961"
     },
     "user_tz": -600
    },
    "id": "Q-y08IR3uiSj",
    "outputId": "e14ba339-0e0f-469c-a95a-728237199fa8"
   },
   "outputs": [
    {
     "data": {
      "text/html": [
       "<div>\n",
       "<style scoped>\n",
       "    .dataframe tbody tr th:only-of-type {\n",
       "        vertical-align: middle;\n",
       "    }\n",
       "\n",
       "    .dataframe tbody tr th {\n",
       "        vertical-align: top;\n",
       "    }\n",
       "\n",
       "    .dataframe thead th {\n",
       "        text-align: right;\n",
       "    }\n",
       "</style>\n",
       "<table border=\"1\" class=\"dataframe\">\n",
       "  <thead>\n",
       "    <tr style=\"text-align: right;\">\n",
       "      <th></th>\n",
       "      <th>flight_id</th>\n",
       "      <th>flight_no</th>\n",
       "      <th>profit</th>\n",
       "      <th>profit_max</th>\n",
       "      <th>profit_0_75</th>\n",
       "      <th>city_depart</th>\n",
       "      <th>city_arrive</th>\n",
       "      <th>scheduled_departure</th>\n",
       "      <th>scheduled_arrival</th>\n",
       "      <th>fl_month</th>\n",
       "      <th>fl_day</th>\n",
       "      <th>model</th>\n",
       "    </tr>\n",
       "  </thead>\n",
       "  <tbody>\n",
       "    <tr>\n",
       "      <th>0</th>\n",
       "      <td>136122</td>\n",
       "      <td>PG0252</td>\n",
       "      <td>1219129.03</td>\n",
       "      <td>1674129.03</td>\n",
       "      <td>1255596.77</td>\n",
       "      <td>Anapa</td>\n",
       "      <td>Moscow</td>\n",
       "      <td>2017-01-08 10:05:00+00:00</td>\n",
       "      <td>2017-01-08T11:45:00Z</td>\n",
       "      <td>1.0</td>\n",
       "      <td>8</td>\n",
       "      <td>Boeing 737-300</td>\n",
       "    </tr>\n",
       "    <tr>\n",
       "      <th>130</th>\n",
       "      <td>136178</td>\n",
       "      <td>PG0252</td>\n",
       "      <td>1222729.03</td>\n",
       "      <td>1674129.03</td>\n",
       "      <td>1255596.77</td>\n",
       "      <td>Anapa</td>\n",
       "      <td>Moscow</td>\n",
       "      <td>2017-01-29 10:05:00+00:00</td>\n",
       "      <td>2017-01-29T11:45:00Z</td>\n",
       "      <td>1.0</td>\n",
       "      <td>29</td>\n",
       "      <td>Boeing 737-300</td>\n",
       "    </tr>\n",
       "    <tr>\n",
       "      <th>260</th>\n",
       "      <td>136204</td>\n",
       "      <td>PG0252</td>\n",
       "      <td>1255552.33</td>\n",
       "      <td>1683752.33</td>\n",
       "      <td>1262814.25</td>\n",
       "      <td>Anapa</td>\n",
       "      <td>Moscow</td>\n",
       "      <td>2017-02-23 10:05:00+00:00</td>\n",
       "      <td>2017-02-23T11:45:00Z</td>\n",
       "      <td>2.0</td>\n",
       "      <td>23</td>\n",
       "      <td>Boeing 737-300</td>\n",
       "    </tr>\n",
       "    <tr>\n",
       "      <th>390</th>\n",
       "      <td>136250</td>\n",
       "      <td>PG0252</td>\n",
       "      <td>1205552.33</td>\n",
       "      <td>1683752.33</td>\n",
       "      <td>1262814.25</td>\n",
       "      <td>Anapa</td>\n",
       "      <td>Moscow</td>\n",
       "      <td>2017-02-08 10:05:00+00:00</td>\n",
       "      <td>2017-02-08T11:45:00Z</td>\n",
       "      <td>2.0</td>\n",
       "      <td>8</td>\n",
       "      <td>Boeing 737-300</td>\n",
       "    </tr>\n",
       "    <tr>\n",
       "      <th>520</th>\n",
       "      <td>136360</td>\n",
       "      <td>PG0252</td>\n",
       "      <td>1253152.33</td>\n",
       "      <td>1683752.33</td>\n",
       "      <td>1262814.25</td>\n",
       "      <td>Anapa</td>\n",
       "      <td>Moscow</td>\n",
       "      <td>2017-02-05 10:05:00+00:00</td>\n",
       "      <td>2017-02-05T11:45:00Z</td>\n",
       "      <td>2.0</td>\n",
       "      <td>5</td>\n",
       "      <td>Boeing 737-300</td>\n",
       "    </tr>\n",
       "    <tr>\n",
       "      <th>650</th>\n",
       "      <td>136464</td>\n",
       "      <td>PG0252</td>\n",
       "      <td>1186129.03</td>\n",
       "      <td>1674129.03</td>\n",
       "      <td>1255596.77</td>\n",
       "      <td>Anapa</td>\n",
       "      <td>Moscow</td>\n",
       "      <td>2017-01-09 10:05:00+00:00</td>\n",
       "      <td>2017-01-09T11:45:00Z</td>\n",
       "      <td>1.0</td>\n",
       "      <td>9</td>\n",
       "      <td>Boeing 737-300</td>\n",
       "    </tr>\n",
       "    <tr>\n",
       "      <th>780</th>\n",
       "      <td>136642</td>\n",
       "      <td>PG0480</td>\n",
       "      <td>457660.05</td>\n",
       "      <td>691960.05</td>\n",
       "      <td>518970.04</td>\n",
       "      <td>Anapa</td>\n",
       "      <td>Belgorod</td>\n",
       "      <td>2017-01-30 09:25:00+00:00</td>\n",
       "      <td>2017-01-30T10:15:00Z</td>\n",
       "      <td>1.0</td>\n",
       "      <td>30</td>\n",
       "      <td>Sukhoi Superjet-100</td>\n",
       "    </tr>\n",
       "    <tr>\n",
       "      <th>877</th>\n",
       "      <td>136807</td>\n",
       "      <td>PG0480</td>\n",
       "      <td>460991.19</td>\n",
       "      <td>695291.19</td>\n",
       "      <td>521468.39</td>\n",
       "      <td>Anapa</td>\n",
       "      <td>Belgorod</td>\n",
       "      <td>2017-02-23 09:25:00+00:00</td>\n",
       "      <td>2017-02-23T10:15:00Z</td>\n",
       "      <td>2.0</td>\n",
       "      <td>23</td>\n",
       "      <td>Sukhoi Superjet-100</td>\n",
       "    </tr>\n",
       "    <tr>\n",
       "      <th>974</th>\n",
       "      <td>136844</td>\n",
       "      <td>PG0480</td>\n",
       "      <td>505091.19</td>\n",
       "      <td>695291.19</td>\n",
       "      <td>521468.39</td>\n",
       "      <td>Anapa</td>\n",
       "      <td>Belgorod</td>\n",
       "      <td>2017-02-28 09:25:00+00:00</td>\n",
       "      <td>2017-02-28T10:15:00Z</td>\n",
       "      <td>2.0</td>\n",
       "      <td>28</td>\n",
       "      <td>Sukhoi Superjet-100</td>\n",
       "    </tr>\n",
       "  </tbody>\n",
       "</table>\n",
       "</div>"
      ],
      "text/plain": [
       "     flight_id flight_no      profit  profit_max  profit_0_75 city_depart  \\\n",
       "0       136122    PG0252  1219129.03  1674129.03   1255596.77       Anapa   \n",
       "130     136178    PG0252  1222729.03  1674129.03   1255596.77       Anapa   \n",
       "260     136204    PG0252  1255552.33  1683752.33   1262814.25       Anapa   \n",
       "390     136250    PG0252  1205552.33  1683752.33   1262814.25       Anapa   \n",
       "520     136360    PG0252  1253152.33  1683752.33   1262814.25       Anapa   \n",
       "650     136464    PG0252  1186129.03  1674129.03   1255596.77       Anapa   \n",
       "780     136642    PG0480   457660.05   691960.05    518970.04       Anapa   \n",
       "877     136807    PG0480   460991.19   695291.19    521468.39       Anapa   \n",
       "974     136844    PG0480   505091.19   695291.19    521468.39       Anapa   \n",
       "\n",
       "    city_arrive       scheduled_departure     scheduled_arrival  fl_month  \\\n",
       "0        Moscow 2017-01-08 10:05:00+00:00  2017-01-08T11:45:00Z       1.0   \n",
       "130      Moscow 2017-01-29 10:05:00+00:00  2017-01-29T11:45:00Z       1.0   \n",
       "260      Moscow 2017-02-23 10:05:00+00:00  2017-02-23T11:45:00Z       2.0   \n",
       "390      Moscow 2017-02-08 10:05:00+00:00  2017-02-08T11:45:00Z       2.0   \n",
       "520      Moscow 2017-02-05 10:05:00+00:00  2017-02-05T11:45:00Z       2.0   \n",
       "650      Moscow 2017-01-09 10:05:00+00:00  2017-01-09T11:45:00Z       1.0   \n",
       "780    Belgorod 2017-01-30 09:25:00+00:00  2017-01-30T10:15:00Z       1.0   \n",
       "877    Belgorod 2017-02-23 09:25:00+00:00  2017-02-23T10:15:00Z       2.0   \n",
       "974    Belgorod 2017-02-28 09:25:00+00:00  2017-02-28T10:15:00Z       2.0   \n",
       "\n",
       "     fl_day                model  \n",
       "0         8       Boeing 737-300  \n",
       "130      29       Boeing 737-300  \n",
       "260      23       Boeing 737-300  \n",
       "390       8       Boeing 737-300  \n",
       "520       5       Boeing 737-300  \n",
       "650       9       Boeing 737-300  \n",
       "780      30  Sukhoi Superjet-100  \n",
       "877      23  Sukhoi Superjet-100  \n",
       "974      28  Sukhoi Superjet-100  "
      ]
     },
     "execution_count": 58,
     "metadata": {},
     "output_type": "execute_result"
    }
   ],
   "source": [
    "flight_small = flight_unprofit.merge(flight_small, on = 'flight_id', how = 'inner').drop_duplicates()\n",
    "flight_small"
   ]
  },
  {
   "cell_type": "code",
   "execution_count": 59,
   "metadata": {},
   "outputs": [
    {
     "data": {
      "image/png": "[encoded data removed]",
      "text/plain": [
       "<Figure size 648x648 with 1 Axes>"
      ]
     },
     "metadata": {},
     "output_type": "display_data"
    }
   ],
   "source": [
    "flight_small[['flight_id', 'profit', 'profit_0_75', 'profit_max' \\\n",
    "             ]].set_index('flight_id').sort_index(ascending=False\\\n",
    "                                                 ).plot.barh(figsize=(9, 9),\\\n",
    "                                                             title='Прибыль в разрезе номера рейса (январь-февраль 2017)',\\\n",
    "                                                             ylabel=\"Прибыль\", xlabel=\"ID рейса\")\n",
    "sns.set_theme(palette=\"pastel\")\n",
    "plt.subplots_adjust(hspace=0.35)\n",
    "plt.legend([\"Прибыль фактическая\", \"Граница по прибыли в 75% от max\", \"Прибыль максимально возможная\"])\n",
    "plt.show()"
   ]
  },
  {
   "cell_type": "markdown",
   "metadata": {},
   "source": [
    "Мы получили список малоприбыльных рейсов, выручка с продаж у которых ниже 75%-го уровня от максимально возможной прибыли. \n",
    "\n",
    "Ниже представлен график отобранных ранее малоприбыльных рейсов, в котором содержится информация по дню и месяцу вылета, а также модели самолета и номеру ID."
   ]
  },
  {
   "cell_type": "code",
   "execution_count": 60,
   "metadata": {},
   "outputs": [
    {
     "data": {
      "image/png": "[encoded data removed]",
      "text/plain": [
       "<Figure size 859.725x360 with 2 Axes>"
      ]
     },
     "metadata": {},
     "output_type": "display_data"
    }
   ],
   "source": [
    "g = sns.catplot(x=\"fl_day\", y=\"flight_id\", hue=\"model\", col=\"fl_month\",\\\n",
    "            kind=\"point\", data=flight_small)\n",
    "(g.set_axis_labels(\"\", \"ID рейса\").set_titles(\"Январь\"))    \n",
    "plt.title('Февраль')   \n",
    "g.fig.subplots_adjust(top=0.85)\n",
    "g.fig.suptitle('Малоприбыльные рейсы в разрезе дней вылета и моделей (январь-февраль 2017)', fontsize=16)       \n",
    "plt.show()"
   ]
  },
  {
   "cell_type": "markdown",
   "metadata": {},
   "source": [
    "### Подведем итоги:\n",
    "В результате EDA были получены следующие выводы:\n",
    "\n",
    "1) Из 127-ми рейсов, совершенных зимой 2017 года из г. Анапа, малоприбыльными (выручка с продаж у которых ниже 75%-го уровня от максимально возможной прибыли) оказались всего 9 рейсов;\\\n",
    "2) Данные рейсы летают по 2-м направлениям: Анапа-Москва и Анапа-Белгород;\\\n",
    "3) Был получен следующий список малоприбыльных рейсов по направлениям:\n",
    "1. Анапа-Москва - (136122, 136178, 136204, 136250, 136360, 136464),\n",
    "2. Анапа-Белгород - (136642, 136807, 136844);\n",
    "\n",
    "4) Представлено 2 модели самолетов по указанным направлениям: Boeing 737-300 (Анапа-Москва) и Sukhoi Superjet-100 (Анапа-Белгород);\\\n",
    "5) На каждом самолете представлено всего 2 класса обслуживания: Бизнес и Эконом;\\\n",
    "6) Количество доступных мест для каждой модели:\n",
    "1. Boeing 737-300 - 12 мест в Бизнес-классе, 118 мест в Эконом-классе,\n",
    "2. Sukhoi Superjet-100 - 12 мест в Бизнес-классе, 85 мест в Эконом-классе;\n",
    "\n",
    "7) Были получены следующие данные по стоимости билетов:\n",
    "1. Boeing 737-300: 'Business' = 36600 руб., 'Economy' = 12200 руб., 'Economy' (места 11) = 13400 руб.,\n",
    "2. Sukhoi Superjet-100: 'Business' = 18900 руб., 'Economy' = 6300 руб., 'Economy' (места 6) = 6900 руб;\n",
    "\n",
    "8) Стоимость билета в феврале осталась на уровне января;\\\n",
    "9) Можно заметить, что в определенные дни борт самолета Boeing 737-300 совершал два полета (предоставляя 260 мест), однако заполняемость в разрезе каждого дня не выходила за рамки 150 мест. Возможно, что именно в эти дни один из рейсов мог оказаться малоприбыльным."
   ]
  },
  {
   "cell_type": "markdown",
   "metadata": {},
   "source": [
    "На основании полученной информации, возможны следующие пути повышения прибыльности рейсов по данным направлениям:\n",
    "1) Оставить один рейс на определенные графиком вылета дни (в связи с низкой заполняемостью);\\\n",
    "2) Повысить стоимость билета в Эконом-класс в праздничные дни (+-1 день);\\\n",
    "3) В качестве эксперимента понизить стоимость билета в Бизнес-класс в праздничные дни (+-1 день). Основная выручка от продаж приходится на пассажиров Эконом-класса."
   ]
  },
  {
   "cell_type": "code",
   "execution_count": null,
   "metadata": {},
   "outputs": [],
   "source": []
  }
 ],
 "metadata": {
  "colab": {
   "collapsed_sections": [],
   "name": "Project_4_flights-Copy1.ipynb",
   "provenance": []
  },
  "kernelspec": {
   "display_name": "Python 3",
   "language": "python",
   "name": "python3"
  },
  "language_info": {
   "codemirror_mode": {
    "name": "ipython",
    "version": 3
   },
   "file_extension": ".py",
   "mimetype": "text/x-python",
   "name": "python",
   "nbconvert_exporter": "python",
   "pygments_lexer": "ipython3",
   "version": "3.8.5"
  }
 },
 "nbformat": 4,
 "nbformat_minor": 1
}
